{
 "cells": [
  {
   "cell_type": "code",
   "execution_count": 1,
   "metadata": {},
   "outputs": [],
   "source": [
    "import pandas as pd\n",
    "import numpy as np"
   ]
  },
  {
   "cell_type": "code",
   "execution_count": 2,
   "metadata": {},
   "outputs": [],
   "source": [
    "train = pd.read_csv('train.csv')\n",
    "test = pd.read_csv('test.csv')"
   ]
  },
  {
   "cell_type": "code",
   "execution_count": 3,
   "metadata": {},
   "outputs": [
    {
     "data": {
      "text/html": [
       "<div>\n",
       "<style scoped>\n",
       "    .dataframe tbody tr th:only-of-type {\n",
       "        vertical-align: middle;\n",
       "    }\n",
       "\n",
       "    .dataframe tbody tr th {\n",
       "        vertical-align: top;\n",
       "    }\n",
       "\n",
       "    .dataframe thead th {\n",
       "        text-align: right;\n",
       "    }\n",
       "</style>\n",
       "<table border=\"1\" class=\"dataframe\">\n",
       "  <thead>\n",
       "    <tr style=\"text-align: right;\">\n",
       "      <th></th>\n",
       "      <th>textID</th>\n",
       "      <th>text</th>\n",
       "      <th>selected_text</th>\n",
       "      <th>sentiment</th>\n",
       "    </tr>\n",
       "  </thead>\n",
       "  <tbody>\n",
       "    <tr>\n",
       "      <th>0</th>\n",
       "      <td>cb774db0d1</td>\n",
       "      <td>I`d have responded, if I were going</td>\n",
       "      <td>I`d have responded, if I were going</td>\n",
       "      <td>neutral</td>\n",
       "    </tr>\n",
       "    <tr>\n",
       "      <th>1</th>\n",
       "      <td>549e992a42</td>\n",
       "      <td>Sooo SAD I will miss you here in San Diego!!!</td>\n",
       "      <td>Sooo SAD</td>\n",
       "      <td>negative</td>\n",
       "    </tr>\n",
       "    <tr>\n",
       "      <th>2</th>\n",
       "      <td>088c60f138</td>\n",
       "      <td>my boss is bullying me...</td>\n",
       "      <td>bullying me</td>\n",
       "      <td>negative</td>\n",
       "    </tr>\n",
       "    <tr>\n",
       "      <th>3</th>\n",
       "      <td>9642c003ef</td>\n",
       "      <td>what interview! leave me alone</td>\n",
       "      <td>leave me alone</td>\n",
       "      <td>negative</td>\n",
       "    </tr>\n",
       "    <tr>\n",
       "      <th>4</th>\n",
       "      <td>358bd9e861</td>\n",
       "      <td>Sons of ****, why couldn`t they put them on t...</td>\n",
       "      <td>Sons of ****,</td>\n",
       "      <td>negative</td>\n",
       "    </tr>\n",
       "  </tbody>\n",
       "</table>\n",
       "</div>"
      ],
      "text/plain": [
       "       textID                                               text  \\\n",
       "0  cb774db0d1                I`d have responded, if I were going   \n",
       "1  549e992a42      Sooo SAD I will miss you here in San Diego!!!   \n",
       "2  088c60f138                          my boss is bullying me...   \n",
       "3  9642c003ef                     what interview! leave me alone   \n",
       "4  358bd9e861   Sons of ****, why couldn`t they put them on t...   \n",
       "\n",
       "                         selected_text sentiment  \n",
       "0  I`d have responded, if I were going   neutral  \n",
       "1                             Sooo SAD  negative  \n",
       "2                          bullying me  negative  \n",
       "3                       leave me alone  negative  \n",
       "4                        Sons of ****,  negative  "
      ]
     },
     "execution_count": 3,
     "metadata": {},
     "output_type": "execute_result"
    }
   ],
   "source": [
    "train.head()"
   ]
  },
  {
   "cell_type": "code",
   "execution_count": 4,
   "metadata": {},
   "outputs": [
    {
     "data": {
      "text/plain": [
       "(27481, 4)"
      ]
     },
     "execution_count": 4,
     "metadata": {},
     "output_type": "execute_result"
    }
   ],
   "source": [
    "train.shape"
   ]
  },
  {
   "cell_type": "code",
   "execution_count": 5,
   "metadata": {},
   "outputs": [
    {
     "data": {
      "text/html": [
       "<div>\n",
       "<style scoped>\n",
       "    .dataframe tbody tr th:only-of-type {\n",
       "        vertical-align: middle;\n",
       "    }\n",
       "\n",
       "    .dataframe tbody tr th {\n",
       "        vertical-align: top;\n",
       "    }\n",
       "\n",
       "    .dataframe thead th {\n",
       "        text-align: right;\n",
       "    }\n",
       "</style>\n",
       "<table border=\"1\" class=\"dataframe\">\n",
       "  <thead>\n",
       "    <tr style=\"text-align: right;\">\n",
       "      <th></th>\n",
       "      <th>textID</th>\n",
       "      <th>text</th>\n",
       "      <th>selected_text</th>\n",
       "      <th>sentiment</th>\n",
       "    </tr>\n",
       "  </thead>\n",
       "  <tbody>\n",
       "    <tr>\n",
       "      <th>314</th>\n",
       "      <td>fdb77c3752</td>\n",
       "      <td>NaN</td>\n",
       "      <td>NaN</td>\n",
       "      <td>neutral</td>\n",
       "    </tr>\n",
       "  </tbody>\n",
       "</table>\n",
       "</div>"
      ],
      "text/plain": [
       "         textID text selected_text sentiment\n",
       "314  fdb77c3752  NaN           NaN   neutral"
      ]
     },
     "execution_count": 5,
     "metadata": {},
     "output_type": "execute_result"
    }
   ],
   "source": [
    "train[train.text.isnull()]"
   ]
  },
  {
   "cell_type": "code",
   "execution_count": 6,
   "metadata": {},
   "outputs": [],
   "source": [
    "#remove nan entries\n",
    "train = train[train.text.isnull()==False].reset_index()"
   ]
  },
  {
   "cell_type": "code",
   "execution_count": 7,
   "metadata": {
    "scrolled": true
   },
   "outputs": [
    {
     "data": {
      "text/plain": [
       "(27480, 5)"
      ]
     },
     "execution_count": 7,
     "metadata": {},
     "output_type": "execute_result"
    }
   ],
   "source": [
    "train.shape"
   ]
  },
  {
   "cell_type": "code",
   "execution_count": 8,
   "metadata": {},
   "outputs": [],
   "source": [
    "%matplotlib inline"
   ]
  },
  {
   "cell_type": "code",
   "execution_count": 9,
   "metadata": {},
   "outputs": [],
   "source": [
    "from matplotlib import pyplot as plt"
   ]
  },
  {
   "cell_type": "code",
   "execution_count": 10,
   "metadata": {},
   "outputs": [
    {
     "data": {
      "image/png": "[encoded data removed]",
      "text/plain": [
       "<Figure size 432x288 with 1 Axes>"
      ]
     },
     "metadata": {
      "needs_background": "light"
     },
     "output_type": "display_data"
    }
   ],
   "source": [
    "plt.bar(x=[0,1,2], height=[len(train[train.sentiment=='positive']),len(train[train.sentiment=='neutral']),len(train[train.sentiment=='negative'])],color=['g','orange','firebrick'])\n",
    "plt.xticks([0,1,2], ['positive','neutral','negative'])\n",
    "plt.xlabel('Sentiment')\n",
    "plt.ylabel('# of tweets')\n",
    "plt.title('Class Distribution - Training Set')\n",
    "plt.show()"
   ]
  },
  {
   "cell_type": "code",
   "execution_count": 11,
   "metadata": {},
   "outputs": [
    {
     "data": {
      "image/png": "[encoded data removed]",
      "text/plain": [
       "<Figure size 432x288 with 1 Axes>"
      ]
     },
     "metadata": {
      "needs_background": "light"
     },
     "output_type": "display_data"
    }
   ],
   "source": [
    "plt.bar(x=[0,1,2], height=[len(test[test.sentiment=='positive']),len(test[test.sentiment=='neutral']),len(test[test.sentiment=='negative'])],color=['g','orange','firebrick'])\n",
    "plt.xticks([0,1,2], ['positive','neutral','negative'])\n",
    "plt.xlabel('Sentiment')\n",
    "plt.ylabel('# of tweets')\n",
    "plt.title('Class Distribution - Test Set')\n",
    "plt.show()"
   ]
  },
  {
   "cell_type": "markdown",
   "metadata": {},
   "source": [
    "### Text pre-processing ###"
   ]
  },
  {
   "cell_type": "markdown",
   "metadata": {},
   "source": [
    "We will create a bag of words - a matrix where there is a row corresonding to each tweet and a column for each word in all the tweets, with 1s and 0s indicating whether a given tween contains a given word or not.   "
   ]
  },
  {
   "cell_type": "markdown",
   "metadata": {},
   "source": [
    "But first let's consider a common issue with tweets. Twitter users tend to use repeated letters to emphasize words. For example one may write 'I looove this pizza' or 'This movie is sooo goood!'. We would ideally want our classifier to understand that 'looove' is the same as 'love' and 'sooo goood' is the same as 'so good'. Therefore, we need to pre-process the text of each tweet to remove duplicate letters. However, we must be careful because some English words actually have repeating letters - for example 'goood' must be interpreted as 'good' and not 'god'."
   ]
  },
  {
   "cell_type": "markdown",
   "metadata": {},
   "source": [
    "Note: some of the next cells are commented to avoid running computationally intensive calculations multiple times. In contrast, the following code has been ran once and the results were stored in a .pkl file so that they can be loaded every time the notebook is used."
   ]
  },
  {
   "cell_type": "code",
   "execution_count": 12,
   "metadata": {
    "scrolled": true
   },
   "outputs": [],
   "source": [
    "# #create count_vector and fit it to the train data\n",
    "# from sklearn.feature_extraction.text import CountVectorizer\n",
    "# count_vector = CountVectorizer(lowercase=True, stop_words='english') #  exclude common words in English\n",
    "# count_vector.fit(train['text'].get_values())"
   ]
  },
  {
   "cell_type": "code",
   "execution_count": 13,
   "metadata": {},
   "outputs": [],
   "source": [
    "# #transform train to bag of words matrix\n",
    "# train_matrix = count_vector.transform(train['text']).toarray()\n",
    "# words_matrix =  pd.DataFrame(train_matrix, columns = count_vector.get_feature_names())"
   ]
  },
  {
   "cell_type": "code",
   "execution_count": 14,
   "metadata": {},
   "outputs": [],
   "source": [
    "#functions to write and save object (so that we don't have to run computationally intensive algorithms every time the notebook is re-opened)\n",
    "import pickle\n",
    "def save_obj(obj, name):\n",
    "    with open('obj/'+ name + '.pkl', 'wb') as f:\n",
    "        pickle.dump(obj, f, pickle.HIGHEST_PROTOCOL)\n",
    "\n",
    "def load_obj(name):\n",
    "    with open('obj/' + name + '.pkl', 'rb') as f:\n",
    "        return pickle.load(f)"
   ]
  },
  {
   "cell_type": "code",
   "execution_count": 15,
   "metadata": {},
   "outputs": [],
   "source": [
    "# #Algorithm to obtain a dictionary of non-existent words with repeated letters to correct English words\n",
    "# import re\n",
    "# all_words = words_matrix.columns.values\n",
    "# word_dict = {}\n",
    "# for word in all_words:\n",
    "#     word_a = re.sub(r'(.)\\1+', r'\\1', word) #word with repeated characters reduced to 1 character\n",
    "#     word_b = re.sub(r'(.)\\1+', r'\\1\\1', word) #word with repeated characters reduced to 2 characters\n",
    "    \n",
    "#     #get count of each of the variations of the word in all sentences\n",
    "#     count_ = words_matrix.word.sum(axis=0)\n",
    "#     count_a = words_matrix[word_a].sum(axis=0) if word_a in all_words else 0\n",
    "#     count_b = words_matrix[word_b].sum(axis=0) if word_b in all_words else 0\n",
    "    \n",
    "#     #determine which is the most common variation of the word\n",
    "#     if count_ < count_a and count_a > count_b:\n",
    "#         word_dict[word] = word_a\n",
    "#     elif count_ < count_b and count_b > count_a:\n",
    "#         word_dict[word] =  word_b\n",
    "#     else:\n",
    "#         word_dict[word] = word\n",
    "\n",
    "# save_obj(word_dict, 'repeated_letters_dict')"
   ]
  },
  {
   "cell_type": "code",
   "execution_count": 16,
   "metadata": {},
   "outputs": [],
   "source": [
    "word_dict = load_obj('repeated_letters_dict') #load pre-calculated dictionary"
   ]
  },
  {
   "cell_type": "code",
   "execution_count": 17,
   "metadata": {},
   "outputs": [
    {
     "data": {
      "text/plain": [
       "'good'"
      ]
     },
     "execution_count": 17,
     "metadata": {},
     "output_type": "execute_result"
    }
   ],
   "source": [
    "word_dict['goood']"
   ]
  },
  {
   "cell_type": "code",
   "execution_count": 18,
   "metadata": {},
   "outputs": [
    {
     "data": {
      "text/plain": [
       "'love'"
      ]
     },
     "execution_count": 18,
     "metadata": {},
     "output_type": "execute_result"
    }
   ],
   "source": [
    "word_dict['looove']"
   ]
  },
  {
   "cell_type": "code",
   "execution_count": 19,
   "metadata": {},
   "outputs": [],
   "source": [
    "def remove_repeated_chars(sentence, word_dict):\n",
    "    import string\n",
    "    sentence = sentence.translate(str.maketrans('', '', string.punctuation)) #remove punctuation from string \n",
    "    translated = []\n",
    "    #translate each word using word_dict - i.e. convert non-existent words with repeating letters to correct words\n",
    "    for x in list(sentence.split()):\n",
    "        t = word_dict.get(x.lower(), x)\n",
    "        translated.append(t)\n",
    "    newphrase = ' '.join(translated)\n",
    "    return newphrase"
   ]
  },
  {
   "cell_type": "code",
   "execution_count": 20,
   "metadata": {},
   "outputs": [],
   "source": [
    "#store copy of training and test sets' text field with no repeating characters\n",
    "train_text_norm = train.text.apply(lambda x: remove_repeated_chars(x, word_dict))\n",
    "test_text_norm = test.text.apply(lambda x: remove_repeated_chars(x, word_dict))"
   ]
  },
  {
   "cell_type": "code",
   "execution_count": 306,
   "metadata": {},
   "outputs": [
    {
     "data": {
      "text/plain": [
       "CountVectorizer(analyzer='word', binary=True, decode_error='strict',\n",
       "        dtype=<class 'numpy.int64'>, encoding='utf-8', input='content',\n",
       "        lowercase=True, max_df=1.0, max_features=None, min_df=1,\n",
       "        ngram_range=(1, 1), preprocessor=None, stop_words='english',\n",
       "        strip_accents='ascii', token_pattern='(?u)\\\\b\\\\w\\\\w+\\\\b',\n",
       "        tokenizer=None, vocabulary=None)"
      ]
     },
     "execution_count": 306,
     "metadata": {},
     "output_type": "execute_result"
    }
   ],
   "source": [
    "#create count_vector and fit it to the train data\n",
    "from sklearn.feature_extraction.text import CountVectorizer\n",
    "count_vector = CountVectorizer(lowercase=True, stop_words='english', strip_accents='ascii', binary=True)\n",
    "count_vector.fit(train_text_norm.get_values())"
   ]
  },
  {
   "cell_type": "code",
   "execution_count": 307,
   "metadata": {},
   "outputs": [],
   "source": [
    "#transform train to bag of words matrix\n",
    "train_matrix_norm = count_vector.transform(train_text_norm)\n",
    "train_df_norm =  pd.DataFrame(train_matrix_norm.toarray(), columns = count_vector.get_feature_names())"
   ]
  },
  {
   "cell_type": "code",
   "execution_count": 308,
   "metadata": {},
   "outputs": [],
   "source": [
    "#transform test to bag of words matrix, using count vectorizer fitted to train data\n",
    "test_matrix_norm = count_vector.transform(test_text_norm)\n",
    "test_df_norm =  pd.DataFrame(test_matrix_norm.toarray(), columns = count_vector.get_feature_names())"
   ]
  },
  {
   "cell_type": "code",
   "execution_count": 309,
   "metadata": {},
   "outputs": [],
   "source": [
    "# # erase pre-normalisation bags of words from memory\n",
    "# train_matrix= None\n",
    "# words_matrix = None"
   ]
  },
  {
   "cell_type": "markdown",
   "metadata": {},
   "source": [
    "Do the same for the selected phrases in the training set:"
   ]
  },
  {
   "cell_type": "code",
   "execution_count": 25,
   "metadata": {},
   "outputs": [],
   "source": [
    "#store copy of training set's selected_text field with no repeating characters\n",
    "train_selected_norm = train.selected_text.apply(lambda x: remove_repeated_chars(x, word_dict))"
   ]
  },
  {
   "cell_type": "code",
   "execution_count": 305,
   "metadata": {},
   "outputs": [],
   "source": [
    "#create count_vector and fit it to the train data\n",
    "from sklearn.feature_extraction.text import CountVectorizer\n",
    "count_vector_selected = CountVectorizer(lowercase=True, stop_words='english', strip_accents='ascii', binary=True)\n",
    "count_vector_selected.fit(train_selected_norm.get_values())\n",
    "\n",
    "#transform train to bag of words matrix\n",
    "selected_matrix_norm = count_vector_selected.transform(train_selected_norm)\n",
    "selected_df_norm =  pd.DataFrame(selected_matrix_norm.toarray(), columns = count_vector_selected.get_feature_names())"
   ]
  },
  {
   "cell_type": "markdown",
   "metadata": {},
   "source": [
    "### Baseline Model ###"
   ]
  },
  {
   "cell_type": "markdown",
   "metadata": {},
   "source": [
    "We will first test a simple model which is based on the balance between the count of words that are commonly encountered in positive sentiment tweets and words commonly used in negative sentiment tweets. If a given tweet contains more 'positive' words than 'negative' words it is classified as positive while if it contains more 'negative' words it is classified as negative. If there is the same number of 'positive' and 'negative' words (or the difference between the two counts is not greater than a pre-defined limit) then the tweet is classified as 'neutral'."
   ]
  },
  {
   "cell_type": "markdown",
   "metadata": {},
   "source": [
    "Let's first calculate some statistics about the frequency of occurrence of each word. We start by counting the number of samples that contain each word in the entire training dataset and in positive and negative samples seperately:"
   ]
  },
  {
   "cell_type": "code",
   "execution_count": 27,
   "metadata": {},
   "outputs": [],
   "source": [
    "def get_word_stats(matrix, labels, thres_pct=0.5):\n",
    "    #thres_pct: minimum percentage of occurence in a particular class for word to be retained\n",
    "    \n",
    "    #Count total occurences of each word\n",
    "    total_freq = matrix.astype(bool).sum(axis=0).sort_values(ascending=False)\n",
    "    \n",
    "    #Count occurences of each word in positive and negative sentiment samples\n",
    "    matrix['sentiment'] = labels    #add label column to word_matrix\n",
    "    positive_freq = matrix[matrix.sentiment == 'positive'].iloc[:,:-1].astype(bool).sum(axis=0).sort_values(ascending=False)\n",
    "    negative_freq = matrix[matrix.sentiment == 'negative'].iloc[:,:-1].astype(bool).sum(axis=0).sort_values(ascending=False)\n",
    "    \n",
    "    #Concatenate frequency counts into a single dataframe\n",
    "    words_stats = pd.concat([total_freq, positive_freq.reindex(total_freq.index), negative_freq.reindex(total_freq.index)], axis=1)\n",
    "    words_stats = words_stats.rename(columns={0: 'total_count', 1: 'pos_count', 2: 'neg_count'})\n",
    "    \n",
    "    #Calculate percentage of phrases that contain each word that have pos or neg sentiment\n",
    "    words_stats['pos_pct'] = words_stats['pos_count']/words_stats['total_count']\n",
    "    words_stats['neg_pct'] = words_stats['neg_count']/words_stats['total_count']\n",
    "    \n",
    "    #Remove words that do not have a particular class (pos or neg) mainly associated with them\n",
    "    words_stats_reduced = words_stats[(words_stats.pos_pct>=thres_pct)|(words_stats.neg_pct>=thres_pct)]\n",
    "    \n",
    "    #Store words that appear frequently in positive or negative tweets\n",
    "    pos_words = words_stats_reduced[words_stats_reduced.pos_pct>words_stats_reduced.neg_pct].index.values\n",
    "    neg_words = words_stats_reduced[words_stats_reduced.pos_pct<words_stats_reduced.neg_pct].index.values\n",
    "    \n",
    "    return words_stats_reduced, pos_words, neg_words"
   ]
  },
  {
   "cell_type": "code",
   "execution_count": 28,
   "metadata": {},
   "outputs": [],
   "source": [
    "word_stats, pos_words, neg_words = get_word_stats(train_df_norm, train.sentiment, thres_pct=0.5)\n",
    "save_obj(word_stats, 'word_stats')\n",
    "save_obj(pos_words, 'pos_words')\n",
    "save_obj(neg_words, 'neg_words')"
   ]
  },
  {
   "cell_type": "code",
   "execution_count": 28,
   "metadata": {},
   "outputs": [],
   "source": [
    "#load pre-calculated stats and pos & neg words\n",
    "word_stats = load_obj('word_stats')\n",
    "pos_words = load_obj('pos_words')\n",
    "neg_words = load_obj('neg_words')"
   ]
  },
  {
   "cell_type": "markdown",
   "metadata": {},
   "source": [
    "Let's see some of the most common words appearing in positive and negative sentiment tweets:"
   ]
  },
  {
   "cell_type": "code",
   "execution_count": 29,
   "metadata": {},
   "outputs": [
    {
     "data": {
      "text/html": [
       "<div>\n",
       "<style scoped>\n",
       "    .dataframe tbody tr th:only-of-type {\n",
       "        vertical-align: middle;\n",
       "    }\n",
       "\n",
       "    .dataframe tbody tr th {\n",
       "        vertical-align: top;\n",
       "    }\n",
       "\n",
       "    .dataframe thead th {\n",
       "        text-align: right;\n",
       "    }\n",
       "</style>\n",
       "<table border=\"1\" class=\"dataframe\">\n",
       "  <thead>\n",
       "    <tr style=\"text-align: right;\">\n",
       "      <th></th>\n",
       "      <th>total_count</th>\n",
       "      <th>pos_count</th>\n",
       "      <th>neg_count</th>\n",
       "      <th>pos_pct</th>\n",
       "      <th>neg_pct</th>\n",
       "    </tr>\n",
       "  </thead>\n",
       "  <tbody>\n",
       "    <tr>\n",
       "      <th>day</th>\n",
       "      <td>1924</td>\n",
       "      <td>1141</td>\n",
       "      <td>308</td>\n",
       "      <td>0.593035</td>\n",
       "      <td>0.160083</td>\n",
       "    </tr>\n",
       "    <tr>\n",
       "      <th>good</th>\n",
       "      <td>1507</td>\n",
       "      <td>1018</td>\n",
       "      <td>198</td>\n",
       "      <td>0.675514</td>\n",
       "      <td>0.131387</td>\n",
       "    </tr>\n",
       "    <tr>\n",
       "      <th>love</th>\n",
       "      <td>1106</td>\n",
       "      <td>861</td>\n",
       "      <td>47</td>\n",
       "      <td>0.778481</td>\n",
       "      <td>0.042495</td>\n",
       "    </tr>\n",
       "    <tr>\n",
       "      <th>happy</th>\n",
       "      <td>953</td>\n",
       "      <td>817</td>\n",
       "      <td>43</td>\n",
       "      <td>0.857293</td>\n",
       "      <td>0.045121</td>\n",
       "    </tr>\n",
       "    <tr>\n",
       "      <th>mothers</th>\n",
       "      <td>636</td>\n",
       "      <td>555</td>\n",
       "      <td>13</td>\n",
       "      <td>0.872642</td>\n",
       "      <td>0.020440</td>\n",
       "    </tr>\n",
       "    <tr>\n",
       "      <th>thanks</th>\n",
       "      <td>655</td>\n",
       "      <td>550</td>\n",
       "      <td>19</td>\n",
       "      <td>0.839695</td>\n",
       "      <td>0.029008</td>\n",
       "    </tr>\n",
       "    <tr>\n",
       "      <th>great</th>\n",
       "      <td>599</td>\n",
       "      <td>467</td>\n",
       "      <td>33</td>\n",
       "      <td>0.779633</td>\n",
       "      <td>0.055092</td>\n",
       "    </tr>\n",
       "    <tr>\n",
       "      <th>hope</th>\n",
       "      <td>580</td>\n",
       "      <td>389</td>\n",
       "      <td>52</td>\n",
       "      <td>0.670690</td>\n",
       "      <td>0.089655</td>\n",
       "    </tr>\n",
       "    <tr>\n",
       "      <th>fun</th>\n",
       "      <td>515</td>\n",
       "      <td>337</td>\n",
       "      <td>68</td>\n",
       "      <td>0.654369</td>\n",
       "      <td>0.132039</td>\n",
       "    </tr>\n",
       "    <tr>\n",
       "      <th>nice</th>\n",
       "      <td>424</td>\n",
       "      <td>329</td>\n",
       "      <td>29</td>\n",
       "      <td>0.775943</td>\n",
       "      <td>0.068396</td>\n",
       "    </tr>\n",
       "  </tbody>\n",
       "</table>\n",
       "</div>"
      ],
      "text/plain": [
       "         total_count  pos_count  neg_count   pos_pct   neg_pct\n",
       "day             1924       1141        308  0.593035  0.160083\n",
       "good            1507       1018        198  0.675514  0.131387\n",
       "love            1106        861         47  0.778481  0.042495\n",
       "happy            953        817         43  0.857293  0.045121\n",
       "mothers          636        555         13  0.872642  0.020440\n",
       "thanks           655        550         19  0.839695  0.029008\n",
       "great            599        467         33  0.779633  0.055092\n",
       "hope             580        389         52  0.670690  0.089655\n",
       "fun              515        337         68  0.654369  0.132039\n",
       "nice             424        329         29  0.775943  0.068396"
      ]
     },
     "execution_count": 29,
     "metadata": {},
     "output_type": "execute_result"
    }
   ],
   "source": [
    "word_stats[word_stats.pos_pct>word_stats.neg_pct].sort_values('pos_count',ascending=False).head(10)"
   ]
  },
  {
   "cell_type": "code",
   "execution_count": 30,
   "metadata": {},
   "outputs": [
    {
     "data": {
      "text/html": [
       "<div>\n",
       "<style scoped>\n",
       "    .dataframe tbody tr th:only-of-type {\n",
       "        vertical-align: middle;\n",
       "    }\n",
       "\n",
       "    .dataframe tbody tr th {\n",
       "        vertical-align: top;\n",
       "    }\n",
       "\n",
       "    .dataframe thead th {\n",
       "        text-align: right;\n",
       "    }\n",
       "</style>\n",
       "<table border=\"1\" class=\"dataframe\">\n",
       "  <thead>\n",
       "    <tr style=\"text-align: right;\">\n",
       "      <th></th>\n",
       "      <th>total_count</th>\n",
       "      <th>pos_count</th>\n",
       "      <th>neg_count</th>\n",
       "      <th>pos_pct</th>\n",
       "      <th>neg_pct</th>\n",
       "    </tr>\n",
       "  </thead>\n",
       "  <tbody>\n",
       "    <tr>\n",
       "      <th>miss</th>\n",
       "      <td>600</td>\n",
       "      <td>50</td>\n",
       "      <td>414</td>\n",
       "      <td>0.083333</td>\n",
       "      <td>0.690000</td>\n",
       "    </tr>\n",
       "    <tr>\n",
       "      <th>sad</th>\n",
       "      <td>469</td>\n",
       "      <td>6</td>\n",
       "      <td>384</td>\n",
       "      <td>0.012793</td>\n",
       "      <td>0.818763</td>\n",
       "    </tr>\n",
       "    <tr>\n",
       "      <th>sorry</th>\n",
       "      <td>470</td>\n",
       "      <td>21</td>\n",
       "      <td>336</td>\n",
       "      <td>0.044681</td>\n",
       "      <td>0.714894</td>\n",
       "    </tr>\n",
       "    <tr>\n",
       "      <th>bad</th>\n",
       "      <td>464</td>\n",
       "      <td>46</td>\n",
       "      <td>291</td>\n",
       "      <td>0.099138</td>\n",
       "      <td>0.627155</td>\n",
       "    </tr>\n",
       "    <tr>\n",
       "      <th>feel</th>\n",
       "      <td>515</td>\n",
       "      <td>109</td>\n",
       "      <td>283</td>\n",
       "      <td>0.211650</td>\n",
       "      <td>0.549515</td>\n",
       "    </tr>\n",
       "    <tr>\n",
       "      <th>hate</th>\n",
       "      <td>316</td>\n",
       "      <td>7</td>\n",
       "      <td>255</td>\n",
       "      <td>0.022152</td>\n",
       "      <td>0.806962</td>\n",
       "    </tr>\n",
       "    <tr>\n",
       "      <th>sick</th>\n",
       "      <td>252</td>\n",
       "      <td>11</td>\n",
       "      <td>196</td>\n",
       "      <td>0.043651</td>\n",
       "      <td>0.777778</td>\n",
       "    </tr>\n",
       "    <tr>\n",
       "      <th>sucks</th>\n",
       "      <td>207</td>\n",
       "      <td>2</td>\n",
       "      <td>177</td>\n",
       "      <td>0.009662</td>\n",
       "      <td>0.855072</td>\n",
       "    </tr>\n",
       "    <tr>\n",
       "      <th>tired</th>\n",
       "      <td>257</td>\n",
       "      <td>20</td>\n",
       "      <td>172</td>\n",
       "      <td>0.077821</td>\n",
       "      <td>0.669261</td>\n",
       "    </tr>\n",
       "    <tr>\n",
       "      <th>ugh</th>\n",
       "      <td>217</td>\n",
       "      <td>15</td>\n",
       "      <td>165</td>\n",
       "      <td>0.069124</td>\n",
       "      <td>0.760369</td>\n",
       "    </tr>\n",
       "  </tbody>\n",
       "</table>\n",
       "</div>"
      ],
      "text/plain": [
       "       total_count  pos_count  neg_count   pos_pct   neg_pct\n",
       "miss           600         50        414  0.083333  0.690000\n",
       "sad            469          6        384  0.012793  0.818763\n",
       "sorry          470         21        336  0.044681  0.714894\n",
       "bad            464         46        291  0.099138  0.627155\n",
       "feel           515        109        283  0.211650  0.549515\n",
       "hate           316          7        255  0.022152  0.806962\n",
       "sick           252         11        196  0.043651  0.777778\n",
       "sucks          207          2        177  0.009662  0.855072\n",
       "tired          257         20        172  0.077821  0.669261\n",
       "ugh            217         15        165  0.069124  0.760369"
      ]
     },
     "execution_count": 30,
     "metadata": {},
     "output_type": "execute_result"
    }
   ],
   "source": [
    "word_stats[word_stats.neg_pct>word_stats.pos_pct].sort_values('neg_count',ascending=False).head(10)"
   ]
  },
  {
   "cell_type": "markdown",
   "metadata": {},
   "source": [
    "An additional useful statistic: the number of words in each text:"
   ]
  },
  {
   "cell_type": "code",
   "execution_count": 142,
   "metadata": {
    "scrolled": false
   },
   "outputs": [],
   "source": [
    "train_text_len = train.text.apply(lambda x: len(x.split()))\n",
    "test_text_len = test.text.apply(lambda x: len(x.split()))"
   ]
  },
  {
   "cell_type": "markdown",
   "metadata": {},
   "source": [
    "We now create a function for the baseline model:"
   ]
  },
  {
   "cell_type": "code",
   "execution_count": 147,
   "metadata": {},
   "outputs": [],
   "source": [
    "def intersection(list1, list2): \n",
    "    return list(set(list1) & set(list2)) \n",
    "\n",
    "def baseline_classifier(matrix, text_len, correct_labels, pos_words, neg_words, limit=0, show_metrics=True, plot_confusion=True):\n",
    "    #Remove words that appear in pos_words or neg_word but not in the texts to be classified\n",
    "    pos_words = intersection(pos_words, matrix.columns.values)\n",
    "    neg_words = intersection(neg_words, matrix.columns.values)\n",
    "    #Calculate balance of 'positive' and 'negative' words in each text\n",
    "    words_balance = pd.DataFrame(matrix[pos_words].sum(axis=1)-matrix[neg_words].sum(axis=1)).rename(columns={0:'balance'})\n",
    "    #Calculate balance of 'positive' and 'negative' words as a percentage of the total number of words in the text\n",
    "    words_balance['len'] = text_len #add total lenght of the text to words_balance\n",
    "    words_balance['balance_pct'] = words_balance['balance']/words_balance['len'] #calculate percentage\n",
    "    \n",
    "    #Classify text based on balance. If abs(balance_pct)<limit then 'neutral'\n",
    "    pred = words_balance.balance_pct.apply(lambda x: 'positive' if x>limit else ('negative' if x<-limit else 'neutral')).values\n",
    "    #Calculate probability that text is in predicted class\n",
    "    prob = words_balance.balance_pct.apply(lambda x: abs(x) if abs(x)>limit else 1-abs(x))\n",
    "    \n",
    "    if show_metrics:\n",
    "        from sklearn.metrics import accuracy_score, precision_score, recall_score, f1_score\n",
    "        print('Results')\n",
    "        print('Accuracy score: ', format(accuracy_score(correct_labels, pred)))\n",
    "        print('Precision score: ', format(precision_score(correct_labels, pred,average=None)))\n",
    "        print('Recall score: ', format(recall_score(correct_labels, pred,average=None)))\n",
    "        print('F1 score: ', format(f1_score(correct_labels, pred,average=None)))\n",
    "    \n",
    "    if plot_confusion:\n",
    "        from sklearn.metrics import confusion_matrix\n",
    "        import seaborn as sns\n",
    "\n",
    "        #Calculate confusion matrix\n",
    "        cm = confusion_matrix(correct_labels, pred, ['positive','neutral','negative'])\n",
    "        \n",
    "        #Plot confusion matrix heatmap\n",
    "        ax= plt.subplot()\n",
    "        sns.heatmap(cm, annot=True, ax = ax)\n",
    "        ax.set_xlabel('Predicted labels')\n",
    "        ax.set_ylabel('True labels')\n",
    "        ax.set_title('Confusion Matrix') \n",
    "        ax.xaxis.set_ticklabels(['positive','neutral','negative'])\n",
    "        ax.yaxis.set_ticklabels(['positive','neutral','negative'])\n",
    "        plt.show()\n",
    "        \n",
    "    \n",
    "    return pred, prob"
   ]
  },
  {
   "cell_type": "markdown",
   "metadata": {},
   "source": [
    "**Baseline Model using full text**"
   ]
  },
  {
   "cell_type": "markdown",
   "metadata": {},
   "source": [
    "Run on training set with limit=0 (i.e. if n_pos>n_neg then 'positive'):"
   ]
  },
  {
   "cell_type": "code",
   "execution_count": 60,
   "metadata": {},
   "outputs": [
    {
     "name": "stdout",
     "output_type": "stream",
     "text": [
      "Results\n",
      "Accuracy score:  0.7433406113537118\n",
      "Precision score:  [0.75558167 0.79406769 0.69983211]\n",
      "Recall score:  [0.82637193 0.54664028 0.9228618 ]\n",
      "F1 score:  [0.78939292 0.64752264 0.7960199 ]\n"
     ]
    },
    {
     "data": {
      "image/png": "[encoded data removed]",
      "text/plain": [
       "<Figure size 432x288 with 2 Axes>"
      ]
     },
     "metadata": {
      "needs_background": "light"
     },
     "output_type": "display_data"
    }
   ],
   "source": [
    "train_pred, prob = baseline_classifier(train_df_norm,train_text_len,train.sentiment.values,pos_words,neg_words,limit=0,plot_confusion=True)"
   ]
  },
  {
   "cell_type": "markdown",
   "metadata": {},
   "source": [
    "Run on training set with limit=0.1 (i.e. if (n_pos-n_neg)/len > 0.1 then 'positive'):"
   ]
  },
  {
   "cell_type": "code",
   "execution_count": 66,
   "metadata": {},
   "outputs": [
    {
     "name": "stdout",
     "output_type": "stream",
     "text": [
      "Results\n",
      "Accuracy score:  0.7599344978165938\n",
      "Precision score:  [0.869272   0.67603839 0.81816007]\n",
      "Recall score:  [0.64606092 0.81110012 0.79690049]\n",
      "F1 score:  [0.74122678 0.73743611 0.80739035]\n"
     ]
    },
    {
     "data": {
      "image/png": "[encoded data removed]",
      "text/plain": [
       "<Figure size 432x288 with 2 Axes>"
      ]
     },
     "metadata": {
      "needs_background": "light"
     },
     "output_type": "display_data"
    }
   ],
   "source": [
    "train_pred, prob = baseline_classifier(train_df_norm,train_text_len,train.sentiment.values,pos_words,neg_words,limit=0.1,plot_confusion=True)"
   ]
  },
  {
   "cell_type": "markdown",
   "metadata": {},
   "source": [
    "While recall improves for 'neutral' when lim>0, it drops for 'positive' and 'negative' tweets."
   ]
  },
  {
   "cell_type": "markdown",
   "metadata": {},
   "source": [
    "Run on test set with limit=0:"
   ]
  },
  {
   "cell_type": "code",
   "execution_count": 143,
   "metadata": {},
   "outputs": [
    {
     "name": "stdout",
     "output_type": "stream",
     "text": [
      "Results\n",
      "Accuracy score:  0.6120543293718166\n",
      "Precision score:  [0.62085308 0.61137441 0.60603933]\n",
      "Recall score:  [0.65434565 0.45104895 0.7824116 ]\n",
      "F1 score:  [0.63715953 0.51911469 0.68302335]\n"
     ]
    },
    {
     "data": {
      "image/png": "[encoded data removed]",
      "text/plain": [
       "<Figure size 432x288 with 2 Axes>"
      ]
     },
     "metadata": {
      "needs_background": "light"
     },
     "output_type": "display_data"
    }
   ],
   "source": [
    "test_pred, prob = baseline_classifier(test_df_norm,test_text_len,test.sentiment.values,pos_words,neg_words,limit=0,plot_confusion=True)"
   ]
  },
  {
   "cell_type": "markdown",
   "metadata": {},
   "source": [
    "**Baseline Model using selected_text**"
   ]
  },
  {
   "cell_type": "markdown",
   "metadata": {},
   "source": [
    "We will now try training the baseline classifier with the selected_text from the training set instead of the full text of each document. This will help to only identify words that are truely associated with a given sentiment."
   ]
  },
  {
   "cell_type": "code",
   "execution_count": 43,
   "metadata": {},
   "outputs": [],
   "source": [
    "word_stats_selected, pos_words_selected, neg_words_selected = get_word_stats(selected_df_norm, train.sentiment, thres_pct=0.5)\n",
    "save_obj(word_stats_selected, 'word_stats_selected')\n",
    "save_obj(pos_words_selected, 'pos_words_selected')\n",
    "save_obj(neg_words_selected, 'neg_words_selected')"
   ]
  },
  {
   "cell_type": "code",
   "execution_count": 34,
   "metadata": {},
   "outputs": [],
   "source": [
    "#load pre-calculated stats and pos & neg words\n",
    "word_stats_selected = load_obj('word_stats_selected')\n",
    "pos_words_selected = load_obj('pos_words_selected')\n",
    "neg_words_selected = load_obj('neg_words_selected')"
   ]
  },
  {
   "cell_type": "code",
   "execution_count": 144,
   "metadata": {},
   "outputs": [
    {
     "name": "stdout",
     "output_type": "stream",
     "text": [
      "Results\n",
      "Accuracy score:  0.6997736276174307\n",
      "Precision score:  [0.70238095 0.65743243 0.75309735]\n",
      "Recall score:  [0.64835165 0.68041958 0.77153218]\n",
      "F1 score:  [0.67428571 0.66872852 0.76220331]\n"
     ]
    },
    {
     "data": {
      "image/png": "[encoded data removed]",
      "text/plain": [
       "<Figure size 432x288 with 2 Axes>"
      ]
     },
     "metadata": {
      "needs_background": "light"
     },
     "output_type": "display_data"
    }
   ],
   "source": [
    "test_pred,prob = baseline_classifier(test_df_norm,test_text_len,test.sentiment.values,pos_words_selected,neg_words_selected,limit=0,plot_confusion=True)"
   ]
  },
  {
   "cell_type": "markdown",
   "metadata": {},
   "source": [
    "The performance is indeed improved when we only focus on the words in the selected_text field."
   ]
  },
  {
   "cell_type": "markdown",
   "metadata": {},
   "source": [
    "### Training and evaluation of different Machine Learning models ###"
   ]
  },
  {
   "cell_type": "markdown",
   "metadata": {},
   "source": [
    "**Model pipeline**"
   ]
  },
  {
   "cell_type": "markdown",
   "metadata": {},
   "source": [
    "Create pipeline to test the performance of different machine learning models:"
   ]
  },
  {
   "cell_type": "code",
   "execution_count": 118,
   "metadata": {},
   "outputs": [],
   "source": [
    "#encode training labels to an integer format that is interpretable by all sklearn classification models\n",
    "from sklearn.preprocessing import LabelEncoder\n",
    "le = LabelEncoder()\n",
    "le = le.fit(train.sentiment.values.astype(str))"
   ]
  },
  {
   "cell_type": "code",
   "execution_count": 220,
   "metadata": {},
   "outputs": [],
   "source": [
    "def run_model(model, model_name, train_data, train_labels, test_data, test_labels, label_encoder, tf_idf=False):\n",
    "    \n",
    "    if tf_idf:\n",
    "        from sklearn.feature_extraction.text import TfidfTransformer\n",
    "        tfidf_transformer = TfidfTransformer()\n",
    "        tfidf_transformer = tfidf_transformer.fit(train_data)\n",
    "        train_data = tfidf_transformer.transform(train_data)\n",
    "        test_data = tfidf_transformer.transform(test_data)\n",
    "    \n",
    "    train_labels_encoded = label_encoder.transform(train_labels.astype(str))\n",
    "    \n",
    "    #Fit model to training data\n",
    "    model.fit(train_matrix_norm, train_labels_encoded)\n",
    "    \n",
    "    #Test model's performance on training data\n",
    "    train_pred = model.predict(train_data)\n",
    "    train_pred = le.inverse_transform(train_pred)\n",
    "    \n",
    "    #Test model's performance on test data\n",
    "    test_pred = model.predict(test_data) \n",
    "    test_pred = le.inverse_transform(test_pred)\n",
    "    \n",
    "    from sklearn.metrics import accuracy_score, precision_score, recall_score, f1_score\n",
    "    #Prin performance metrics\n",
    "    print(model_name)\n",
    "    print()\n",
    "    print('Results on training set:')\n",
    "    print('Accuracy score: ', format(accuracy_score(train_labels, train_pred)))\n",
    "    print('Precision score: ', format(precision_score(train_labels, train_pred,average=None)))\n",
    "    print('Recall score: ', format(recall_score(train_labels, train_pred,average=None)))\n",
    "    print('F1 score: ', format(f1_score(train_labels, train_pred,average=None)))\n",
    "    print('---------------------------------------------------------------------')\n",
    "    print('Results on test set:')\n",
    "    print('Accuracy score: ', format(accuracy_score(test_labels, test_pred)))\n",
    "    print('Precision score: ', format(precision_score(test_labels, test_pred,average=None)))\n",
    "    print('Recall score: ', format(recall_score(test_labels, test_pred,average=None)))\n",
    "    print('F1 score: ', format(f1_score(test_labels, test_pred,average=None)))\n",
    "    print('---------------------------------------------------------------------')\n",
    "    \n",
    "    #Plot confusion matrix for test set\n",
    "    from sklearn.metrics import confusion_matrix\n",
    "    import seaborn as sns\n",
    "\n",
    "    cm = confusion_matrix(test.sentiment.values, test_pred, ['positive','neutral','negative'])\n",
    "\n",
    "    ax= plt.subplot()\n",
    "    sns.heatmap(cm, annot=True, ax = ax)\n",
    "    ax.set_xlabel('Predicted labels')\n",
    "    ax.set_ylabel('True labels')\n",
    "    ax.set_title('Confusion Matrix - Test Set') \n",
    "    ax.xaxis.set_ticklabels(le.inverse_transform([0,1,2]))\n",
    "    ax.yaxis.set_ticklabels(le.inverse_transform([0,1,2]))\n",
    "    plt.show()\n",
    "    \n",
    "    return train_pred, test_pred, model, accuracy_score(test_labels,test_pred)"
   ]
  },
  {
   "cell_type": "code",
   "execution_count": 215,
   "metadata": {},
   "outputs": [],
   "source": [
    "from sklearn.naive_bayes import MultinomialNB, BernoulliNB, GaussianNB\n",
    "from sklearn.naive_bayes import BernoulliNB\n",
    "from sklearn.linear_model import LogisticRegression\n",
    "from sklearn.neighbors import KNeighborsClassifier\n",
    "from sklearn.tree import DecisionTreeClassifier\n",
    "from sklearn.ensemble import AdaBoostClassifier, GradientBoostingClassifier, BaggingClassifier, RandomForestClassifier\n",
    "\n",
    "models = dict()\n",
    "\n",
    "models['Multinomial Naive Bayes'] = MultinomialNB()\n",
    "models['Bernoulli Naive Bayes'] = BernoulliNB()\n",
    "models['Gaussian Naive Bayes'] = GaussianNB()\n",
    "models['Logistic Regression'] = LogisticRegression(random_state=42, multi_class='auto')\n",
    "models['KNN'] = KNeighborsClassifier(n_neighbors=5)\n",
    "models['Decision Tree'] = DecisionTreeClassifier(random_state=42)\n",
    "models['Bagging'] = BaggingClassifier(n_estimators=50 ,random_state=42)\n"
   ]
  },
  {
   "cell_type": "markdown",
   "metadata": {},
   "source": [
    "**Naive Bayes**"
   ]
  },
  {
   "cell_type": "code",
   "execution_count": 222,
   "metadata": {
    "scrolled": false
   },
   "outputs": [
    {
     "name": "stdout",
     "output_type": "stream",
     "text": [
      "Multinomial Naive Bayes\n",
      "\n",
      "Results on training set:\n",
      "Accuracy score:  0.8448689956331877\n",
      "Precision score:  [0.87955025 0.81405415 0.85842461]\n",
      "Recall score:  [0.8042668  0.8628227  0.85842461]\n",
      "F1 score:  [0.84022556 0.83772926 0.85842461]\n",
      "---------------------------------------------------------------------\n",
      "Results on test set:\n",
      "Accuracy score:  0.6550650820599887\n",
      "Precision score:  [0.68287037 0.59900683 0.71765817]\n",
      "Recall score:  [0.58941059 0.67482517 0.68902992]\n",
      "F1 score:  [0.63270777 0.63465965 0.70305273]\n",
      "---------------------------------------------------------------------\n"
     ]
    },
    {
     "data": {
      "image/png": "[encoded data removed]",
      "text/plain": [
       "<Figure size 432x288 with 2 Axes>"
      ]
     },
     "metadata": {
      "needs_background": "light"
     },
     "output_type": "display_data"
    }
   ],
   "source": [
    "train_pred, test_pred, m_nb_model, m_nb_test_accuracy = run_model(models['Multinomial Naive Bayes'],'Multinomial Naive Bayes',train_matrix_norm,train.sentiment.values,test_matrix_norm,test.sentiment.values,le,tf_idf=False)\n",
    "save_obj(m_nb_model, 'm_nb_model')"
   ]
  },
  {
   "cell_type": "code",
   "execution_count": 224,
   "metadata": {
    "scrolled": false
   },
   "outputs": [
    {
     "name": "stdout",
     "output_type": "stream",
     "text": [
      "Bernoulli Naive Bayes\n",
      "\n",
      "Results on training set:\n",
      "Accuracy score:  0.8109170305676856\n",
      "Precision score:  [0.91520417 0.71987153 0.90598406]\n",
      "Recall score:  [0.67690528 0.92740847 0.78151946]\n",
      "F1 score:  [0.77822104 0.81056645 0.83916171]\n",
      "---------------------------------------------------------------------\n",
      "Results on test set:\n",
      "Accuracy score:  0.6346915676287493\n",
      "Precision score:  [0.74300699 0.54709977 0.79182156]\n",
      "Recall score:  [0.42457542 0.82447552 0.5793291 ]\n",
      "F1 score:  [0.54036872 0.65774059 0.66910995]\n",
      "---------------------------------------------------------------------\n"
     ]
    },
    {
     "data": {
      "image/png": "[encoded data removed]",
      "text/plain": [
       "<Figure size 432x288 with 2 Axes>"
      ]
     },
     "metadata": {
      "needs_background": "light"
     },
     "output_type": "display_data"
    }
   ],
   "source": [
    "train_pred, test_pred, b_nb_model, b_nb_test_accuracy = run_model(models['Bernoulli Naive Bayes'],'Bernoulli Naive Bayes',train_matrix_norm,train.sentiment.values,test_matrix_norm,test.sentiment.values,le,tf_idf=False)\n",
    "save_obj(b_nb_model, 'b_nb_model')"
   ]
  },
  {
   "cell_type": "markdown",
   "metadata": {},
   "source": [
    "**Logistic Regression**"
   ]
  },
  {
   "cell_type": "code",
   "execution_count": 226,
   "metadata": {
    "scrolled": false
   },
   "outputs": [
    {
     "name": "stdout",
     "output_type": "stream",
     "text": [
      "Logistic Regression\n",
      "\n",
      "Results on training set:\n",
      "Accuracy score:  0.867467248908297\n",
      "Precision score:  [0.89618172 0.83700366 0.8852862 ]\n",
      "Recall score:  [0.82650045 0.88549069 0.88126311]\n",
      "F1 score:  [0.8599318  0.86056473 0.88327007]\n",
      "---------------------------------------------------------------------\n",
      "Results on test set:\n",
      "Accuracy score:  0.6955291454442558\n",
      "Precision score:  [0.70866142 0.63368162 0.78290766]\n",
      "Recall score:  [0.62937063 0.72097902 0.7225748 ]\n",
      "F1 score:  [0.66666667 0.6745175  0.7515323 ]\n",
      "---------------------------------------------------------------------\n"
     ]
    },
    {
     "data": {
      "image/png": "[encoded data removed]",
      "text/plain": [
       "<Figure size 432x288 with 2 Axes>"
      ]
     },
     "metadata": {
      "needs_background": "light"
     },
     "output_type": "display_data"
    }
   ],
   "source": [
    "train_pred, test_pred, log_model, log_test_accuracy = run_model(models['Logistic Regression'],'Logistic Regression',train_matrix_norm,train.sentiment.values,test_matrix_norm,test.sentiment.values,le,tf_idf=False)\n",
    "save_obj(log_model, 'log_model')"
   ]
  },
  {
   "cell_type": "markdown",
   "metadata": {},
   "source": [
    "**K-Nearest Neighbors**"
   ]
  },
  {
   "cell_type": "code",
   "execution_count": 77,
   "metadata": {
    "scrolled": false
   },
   "outputs": [
    {
     "name": "stdout",
     "output_type": "stream",
     "text": [
      "KNN\n",
      "\n",
      "Results on training set:\n",
      "Accuracy score:  0.6556040756914119\n",
      "Precision score:  [0.77242789 0.56445202 0.85513078]\n",
      "Recall score:  [0.43709035 0.89412611 0.54474481]\n",
      "F1 score:  [0.55827315 0.69203189 0.6655278 ]\n",
      "---------------------------------------------------------------------\n",
      "Results on test set:\n",
      "Accuracy score:  0.5735710243350312\n",
      "Precision score:  [0.64236902 0.49897246 0.8021148 ]\n",
      "Recall score:  [0.28171828 0.84895105 0.48141432]\n",
      "F1 score:  [0.39166667 0.62852705 0.60169972]\n",
      "---------------------------------------------------------------------\n"
     ]
    },
    {
     "data": {
      "image/png": "[encoded data removed]",
      "text/plain": [
       "<Figure size 432x288 with 2 Axes>"
      ]
     },
     "metadata": {
      "needs_background": "light"
     },
     "output_type": "display_data"
    }
   ],
   "source": [
    "train_pred, test_pred, knn_model, knn_test_accuracy = run_model(models['KNN'],'KNN',train_matrix_norm,train.sentiment.values,test_matrix_norm,test.sentiment.values,le,tf_idf=False)\n",
    "save_obj(knn_model, 'knn_model')"
   ]
  },
  {
   "cell_type": "markdown",
   "metadata": {},
   "source": [
    "**Decision Tree & Bagging**"
   ]
  },
  {
   "cell_type": "code",
   "execution_count": 76,
   "metadata": {},
   "outputs": [
    {
     "name": "stdout",
     "output_type": "stream",
     "text": [
      "Decision Tree\n",
      "\n",
      "Results on training set:\n",
      "Accuracy score:  0.995924308588064\n",
      "Precision score:  [0.9960144  0.99408019 0.99824623]\n",
      "Recall score:  [0.99563038 0.99694162 0.99487299]\n",
      "F1 score:  [0.99582235 0.99550885 0.99655676]\n",
      "---------------------------------------------------------------------\n",
      "Results on test set:\n",
      "Accuracy score:  0.6644029428409735\n",
      "Precision score:  [0.63529412 0.63942308 0.7268431 ]\n",
      "Recall score:  [0.64735265 0.65104895 0.69718948]\n",
      "F1 score:  [0.6412667  0.64518365 0.71170754]\n",
      "---------------------------------------------------------------------\n"
     ]
    },
    {
     "data": {
      "image/png": "[encoded data removed]",
      "text/plain": [
       "<Figure size 432x288 with 2 Axes>"
      ]
     },
     "metadata": {
      "needs_background": "light"
     },
     "output_type": "display_data"
    }
   ],
   "source": [
    "train_pred, test_pred, tree_model, tree_test_accuracy = run_model(models['Decision Tree'],'Decision Tree',train_matrix_norm,train.sentiment.values,test_matrix_norm,test.sentiment.values,le,tf_idf=False)\n",
    "save_obj(tree_model, 'tree_model')"
   ]
  },
  {
   "cell_type": "code",
   "execution_count": 74,
   "metadata": {},
   "outputs": [
    {
     "name": "stdout",
     "output_type": "stream",
     "text": [
      "Bagging\n",
      "\n",
      "Results on training set:\n",
      "Accuracy score:  0.9941048034934498\n",
      "Precision score:  [0.99574523 0.99184295 0.99556489]\n",
      "Recall score:  [0.99254595 0.99532248 0.99394081]\n",
      "F1 score:  [0.99414301 0.99357967 0.99475219]\n",
      "---------------------------------------------------------------------\n",
      "Results on test set:\n",
      "Accuracy score:  0.6884550084889643\n",
      "Precision score:  [0.68824164 0.64721311 0.74676525]\n",
      "Recall score:  [0.63736264 0.69020979 0.7325476 ]\n",
      "F1 score:  [0.66182573 0.6680203  0.7395881 ]\n",
      "---------------------------------------------------------------------\n"
     ]
    },
    {
     "data": {
      "image/png": "[encoded data removed]",
      "text/plain": [
       "<Figure size 432x288 with 2 Axes>"
      ]
     },
     "metadata": {
      "needs_background": "light"
     },
     "output_type": "display_data"
    }
   ],
   "source": [
    "train_pred, test_pred, bagging_model, bagging_test_accuracy = run_model(models['Bagging'],'Bagging',train_matrix_norm,train.sentiment.values,test_matrix_norm,test.sentiment.values,le,tf_idf=False)\n",
    "save_obj(bagging_model, 'bagging_model')"
   ]
  },
  {
   "cell_type": "markdown",
   "metadata": {},
   "source": [
    "### Ensemble Model ###"
   ]
  },
  {
   "cell_type": "markdown",
   "metadata": {},
   "source": [
    "We will now combine the results of a selection of the models trained above to obtain a stronger classifier."
   ]
  },
  {
   "cell_type": "code",
   "execution_count": 196,
   "metadata": {},
   "outputs": [],
   "source": [
    "#Load pre-trained models\n",
    "log_model = load_obj('log_model')\n",
    "m_nb_model = load_obj('m_nb_model')\n",
    "tree_model = load_obj('tree_model')\n",
    "bagging_model = load_obj('bagging_model')"
   ]
  },
  {
   "cell_type": "code",
   "execution_count": 197,
   "metadata": {},
   "outputs": [],
   "source": [
    "#Load baseline model parameters\n",
    "pos_words_selected = load_obj('pos_words_selected')\n",
    "neg_words_selected = load_obj('neg_words_selected')\n",
    "test_text_len = test.text.apply(lambda x: len(x.split()))\n",
    "\n",
    "#Run baseline model\n",
    "baseline_pred,baseline_prob = baseline_classifier(test_df_norm,test_text_len,test.sentiment.values,pos_words_selected,neg_words_selected,limit=0,show_metrics=False,plot_confusion=False)\n",
    "\n",
    "#Baseline model results and parameters passed to ensemble model\n",
    "baseline_model = {'pred':baseline_pred, 'prob':baseline_prob, 'weight':0.75} "
   ]
  },
  {
   "cell_type": "code",
   "execution_count": 289,
   "metadata": {},
   "outputs": [],
   "source": [
    "def calc_train_accuracies(models, train_data, train_labels, label_encoder,):\n",
    "    accuracies = []\n",
    "    for model in models:\n",
    "        accuracies.append(accuracy_score(train_labels, le.inverse_transform(model.predict(train_data))))\n",
    "    return accuracies    "
   ]
  },
  {
   "cell_type": "code",
   "execution_count": 394,
   "metadata": {},
   "outputs": [],
   "source": [
    "def ensemble_model(models, model_accuracies, data, label_encoder, baseline=None):\n",
    "    #Combine results of multiple models based on their accuracy scores\n",
    "    \n",
    "    from sklearn.metrics import accuracy_score\n",
    "   \n",
    "    #Initialize array to hold ensembe probabilities\n",
    "    ensemble_probs = np.zeros((data.shape[0],len(le.classes_)))\n",
    "    \n",
    "    #Compute ensemble classification probabilities: weighted sum of probabilities of each model (weighted by model's accuracy) \n",
    "    i = 0\n",
    "    for model in models:         \n",
    "        prob = model.predict_proba(data)\n",
    "        accuracy = model_accuracies[i]\n",
    "        ensemble_probs += (np.log(accuracy)/np.log(1-accuracy))*prob\n",
    "        i += 1\n",
    "        \n",
    "    if baseline is not None:        \n",
    "        #Convert prediction probability for each text from a single float to an array of 2 zeros and 1 float \n",
    "        #(at the correct position for computing ensemble with other models)\n",
    "        baseline_pred = label_encoder.transform(baseline['pred'])\n",
    "        baseline_prob = baseline['prob']\n",
    "        baseline_probs = np.zeros((len(baseline_prob),3))\n",
    "        for i in range(len(baseline_prob)):\n",
    "            j = baseline_pred[i]\n",
    "            baseline_probs[i,j] = baseline_prob[i]\n",
    "        \n",
    "        #Add baseline model probabilities to ensemble probabilities\n",
    "        ensemble_probs += baseline['weight']*baseline_probs\n",
    "    \n",
    "    #Normalize probs\n",
    "    ensemble_probs = ensemble_probs/np.sum(ensemble_probs,axis=1)[:,None]\n",
    "    \n",
    "    pred = label_encoder.classes_[np.argmax(ensemble_probs,axis=1)]\n",
    "    prob = np.max(ensemble_probs,axis=1)\n",
    "    \n",
    "    return pred, prob, ensemble_probs"
   ]
  },
  {
   "cell_type": "code",
   "execution_count": 395,
   "metadata": {},
   "outputs": [],
   "source": [
    "#Select models\n",
    "selected_models = [log_model,m_nb_model,bagging_model]\n",
    "\n",
    "#Calculate model accuracies on training set (to obtain weights for ensemble model)\n",
    "model_accuracies = calc_train_accuracies(selected_models, train_matrix_norm,train.sentiment.values, le)"
   ]
  },
  {
   "cell_type": "code",
   "execution_count": 396,
   "metadata": {},
   "outputs": [],
   "source": [
    "pred, prob, probs_all = ensemble_model(selected_models, model_accuracies, test_matrix_norm, le, baseline=baseline_model)"
   ]
  },
  {
   "cell_type": "code",
   "execution_count": 397,
   "metadata": {},
   "outputs": [
    {
     "name": "stdout",
     "output_type": "stream",
     "text": [
      "Results on test set:\n",
      "Accuracy score:  0.7099603848330504\n",
      "Precision score:  [0.7459926  0.63673469 0.80555556]\n",
      "Recall score:  [0.6043956  0.76363636 0.73617407]\n",
      "F1 score:  [0.66777042 0.69443561 0.76930365]\n"
     ]
    }
   ],
   "source": [
    "from sklearn.metrics import accuracy_score, precision_score, recall_score, f1_score\n",
    "print('Results on test set:')\n",
    "print('Accuracy score: ', format(accuracy_score(test.sentiment.values, pred)))\n",
    "print('Precision score: ', format(precision_score(test.sentiment.values, pred, average=None)))\n",
    "print('Recall score: ', format(recall_score(test.sentiment.values, pred, average=None)))\n",
    "print('F1 score: ', format(f1_score(test.sentiment.values, pred, average=None)))"
   ]
  },
  {
   "cell_type": "markdown",
   "metadata": {},
   "source": [
    "### Sentiment phrase detection ###"
   ]
  },
  {
   "cell_type": "code",
   "execution_count": 398,
   "metadata": {},
   "outputs": [],
   "source": [
    "len_selected = train.selected_text.apply(lambda x: len(x.split()))"
   ]
  },
  {
   "cell_type": "code",
   "execution_count": 399,
   "metadata": {},
   "outputs": [
    {
     "name": "stdout",
     "output_type": "stream",
     "text": [
      "Training set's selected text statistics:\n",
      "Min length: 1.00 \n",
      "Max length: 33.00 \n",
      "Mean length: 7.10 \n",
      "Median length: 4.00 \n",
      "Mode length: 1.00 \n"
     ]
    }
   ],
   "source": [
    "import statistics\n",
    "print(\"Training set's selected text statistics:\")\n",
    "print(\"Min length: {:.2f} \".format(np.min(len_selected)))\n",
    "print(\"Max length: {:.2f} \".format(np.max(len_selected)))\n",
    "print(\"Mean length: {:.2f} \".format(np.mean(len_selected)))\n",
    "print(\"Median length: {:.2f} \".format(np.median(len_selected)))\n",
    "print(\"Mode length: {:.2f} \".format(statistics.mode(len_selected.values)))"
   ]
  },
  {
   "cell_type": "code",
   "execution_count": 400,
   "metadata": {},
   "outputs": [
    {
     "data": {
      "text/plain": [
       "['Last', 'session', 'of', 'the', 'day', 'httptwitpiccom67ezh']"
      ]
     },
     "execution_count": 400,
     "metadata": {},
     "output_type": "execute_result"
    }
   ],
   "source": [
    "words_test = test_text_norm[0].split()\n",
    "words_test"
   ]
  },
  {
   "cell_type": "code",
   "execution_count": 406,
   "metadata": {},
   "outputs": [
    {
     "data": {
      "text/plain": [
       "['Last', 'session']"
      ]
     },
     "execution_count": 406,
     "metadata": {},
     "output_type": "execute_result"
    }
   ],
   "source": [
    "words_test[0:2+0]"
   ]
  },
  {
   "cell_type": "code",
   "execution_count": 413,
   "metadata": {},
   "outputs": [],
   "source": [
    "max_selected_length = 3\n",
    "\n",
    "correct_pred = le.transform([pred[0]])[0]\n",
    "\n",
    "phrases = []\n",
    "phrases_lengths = []\n",
    "phrase_correct_prob = []\n",
    "\n",
    "for i in range(len(words_test)):\n",
    "    for j in range(i+1,min(max_selected_length+i+1,len(words_test)+1)):\n",
    "        phrase = [words_test[i],*words_test[i+1:j]]\n",
    "        phrase_length = len(phrase)\n",
    "        phrase = ' '.join(phrase)\n",
    "        \n",
    "        phrases.append(phrase)\n",
    "        phrases_lengths.append(phrase_length)\n",
    "        \n",
    "        phrase_bow = count_vector.transform([phrase])\n",
    "        \n",
    "        _,_, probs_all = ensemble_model(selected_models, model_accuracies, phrase_bow, le, baseline=None)\n",
    "        phrase_correct_prob.append(probs_all[0][correct_pred])\n",
    "        \n",
    "probs_rank = pd.DataFrame(phrase_correct_prob,phrases).rename(columns={0:'probs'})\n",
    "probs_rank['length'] = phrases_lengths\n",
    "selected_text = probs_rank[probs_rank.probs==max(probs_rank.probs)]\n",
    "selected_text = selected_text[selected_text.length==max(selected_text.length)]\n",
    "selected_text = selected_text.index.values[int(len(selected_text)/2)]\n"
   ]
  },
  {
   "cell_type": "code",
   "execution_count": 422,
   "metadata": {},
   "outputs": [],
   "source": [
    "def find_sentiment_phrase(data, sentiment, selected_models, model_accuracies, label_encoder, CountVectorizer, max_phrase_len=10):\n",
    "    \n",
    "    #Empty array to store selected phrase from each file in data\n",
    "    selected_phrases = []    \n",
    "        \n",
    "    for i, text in enumerate(data):\n",
    "\n",
    "        #Empty arrays to store info about different subsets of the full text\n",
    "        phrases = []\n",
    "        phrases_lengths = []\n",
    "        phrases_prob = []\n",
    "        \n",
    "        words_full = data[i].split() #split text into individual words\n",
    "        sentiment_i = le.transform([sentiment[i]]) #encode sentiment label using the same encoding seen by the ensemble classifier\n",
    "        \n",
    "        #Create all possible combinations of successive words with length between 1 and max_phrase_len\n",
    "        for j in range(len(words_full)):\n",
    "            for k in range(j+1,min(max_phrase_len+j+1,len(words_full)+1)):\n",
    "                phrase = [words_full[j],*words_full[j+1:k]]\n",
    "                phrase_length = len(phrase)\n",
    "                phrase = ' '.join(phrase)\n",
    "        \n",
    "            #Add phrase to list of all possible combinations and store its number of words\n",
    "            phrases.append(phrase)\n",
    "            phrases_lengths.append(phrase_length)\n",
    "        \n",
    "            #Convert phrase to bag of words\n",
    "            phrase_bow = CountVectorizer.transform([phrase])\n",
    "            \n",
    "            #Run ensemble model on selected phrase only and store probabilites \n",
    "            _,_, phrase_probs = ensemble_model(selected_models, model_accuracies, phrase_bow, label_encoder, baseline=None)\n",
    "            \n",
    "            #Only keep probability of same sentiment as the sentiment of the entire text and append to list of probabilities for all phrases\n",
    "            phrases_prob.append(phrase_probs[0][sentiment_i])\n",
    "            \n",
    "        #Find phrase with highest probability of being classified as the sentiment as the overall text.\n",
    "        #In case of a tie, pick longest phrase and then phrase that is as in the middle of the text as possible.\n",
    "        probs_rank = pd.DataFrame(phrases_prob,phrases).rename(columns={0:'probs'})\n",
    "        probs_rank['length'] = phrases_lengths\n",
    "        selected_phrase = probs_rank[probs_rank.probs==max(probs_rank.probs)]\n",
    "        selected_phrase = selected_phrase[selected_phrase.length==max(selected_phrase.length)]\n",
    "        selected_phrase = selected_phrase.index.values[int(len(selected_phrase)/2)]\n",
    "        \n",
    "        selected_phrases.append(selected_phrase) #add to list of selected phrases\n",
    "        \n",
    "    output = pd.DataFrame(data)\n",
    "    output['predicted_sentiment'] = sentiment\n",
    "    output['selected_text'] = selected_phrases\n",
    "    \n",
    "    return output"
   ]
  },
  {
   "cell_type": "code",
   "execution_count": 426,
   "metadata": {},
   "outputs": [],
   "source": [
    "test_predictions = find_sentiment_phrase(test_text_norm, pred, selected_models, model_accuracies, le, count_vector, max_phrase_len=10)"
   ]
  },
  {
   "cell_type": "code",
   "execution_count": 427,
   "metadata": {},
   "outputs": [
    {
     "data": {
      "text/html": [
       "<div>\n",
       "<style scoped>\n",
       "    .dataframe tbody tr th:only-of-type {\n",
       "        vertical-align: middle;\n",
       "    }\n",
       "\n",
       "    .dataframe tbody tr th {\n",
       "        vertical-align: top;\n",
       "    }\n",
       "\n",
       "    .dataframe thead th {\n",
       "        text-align: right;\n",
       "    }\n",
       "</style>\n",
       "<table border=\"1\" class=\"dataframe\">\n",
       "  <thead>\n",
       "    <tr style=\"text-align: right;\">\n",
       "      <th></th>\n",
       "      <th>text</th>\n",
       "      <th>sentiment</th>\n",
       "      <th>selected_text</th>\n",
       "    </tr>\n",
       "  </thead>\n",
       "  <tbody>\n",
       "    <tr>\n",
       "      <th>0</th>\n",
       "      <td>Last session of the day httptwitpiccom67ezh</td>\n",
       "      <td>neutral</td>\n",
       "      <td>httptwitpiccom67ezh</td>\n",
       "    </tr>\n",
       "    <tr>\n",
       "      <th>1</th>\n",
       "      <td>Shanghai is also really exciting precisely sky...</td>\n",
       "      <td>positive</td>\n",
       "      <td>also really exciting precisely skyscrapers gal...</td>\n",
       "    </tr>\n",
       "    <tr>\n",
       "      <th>2</th>\n",
       "      <td>recession hit Veronique Branquinho she has to ...</td>\n",
       "      <td>negative</td>\n",
       "      <td>recession hit Veronique Branquinho she has to ...</td>\n",
       "    </tr>\n",
       "    <tr>\n",
       "      <th>3</th>\n",
       "      <td>happy bday</td>\n",
       "      <td>positive</td>\n",
       "      <td>happy bday</td>\n",
       "    </tr>\n",
       "    <tr>\n",
       "      <th>4</th>\n",
       "      <td>httptwitpiccom4w75p I like it</td>\n",
       "      <td>neutral</td>\n",
       "      <td>it</td>\n",
       "    </tr>\n",
       "    <tr>\n",
       "      <th>5</th>\n",
       "      <td>thats great weee visitors</td>\n",
       "      <td>positive</td>\n",
       "      <td>thats great weee visitors</td>\n",
       "    </tr>\n",
       "    <tr>\n",
       "      <th>6</th>\n",
       "      <td>I think EVERYONE hates ME ON HERE lol</td>\n",
       "      <td>negative</td>\n",
       "      <td>EVERYONE hates ME ON HERE lol</td>\n",
       "    </tr>\n",
       "    <tr>\n",
       "      <th>7</th>\n",
       "      <td>soo wish i could but im in school and myspace ...</td>\n",
       "      <td>negative</td>\n",
       "      <td>could but im in school and myspace is complete...</td>\n",
       "    </tr>\n",
       "    <tr>\n",
       "      <th>8</th>\n",
       "      <td>and within a short time of the last clue all o...</td>\n",
       "      <td>neutral</td>\n",
       "      <td>within a short time of the last clue all of</td>\n",
       "    </tr>\n",
       "    <tr>\n",
       "      <th>9</th>\n",
       "      <td>What did you get My day is alright havent done...</td>\n",
       "      <td>neutral</td>\n",
       "      <td>alright havent done anything yet leaving soon ...</td>\n",
       "    </tr>\n",
       "    <tr>\n",
       "      <th>10</th>\n",
       "      <td>My bike was put on holdshould have known that ...</td>\n",
       "      <td>negative</td>\n",
       "      <td>was put on holdshould have known that argh tot...</td>\n",
       "    </tr>\n",
       "    <tr>\n",
       "      <th>11</th>\n",
       "      <td>I checked We didnt win</td>\n",
       "      <td>neutral</td>\n",
       "      <td>I checked We didnt win</td>\n",
       "    </tr>\n",
       "    <tr>\n",
       "      <th>12</th>\n",
       "      <td>and youre on twitter did the tavern bore you t...</td>\n",
       "      <td>neutral</td>\n",
       "      <td>on twitter did the tavern bore you that much</td>\n",
       "    </tr>\n",
       "    <tr>\n",
       "      <th>13</th>\n",
       "      <td>im in va for the weekend my youngest son turns...</td>\n",
       "      <td>negative</td>\n",
       "      <td>youngest son turns 2 tomorrowit makes me kinda...</td>\n",
       "    </tr>\n",
       "    <tr>\n",
       "      <th>14</th>\n",
       "      <td>Its coming out the socket I feel like my phone...</td>\n",
       "      <td>negative</td>\n",
       "      <td>feel like my phones hole is not a virgin thats</td>\n",
       "    </tr>\n",
       "    <tr>\n",
       "      <th>15</th>\n",
       "      <td>So hot today dont like it and i hate my new ti...</td>\n",
       "      <td>negative</td>\n",
       "      <td>and i hate my new timetable having such a bad</td>\n",
       "    </tr>\n",
       "    <tr>\n",
       "      <th>16</th>\n",
       "      <td>miss you</td>\n",
       "      <td>negative</td>\n",
       "      <td>miss you</td>\n",
       "    </tr>\n",
       "    <tr>\n",
       "      <th>17</th>\n",
       "      <td>cramps</td>\n",
       "      <td>negative</td>\n",
       "      <td>cramps</td>\n",
       "    </tr>\n",
       "    <tr>\n",
       "      <th>18</th>\n",
       "      <td>you guys didnt say hi or answer my questions y...</td>\n",
       "      <td>positive</td>\n",
       "      <td>my questions yesterday but nice songs</td>\n",
       "    </tr>\n",
       "    <tr>\n",
       "      <th>19</th>\n",
       "      <td>im going into a spiritual stagnentation its ex...</td>\n",
       "      <td>neutral</td>\n",
       "      <td>its exploding my ego I now realise im not all</td>\n",
       "    </tr>\n",
       "    <tr>\n",
       "      <th>20</th>\n",
       "      <td>stupid storm No river for us tonight</td>\n",
       "      <td>negative</td>\n",
       "      <td>stupid storm No river for us tonight</td>\n",
       "    </tr>\n",
       "    <tr>\n",
       "      <th>21</th>\n",
       "      <td>My dead grandpa pays more attention to me than...</td>\n",
       "      <td>negative</td>\n",
       "      <td>dead grandpa pays more attention to me than yo...</td>\n",
       "    </tr>\n",
       "    <tr>\n",
       "      <th>22</th>\n",
       "      <td>need retail therapy bad AHHHgimme money geebus</td>\n",
       "      <td>negative</td>\n",
       "      <td>retail therapy bad AHHHgimme money geebus</td>\n",
       "    </tr>\n",
       "    <tr>\n",
       "      <th>23</th>\n",
       "      <td>about to go to sleep</td>\n",
       "      <td>neutral</td>\n",
       "      <td>about to go to sleep</td>\n",
       "    </tr>\n",
       "    <tr>\n",
       "      <th>24</th>\n",
       "      <td>you are lame go make me breakfast</td>\n",
       "      <td>negative</td>\n",
       "      <td>you are lame go make me breakfast</td>\n",
       "    </tr>\n",
       "    <tr>\n",
       "      <th>25</th>\n",
       "      <td>thats so cool</td>\n",
       "      <td>positive</td>\n",
       "      <td>thats so cool</td>\n",
       "    </tr>\n",
       "    <tr>\n",
       "      <th>26</th>\n",
       "      <td>hey peoples dont you just hate being grounded ...</td>\n",
       "      <td>negative</td>\n",
       "      <td>dont you just hate being grounded haha im just...</td>\n",
       "    </tr>\n",
       "    <tr>\n",
       "      <th>27</th>\n",
       "      <td>huh another ScarePoint coding sunday</td>\n",
       "      <td>neutral</td>\n",
       "      <td>huh another ScarePoint coding sunday</td>\n",
       "    </tr>\n",
       "    <tr>\n",
       "      <th>28</th>\n",
       "      <td>look who I found just for you httptwittercomDJ...</td>\n",
       "      <td>neutral</td>\n",
       "      <td>look who I found just for you httptwittercomDJ...</td>\n",
       "    </tr>\n",
       "    <tr>\n",
       "      <th>29</th>\n",
       "      <td>No ac the fan doesnt swing our way we are swea...</td>\n",
       "      <td>negative</td>\n",
       "      <td>way we are sweating it out on a hot humid</td>\n",
       "    </tr>\n",
       "    <tr>\n",
       "      <th>...</th>\n",
       "      <td>...</td>\n",
       "      <td>...</td>\n",
       "      <td>...</td>\n",
       "    </tr>\n",
       "    <tr>\n",
       "      <th>3504</th>\n",
       "      <td>so what was said im so bummed I missed it sigh...</td>\n",
       "      <td>negative</td>\n",
       "      <td>im so bummed I missed it sigh I want to</td>\n",
       "    </tr>\n",
       "    <tr>\n",
       "      <th>3505</th>\n",
       "      <td>ï¿½ï¿½We are ready for the new generationOh ye...</td>\n",
       "      <td>positive</td>\n",
       "      <td>and we are proud about it</td>\n",
       "    </tr>\n",
       "    <tr>\n",
       "      <th>3506</th>\n",
       "      <td>so I can only recover 10 photos</td>\n",
       "      <td>neutral</td>\n",
       "      <td>so I can only recover 10 photos</td>\n",
       "    </tr>\n",
       "    <tr>\n",
       "      <th>3507</th>\n",
       "      <td>We never want to lose the fans that got us her...</td>\n",
       "      <td>positive</td>\n",
       "      <td>that wish you and the others a nice day greets</td>\n",
       "    </tr>\n",
       "    <tr>\n",
       "      <th>3508</th>\n",
       "      <td>chillin bored drinking a margarita txt me</td>\n",
       "      <td>neutral</td>\n",
       "      <td>drinking a margarita txt me</td>\n",
       "    </tr>\n",
       "    <tr>\n",
       "      <th>3509</th>\n",
       "      <td>The killers are coming to td Banknorth in bost...</td>\n",
       "      <td>neutral</td>\n",
       "      <td>killers are coming to td Banknorth in boston o...</td>\n",
       "    </tr>\n",
       "    <tr>\n",
       "      <th>3510</th>\n",
       "      <td>In my moms hair salon dying my hair</td>\n",
       "      <td>positive</td>\n",
       "      <td>In my moms hair salon dying my hair</td>\n",
       "    </tr>\n",
       "    <tr>\n",
       "      <th>3511</th>\n",
       "      <td>good morning to all the mommies happy mothers ...</td>\n",
       "      <td>positive</td>\n",
       "      <td>good morning to all the mommies happy mothers ...</td>\n",
       "    </tr>\n",
       "    <tr>\n",
       "      <th>3512</th>\n",
       "      <td>thats not good</td>\n",
       "      <td>positive</td>\n",
       "      <td>thats not good</td>\n",
       "    </tr>\n",
       "    <tr>\n",
       "      <th>3513</th>\n",
       "      <td>thanks I love it they have a video so you dont...</td>\n",
       "      <td>positive</td>\n",
       "      <td>thanks I love it they have a video so you</td>\n",
       "    </tr>\n",
       "    <tr>\n",
       "      <th>3514</th>\n",
       "      <td>I just noticed that They are so ridiculous</td>\n",
       "      <td>negative</td>\n",
       "      <td>that They are so ridiculous</td>\n",
       "    </tr>\n",
       "    <tr>\n",
       "      <th>3515</th>\n",
       "      <td>im riding the highs and lows of moods now chor...</td>\n",
       "      <td>neutral</td>\n",
       "      <td>riding the highs and lows of moods now chores ...</td>\n",
       "    </tr>\n",
       "    <tr>\n",
       "      <th>3516</th>\n",
       "      <td>i hate it when a website says the ticket price...</td>\n",
       "      <td>negative</td>\n",
       "      <td>hate it when a website says the ticket prices are</td>\n",
       "    </tr>\n",
       "    <tr>\n",
       "      <th>3517</th>\n",
       "      <td>On a 10min brake At wrrkk its 1106 and its ove...</td>\n",
       "      <td>neutral</td>\n",
       "      <td>brake At wrrkk its 1106 and its over at 1116</td>\n",
       "    </tr>\n",
       "    <tr>\n",
       "      <th>3518</th>\n",
       "      <td>ok outta all 981 of my followers only about 10...</td>\n",
       "      <td>neutral</td>\n",
       "      <td>10 of u ive talked to lol dont be shy</td>\n",
       "    </tr>\n",
       "    <tr>\n",
       "      <th>3519</th>\n",
       "      <td>yes you are thanks haha you do field of flower...</td>\n",
       "      <td>positive</td>\n",
       "      <td>yes you are thanks haha you do field of flowers</td>\n",
       "    </tr>\n",
       "    <tr>\n",
       "      <th>3520</th>\n",
       "      <td>whered the songs go on the site I want Do You ...</td>\n",
       "      <td>neutral</td>\n",
       "      <td>the site I want Do You on this computer too</td>\n",
       "    </tr>\n",
       "    <tr>\n",
       "      <th>3521</th>\n",
       "      <td>munchin bacon BUTTIES woohoo my faves</td>\n",
       "      <td>positive</td>\n",
       "      <td>BUTTIES woohoo my faves</td>\n",
       "    </tr>\n",
       "    <tr>\n",
       "      <th>3522</th>\n",
       "      <td>no school today teacher cancelled the lesson c...</td>\n",
       "      <td>positive</td>\n",
       "      <td>chillin</td>\n",
       "    </tr>\n",
       "    <tr>\n",
       "      <th>3523</th>\n",
       "      <td>My eyes are starting to hurt So late But must ...</td>\n",
       "      <td>negative</td>\n",
       "      <td>eyes are starting to hurt So late But must reach</td>\n",
       "    </tr>\n",
       "    <tr>\n",
       "      <th>3524</th>\n",
       "      <td>My hair dresser passed away yesterday from bre...</td>\n",
       "      <td>neutral</td>\n",
       "      <td>id ever been to</td>\n",
       "    </tr>\n",
       "    <tr>\n",
       "      <th>3525</th>\n",
       "      <td>I was supposed to go tomorrow tooooo but have ...</td>\n",
       "      <td>neutral</td>\n",
       "      <td>for car inspection fee</td>\n",
       "    </tr>\n",
       "    <tr>\n",
       "      <th>3526</th>\n",
       "      <td>The best thing I have ever done is carry and b...</td>\n",
       "      <td>positive</td>\n",
       "      <td>The best thing I have ever done is carry and</td>\n",
       "    </tr>\n",
       "    <tr>\n",
       "      <th>3527</th>\n",
       "      <td>my mother just won the city of Terrell texas D...</td>\n",
       "      <td>positive</td>\n",
       "      <td>happy mothers day</td>\n",
       "    </tr>\n",
       "    <tr>\n",
       "      <th>3528</th>\n",
       "      <td>friday eveningwhat to do what to do I have to ...</td>\n",
       "      <td>neutral</td>\n",
       "      <td>friday eveningwhat to do what to do I have to</td>\n",
       "    </tr>\n",
       "    <tr>\n",
       "      <th>3529</th>\n",
       "      <td>its at 3 am im very tired but i cant sleep but...</td>\n",
       "      <td>negative</td>\n",
       "      <td>3 am im very tired but i cant sleep but</td>\n",
       "    </tr>\n",
       "    <tr>\n",
       "      <th>3530</th>\n",
       "      <td>All alone in this old house again thanks for t...</td>\n",
       "      <td>neutral</td>\n",
       "      <td>kicking Whoever invented the net i wanna kiss ...</td>\n",
       "    </tr>\n",
       "    <tr>\n",
       "      <th>3531</th>\n",
       "      <td>I know what you mean My little dog is sinking ...</td>\n",
       "      <td>negative</td>\n",
       "      <td>you mean My little dog is sinking into depress...</td>\n",
       "    </tr>\n",
       "    <tr>\n",
       "      <th>3532</th>\n",
       "      <td>sutra what is your next youtube video gonna be...</td>\n",
       "      <td>positive</td>\n",
       "      <td>your next youtube video gonna be about I love ...</td>\n",
       "    </tr>\n",
       "    <tr>\n",
       "      <th>3533</th>\n",
       "      <td>httptwitpiccom4woj2 omgssh ang cute ng bby</td>\n",
       "      <td>positive</td>\n",
       "      <td>cute ng bby</td>\n",
       "    </tr>\n",
       "  </tbody>\n",
       "</table>\n",
       "<p>3534 rows × 3 columns</p>\n",
       "</div>"
      ],
      "text/plain": [
       "                                                   text sentiment  \\\n",
       "0           Last session of the day httptwitpiccom67ezh   neutral   \n",
       "1     Shanghai is also really exciting precisely sky...  positive   \n",
       "2     recession hit Veronique Branquinho she has to ...  negative   \n",
       "3                                            happy bday  positive   \n",
       "4                         httptwitpiccom4w75p I like it   neutral   \n",
       "5                             thats great weee visitors  positive   \n",
       "6                 I think EVERYONE hates ME ON HERE lol  negative   \n",
       "7     soo wish i could but im in school and myspace ...  negative   \n",
       "8     and within a short time of the last clue all o...   neutral   \n",
       "9     What did you get My day is alright havent done...   neutral   \n",
       "10    My bike was put on holdshould have known that ...  negative   \n",
       "11                               I checked We didnt win   neutral   \n",
       "12    and youre on twitter did the tavern bore you t...   neutral   \n",
       "13    im in va for the weekend my youngest son turns...  negative   \n",
       "14    Its coming out the socket I feel like my phone...  negative   \n",
       "15    So hot today dont like it and i hate my new ti...  negative   \n",
       "16                                             miss you  negative   \n",
       "17                                               cramps  negative   \n",
       "18    you guys didnt say hi or answer my questions y...  positive   \n",
       "19    im going into a spiritual stagnentation its ex...   neutral   \n",
       "20                 stupid storm No river for us tonight  negative   \n",
       "21    My dead grandpa pays more attention to me than...  negative   \n",
       "22       need retail therapy bad AHHHgimme money geebus  negative   \n",
       "23                                 about to go to sleep   neutral   \n",
       "24                    you are lame go make me breakfast  negative   \n",
       "25                                        thats so cool  positive   \n",
       "26    hey peoples dont you just hate being grounded ...  negative   \n",
       "27                 huh another ScarePoint coding sunday   neutral   \n",
       "28    look who I found just for you httptwittercomDJ...   neutral   \n",
       "29    No ac the fan doesnt swing our way we are swea...  negative   \n",
       "...                                                 ...       ...   \n",
       "3504  so what was said im so bummed I missed it sigh...  negative   \n",
       "3505  ï¿½ï¿½We are ready for the new generationOh ye...  positive   \n",
       "3506                    so I can only recover 10 photos   neutral   \n",
       "3507  We never want to lose the fans that got us her...  positive   \n",
       "3508          chillin bored drinking a margarita txt me   neutral   \n",
       "3509  The killers are coming to td Banknorth in bost...   neutral   \n",
       "3510                In my moms hair salon dying my hair  positive   \n",
       "3511  good morning to all the mommies happy mothers ...  positive   \n",
       "3512                                     thats not good  positive   \n",
       "3513  thanks I love it they have a video so you dont...  positive   \n",
       "3514         I just noticed that They are so ridiculous  negative   \n",
       "3515  im riding the highs and lows of moods now chor...   neutral   \n",
       "3516  i hate it when a website says the ticket price...  negative   \n",
       "3517  On a 10min brake At wrrkk its 1106 and its ove...   neutral   \n",
       "3518  ok outta all 981 of my followers only about 10...   neutral   \n",
       "3519  yes you are thanks haha you do field of flower...  positive   \n",
       "3520  whered the songs go on the site I want Do You ...   neutral   \n",
       "3521              munchin bacon BUTTIES woohoo my faves  positive   \n",
       "3522  no school today teacher cancelled the lesson c...  positive   \n",
       "3523  My eyes are starting to hurt So late But must ...  negative   \n",
       "3524  My hair dresser passed away yesterday from bre...   neutral   \n",
       "3525  I was supposed to go tomorrow tooooo but have ...   neutral   \n",
       "3526  The best thing I have ever done is carry and b...  positive   \n",
       "3527  my mother just won the city of Terrell texas D...  positive   \n",
       "3528  friday eveningwhat to do what to do I have to ...   neutral   \n",
       "3529  its at 3 am im very tired but i cant sleep but...  negative   \n",
       "3530  All alone in this old house again thanks for t...   neutral   \n",
       "3531  I know what you mean My little dog is sinking ...  negative   \n",
       "3532  sutra what is your next youtube video gonna be...  positive   \n",
       "3533         httptwitpiccom4woj2 omgssh ang cute ng bby  positive   \n",
       "\n",
       "                                          selected_text  \n",
       "0                                   httptwitpiccom67ezh  \n",
       "1     also really exciting precisely skyscrapers gal...  \n",
       "2     recession hit Veronique Branquinho she has to ...  \n",
       "3                                            happy bday  \n",
       "4                                                    it  \n",
       "5                             thats great weee visitors  \n",
       "6                         EVERYONE hates ME ON HERE lol  \n",
       "7     could but im in school and myspace is complete...  \n",
       "8           within a short time of the last clue all of  \n",
       "9     alright havent done anything yet leaving soon ...  \n",
       "10    was put on holdshould have known that argh tot...  \n",
       "11                               I checked We didnt win  \n",
       "12         on twitter did the tavern bore you that much  \n",
       "13    youngest son turns 2 tomorrowit makes me kinda...  \n",
       "14       feel like my phones hole is not a virgin thats  \n",
       "15        and i hate my new timetable having such a bad  \n",
       "16                                             miss you  \n",
       "17                                               cramps  \n",
       "18                my questions yesterday but nice songs  \n",
       "19        its exploding my ego I now realise im not all  \n",
       "20                 stupid storm No river for us tonight  \n",
       "21    dead grandpa pays more attention to me than yo...  \n",
       "22            retail therapy bad AHHHgimme money geebus  \n",
       "23                                 about to go to sleep  \n",
       "24                    you are lame go make me breakfast  \n",
       "25                                        thats so cool  \n",
       "26    dont you just hate being grounded haha im just...  \n",
       "27                 huh another ScarePoint coding sunday  \n",
       "28    look who I found just for you httptwittercomDJ...  \n",
       "29            way we are sweating it out on a hot humid  \n",
       "...                                                 ...  \n",
       "3504            im so bummed I missed it sigh I want to  \n",
       "3505                          and we are proud about it  \n",
       "3506                    so I can only recover 10 photos  \n",
       "3507     that wish you and the others a nice day greets  \n",
       "3508                        drinking a margarita txt me  \n",
       "3509  killers are coming to td Banknorth in boston o...  \n",
       "3510                In my moms hair salon dying my hair  \n",
       "3511  good morning to all the mommies happy mothers ...  \n",
       "3512                                     thats not good  \n",
       "3513          thanks I love it they have a video so you  \n",
       "3514                        that They are so ridiculous  \n",
       "3515  riding the highs and lows of moods now chores ...  \n",
       "3516  hate it when a website says the ticket prices are  \n",
       "3517       brake At wrrkk its 1106 and its over at 1116  \n",
       "3518              10 of u ive talked to lol dont be shy  \n",
       "3519    yes you are thanks haha you do field of flowers  \n",
       "3520        the site I want Do You on this computer too  \n",
       "3521                            BUTTIES woohoo my faves  \n",
       "3522                                            chillin  \n",
       "3523   eyes are starting to hurt So late But must reach  \n",
       "3524                                    id ever been to  \n",
       "3525                             for car inspection fee  \n",
       "3526       The best thing I have ever done is carry and  \n",
       "3527                                  happy mothers day  \n",
       "3528      friday eveningwhat to do what to do I have to  \n",
       "3529            3 am im very tired but i cant sleep but  \n",
       "3530  kicking Whoever invented the net i wanna kiss ...  \n",
       "3531  you mean My little dog is sinking into depress...  \n",
       "3532  your next youtube video gonna be about I love ...  \n",
       "3533                                        cute ng bby  \n",
       "\n",
       "[3534 rows x 3 columns]"
      ]
     },
     "execution_count": 427,
     "metadata": {},
     "output_type": "execute_result"
    }
   ],
   "source": [
    "test_predictions"
   ]
  },
  {
   "cell_type": "code",
   "execution_count": 428,
   "metadata": {},
   "outputs": [],
   "source": [
    "test_predictions.to_csv('test_predictions.csv')"
   ]
  },
  {
   "cell_type": "code",
   "execution_count": null,
   "metadata": {},
   "outputs": [],
   "source": []
  }
 ],
 "metadata": {
  "kernelspec": {
   "display_name": "Python 3",
   "language": "python",
   "name": "python3"
  },
  "language_info": {
   "codemirror_mode": {
    "name": "ipython",
    "version": 3
   },
   "file_extension": ".py",
   "mimetype": "text/x-python",
   "name": "python",
   "nbconvert_exporter": "python",
   "pygments_lexer": "ipython3",
   "version": "3.7.1"
  }
 },
 "nbformat": 4,
 "nbformat_minor": 2
}
