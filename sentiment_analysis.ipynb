{
 "cells": [
  {
   "cell_type": "code",
   "execution_count": 1,
   "metadata": {},
   "outputs": [],
   "source": [
    "import pandas as pd\n",
    "import numpy as np"
   ]
  },
  {
   "cell_type": "code",
   "execution_count": 2,
   "metadata": {},
   "outputs": [],
   "source": [
    "train = pd.read_csv('train.csv')\n",
    "test = pd.read_csv('test.csv')"
   ]
  },
  {
   "cell_type": "code",
   "execution_count": 3,
   "metadata": {},
   "outputs": [
    {
     "data": {
      "text/html": [
       "<div>\n",
       "<style scoped>\n",
       "    .dataframe tbody tr th:only-of-type {\n",
       "        vertical-align: middle;\n",
       "    }\n",
       "\n",
       "    .dataframe tbody tr th {\n",
       "        vertical-align: top;\n",
       "    }\n",
       "\n",
       "    .dataframe thead th {\n",
       "        text-align: right;\n",
       "    }\n",
       "</style>\n",
       "<table border=\"1\" class=\"dataframe\">\n",
       "  <thead>\n",
       "    <tr style=\"text-align: right;\">\n",
       "      <th></th>\n",
       "      <th>textID</th>\n",
       "      <th>text</th>\n",
       "      <th>selected_text</th>\n",
       "      <th>sentiment</th>\n",
       "    </tr>\n",
       "  </thead>\n",
       "  <tbody>\n",
       "    <tr>\n",
       "      <th>0</th>\n",
       "      <td>cb774db0d1</td>\n",
       "      <td>I`d have responded, if I were going</td>\n",
       "      <td>I`d have responded, if I were going</td>\n",
       "      <td>neutral</td>\n",
       "    </tr>\n",
       "    <tr>\n",
       "      <th>1</th>\n",
       "      <td>549e992a42</td>\n",
       "      <td>Sooo SAD I will miss you here in San Diego!!!</td>\n",
       "      <td>Sooo SAD</td>\n",
       "      <td>negative</td>\n",
       "    </tr>\n",
       "    <tr>\n",
       "      <th>2</th>\n",
       "      <td>088c60f138</td>\n",
       "      <td>my boss is bullying me...</td>\n",
       "      <td>bullying me</td>\n",
       "      <td>negative</td>\n",
       "    </tr>\n",
       "    <tr>\n",
       "      <th>3</th>\n",
       "      <td>9642c003ef</td>\n",
       "      <td>what interview! leave me alone</td>\n",
       "      <td>leave me alone</td>\n",
       "      <td>negative</td>\n",
       "    </tr>\n",
       "    <tr>\n",
       "      <th>4</th>\n",
       "      <td>358bd9e861</td>\n",
       "      <td>Sons of ****, why couldn`t they put them on t...</td>\n",
       "      <td>Sons of ****,</td>\n",
       "      <td>negative</td>\n",
       "    </tr>\n",
       "  </tbody>\n",
       "</table>\n",
       "</div>"
      ],
      "text/plain": [
       "       textID                                               text  \\\n",
       "0  cb774db0d1                I`d have responded, if I were going   \n",
       "1  549e992a42      Sooo SAD I will miss you here in San Diego!!!   \n",
       "2  088c60f138                          my boss is bullying me...   \n",
       "3  9642c003ef                     what interview! leave me alone   \n",
       "4  358bd9e861   Sons of ****, why couldn`t they put them on t...   \n",
       "\n",
       "                         selected_text sentiment  \n",
       "0  I`d have responded, if I were going   neutral  \n",
       "1                             Sooo SAD  negative  \n",
       "2                          bullying me  negative  \n",
       "3                       leave me alone  negative  \n",
       "4                        Sons of ****,  negative  "
      ]
     },
     "execution_count": 3,
     "metadata": {},
     "output_type": "execute_result"
    }
   ],
   "source": [
    "train.head()"
   ]
  },
  {
   "cell_type": "code",
   "execution_count": 4,
   "metadata": {},
   "outputs": [
    {
     "data": {
      "text/plain": [
       "(27481, 4)"
      ]
     },
     "execution_count": 4,
     "metadata": {},
     "output_type": "execute_result"
    }
   ],
   "source": [
    "train.shape"
   ]
  },
  {
   "cell_type": "code",
   "execution_count": 5,
   "metadata": {},
   "outputs": [
    {
     "data": {
      "text/html": [
       "<div>\n",
       "<style scoped>\n",
       "    .dataframe tbody tr th:only-of-type {\n",
       "        vertical-align: middle;\n",
       "    }\n",
       "\n",
       "    .dataframe tbody tr th {\n",
       "        vertical-align: top;\n",
       "    }\n",
       "\n",
       "    .dataframe thead th {\n",
       "        text-align: right;\n",
       "    }\n",
       "</style>\n",
       "<table border=\"1\" class=\"dataframe\">\n",
       "  <thead>\n",
       "    <tr style=\"text-align: right;\">\n",
       "      <th></th>\n",
       "      <th>textID</th>\n",
       "      <th>text</th>\n",
       "      <th>selected_text</th>\n",
       "      <th>sentiment</th>\n",
       "    </tr>\n",
       "  </thead>\n",
       "  <tbody>\n",
       "    <tr>\n",
       "      <th>314</th>\n",
       "      <td>fdb77c3752</td>\n",
       "      <td>NaN</td>\n",
       "      <td>NaN</td>\n",
       "      <td>neutral</td>\n",
       "    </tr>\n",
       "  </tbody>\n",
       "</table>\n",
       "</div>"
      ],
      "text/plain": [
       "         textID text selected_text sentiment\n",
       "314  fdb77c3752  NaN           NaN   neutral"
      ]
     },
     "execution_count": 5,
     "metadata": {},
     "output_type": "execute_result"
    }
   ],
   "source": [
    "train[train.text.isnull()]"
   ]
  },
  {
   "cell_type": "code",
   "execution_count": 6,
   "metadata": {},
   "outputs": [],
   "source": [
    "#remove nan entries\n",
    "train = train[train.text.isnull()==False].reset_index()"
   ]
  },
  {
   "cell_type": "code",
   "execution_count": 7,
   "metadata": {
    "scrolled": true
   },
   "outputs": [
    {
     "data": {
      "text/plain": [
       "(27480, 5)"
      ]
     },
     "execution_count": 7,
     "metadata": {},
     "output_type": "execute_result"
    }
   ],
   "source": [
    "train.shape"
   ]
  },
  {
   "cell_type": "code",
   "execution_count": 8,
   "metadata": {},
   "outputs": [],
   "source": [
    "%matplotlib inline"
   ]
  },
  {
   "cell_type": "code",
   "execution_count": 9,
   "metadata": {},
   "outputs": [],
   "source": [
    "from matplotlib import pyplot as plt"
   ]
  },
  {
   "cell_type": "code",
   "execution_count": 10,
   "metadata": {},
   "outputs": [
    {
     "data": {
      "image/png": "[encoded data removed]",
      "text/plain": [
       "<Figure size 432x288 with 1 Axes>"
      ]
     },
     "metadata": {
      "needs_background": "light"
     },
     "output_type": "display_data"
    }
   ],
   "source": [
    "plt.bar(x=[0,1,2], height=[len(train[train.sentiment=='positive']),len(train[train.sentiment=='neutral']),len(train[train.sentiment=='negative'])],color=['g','orange','firebrick'])\n",
    "plt.xticks([0,1,2], ['positive','neutral','negative'])\n",
    "plt.xlabel('Sentiment')\n",
    "plt.ylabel('# of tweets')\n",
    "plt.title('Class Distribution - Training Set')\n",
    "plt.show()"
   ]
  },
  {
   "cell_type": "code",
   "execution_count": 11,
   "metadata": {},
   "outputs": [
    {
     "data": {
      "image/png": "[encoded data removed]",
      "text/plain": [
       "<Figure size 432x288 with 1 Axes>"
      ]
     },
     "metadata": {
      "needs_background": "light"
     },
     "output_type": "display_data"
    }
   ],
   "source": [
    "plt.bar(x=[0,1,2], height=[len(test[test.sentiment=='positive']),len(test[test.sentiment=='neutral']),len(test[test.sentiment=='negative'])],color=['g','orange','firebrick'])\n",
    "plt.xticks([0,1,2], ['positive','neutral','negative'])\n",
    "plt.xlabel('Sentiment')\n",
    "plt.ylabel('# of tweets')\n",
    "plt.title('Class Distribution - Test Set')\n",
    "plt.show()"
   ]
  },
  {
   "cell_type": "markdown",
   "metadata": {},
   "source": [
    "### Text pre-processing ###"
   ]
  },
  {
   "cell_type": "markdown",
   "metadata": {},
   "source": [
    "We will create a bag of words - a matrix where there is a row corresonding to each tweet and a column for each word in all the tweets, with 1s and 0s indicating whether a given tween contains a given word or not.   "
   ]
  },
  {
   "cell_type": "markdown",
   "metadata": {},
   "source": [
    "But first let's consider a common issue with tweets. Twitter users tend to use repeated letters to emphasize words. For example one may write 'I looove this pizza' or 'This movie is sooo goood!'. We would ideally want our classifier to understand that 'looove' is the same as 'love' and 'sooo goood' is the same as 'so good'. Therefore, we need to pre-process the text of each tweet to remove duplicate letters. However, we must be careful because some English words actually have repeating letters - for example 'goood' must be interpreted as 'good' and not 'god'."
   ]
  },
  {
   "cell_type": "markdown",
   "metadata": {},
   "source": [
    "Note: some of the next cells are commented to avoid running computationally intensive calculations multiple times. In contrast, the following code has been ran once and the results were stored in a .pkl file so that they can be loaded every time the notebook is used."
   ]
  },
  {
   "cell_type": "code",
   "execution_count": 12,
   "metadata": {
    "scrolled": true
   },
   "outputs": [],
   "source": [
    "# #create count_vector and fit it to the train data\n",
    "# from sklearn.feature_extraction.text import CountVectorizer\n",
    "# count_vector = CountVectorizer(lowercase=True, stop_words='english') #  exclude common words in English\n",
    "# count_vector.fit(train['text'].get_values())"
   ]
  },
  {
   "cell_type": "code",
   "execution_count": 13,
   "metadata": {},
   "outputs": [],
   "source": [
    "# #transform train to bag of words matrix\n",
    "# train_matrix = count_vector.transform(train['text']).toarray()\n",
    "# words_matrix =  pd.DataFrame(train_matrix, columns = count_vector.get_feature_names())"
   ]
  },
  {
   "cell_type": "code",
   "execution_count": 14,
   "metadata": {},
   "outputs": [],
   "source": [
    "#functions to write and save object (so that we don't have to run computationally intensive algorithms every time the notebook is re-opened)\n",
    "import pickle\n",
    "def save_obj(obj, name ):\n",
    "    with open('obj/'+ name + '.pkl', 'wb') as f:\n",
    "        pickle.dump(obj, f, pickle.HIGHEST_PROTOCOL)\n",
    "\n",
    "def load_obj(name ):\n",
    "    with open('obj/' + name + '.pkl', 'rb') as f:\n",
    "        return pickle.load(f)"
   ]
  },
  {
   "cell_type": "code",
   "execution_count": 15,
   "metadata": {},
   "outputs": [],
   "source": [
    "# #Algorithm to obtain a dictionary of non-existent words with repeated letters to correct English words\n",
    "# import re\n",
    "# all_words = words_matrix.columns.values\n",
    "# word_dict = {}\n",
    "# for word in all_words:\n",
    "#     word_a = re.sub(r'(.)\\1+', r'\\1', word) #word with repeated characters reduced to 1 character\n",
    "#     word_b = re.sub(r'(.)\\1+', r'\\1\\1', word) #word with repeated characters reduced to 2 characters\n",
    "    \n",
    "#     #get count of each of the variations of the word in all sentences\n",
    "#     count_ = words_matrix.word.sum(axis=0)\n",
    "#     count_a = words_matrix[word_a].sum(axis=0) if word_a in all_words else 0\n",
    "#     count_b = words_matrix[word_b].sum(axis=0) if word_b in all_words else 0\n",
    "    \n",
    "#     #determine which is the most common variation of the word\n",
    "#     if count_ < count_a and count_a > count_b:\n",
    "#         word_dict[word] = word_a\n",
    "#     elif count_ < count_b and count_b > count_a:\n",
    "#         word_dict[word] =  word_b\n",
    "#     else:\n",
    "#         word_dict[word] = word\n",
    "\n",
    "# save_obj(word_dict, 'repeated_letters_dict')"
   ]
  },
  {
   "cell_type": "code",
   "execution_count": 16,
   "metadata": {},
   "outputs": [],
   "source": [
    "word_dict = load_obj('repeated_letters_dict') #load pre-calculated dictionary"
   ]
  },
  {
   "cell_type": "code",
   "execution_count": 17,
   "metadata": {},
   "outputs": [
    {
     "data": {
      "text/plain": [
       "'good'"
      ]
     },
     "execution_count": 17,
     "metadata": {},
     "output_type": "execute_result"
    }
   ],
   "source": [
    "word_dict['goood']"
   ]
  },
  {
   "cell_type": "code",
   "execution_count": 20,
   "metadata": {},
   "outputs": [
    {
     "data": {
      "text/plain": [
       "'love'"
      ]
     },
     "execution_count": 20,
     "metadata": {},
     "output_type": "execute_result"
    }
   ],
   "source": [
    "word_dict['looove']"
   ]
  },
  {
   "cell_type": "code",
   "execution_count": 19,
   "metadata": {},
   "outputs": [],
   "source": [
    "def remove_repeated_chars(sentence, word_dict):\n",
    "    import string\n",
    "    sentence = sentence.translate(str.maketrans('', '', string.punctuation)) #remove punctuation from string \n",
    "    translated = []\n",
    "    #translate each word using word_dict - i.e. convert non-existent words with repeating letters to correct words\n",
    "    for x in list(sentence.split()):\n",
    "        t = word_dict.get(x.lower(), x)\n",
    "        translated.append(t)\n",
    "    newphrase = ' '.join(translated)\n",
    "    return newphrase"
   ]
  },
  {
   "cell_type": "code",
   "execution_count": 21,
   "metadata": {},
   "outputs": [],
   "source": [
    "#store copy of training and test sets' text field with no repeating characters\n",
    "train_text_norm = train.text.apply(lambda x: remove_repeated_chars(x, word_dict))\n",
    "test_text_norm = test.text.apply(lambda x: remove_repeated_chars(x, word_dict))"
   ]
  },
  {
   "cell_type": "code",
   "execution_count": 22,
   "metadata": {},
   "outputs": [
    {
     "data": {
      "text/plain": [
       "CountVectorizer(analyzer='word', binary=True, decode_error='strict',\n",
       "        dtype=<class 'numpy.int64'>, encoding='utf-8', input='content',\n",
       "        lowercase=True, max_df=1.0, max_features=None, min_df=1,\n",
       "        ngram_range=(1, 1), preprocessor=None, stop_words='english',\n",
       "        strip_accents='ascii', token_pattern='(?u)\\\\b\\\\w\\\\w+\\\\b',\n",
       "        tokenizer=None, vocabulary=None)"
      ]
     },
     "execution_count": 22,
     "metadata": {},
     "output_type": "execute_result"
    }
   ],
   "source": [
    "#create count_vector and fit it to the train data\n",
    "from sklearn.feature_extraction.text import CountVectorizer\n",
    "count_vector = CountVectorizer(lowercase=True, stop_words='english', strip_accents='ascii', binary=True)\n",
    "count_vector.fit(train_text_norm.get_values())"
   ]
  },
  {
   "cell_type": "code",
   "execution_count": 23,
   "metadata": {},
   "outputs": [],
   "source": [
    "#transform train to bag of words matrix\n",
    "train_matrix_norm = count_vector.transform(train_text_norm).toarray()\n",
    "train_df_norm =  pd.DataFrame(train_matrix_norm, columns = count_vector.get_feature_names())"
   ]
  },
  {
   "cell_type": "code",
   "execution_count": 24,
   "metadata": {},
   "outputs": [],
   "source": [
    "#transform test to bag of words matrix, using count vectorizer fitted to train data\n",
    "test_matrix_norm = count_vector.transform(test_text_norm).toarray()\n",
    "test_df_norm =  pd.DataFrame(test_matrix_norm, columns = count_vector.get_feature_names())"
   ]
  },
  {
   "cell_type": "code",
   "execution_count": 24,
   "metadata": {},
   "outputs": [],
   "source": [
    "# # erase pre-normalisation bags of words from memory\n",
    "# train_matrix= None\n",
    "# words_matrix = None"
   ]
  },
  {
   "cell_type": "markdown",
   "metadata": {},
   "source": [
    "Do the same for the selected phrases in the training set:"
   ]
  },
  {
   "cell_type": "code",
   "execution_count": 25,
   "metadata": {},
   "outputs": [],
   "source": [
    "#store copy of training set's selected_text field with no repeating characters\n",
    "train_selected_norm = train.selected_text.apply(lambda x: remove_repeated_chars(x, word_dict))"
   ]
  },
  {
   "cell_type": "code",
   "execution_count": 26,
   "metadata": {},
   "outputs": [],
   "source": [
    "#create count_vector and fit it to the train data\n",
    "from sklearn.feature_extraction.text import CountVectorizer\n",
    "count_vector = CountVectorizer(lowercase=True, stop_words='english', strip_accents='ascii', binary=True)\n",
    "count_vector.fit(train_selected_norm.get_values())\n",
    "\n",
    "#transform train to bag of words matrix\n",
    "selected_matrix_norm = count_vector.transform(train_selected_norm).toarray()\n",
    "selected_df_norm =  pd.DataFrame(selected_matrix_norm, columns = count_vector.get_feature_names())"
   ]
  },
  {
   "cell_type": "markdown",
   "metadata": {},
   "source": [
    "### Baseline Model ###"
   ]
  },
  {
   "cell_type": "markdown",
   "metadata": {},
   "source": [
    "We will first test a simple model which is based on the balance between the count of words that are commonly encountered in positive sentiment tweets and words commonly used in negative sentiment tweets. If a given tweet contains more 'positive' words than 'negative' words it is classified as positive while if it contains more 'negative' words it is classified as negative. If there is the same number of 'positive' and 'negative' words (or the difference between the two counts is not greater than a pre-defined limit) then the tweet is classified as 'neutral'."
   ]
  },
  {
   "cell_type": "markdown",
   "metadata": {},
   "source": [
    "Let's first calculate some statistics about the frequency of occurrence of each word. We start by counting the number of samples that contain each word in the entire training dataset and in positive and negative samples seperately:"
   ]
  },
  {
   "cell_type": "code",
   "execution_count": 43,
   "metadata": {},
   "outputs": [],
   "source": [
    "def get_word_stats(matrix, labels, thres_pct=0.5):\n",
    "    #thres_pct: minimum percentage of occurence in a particular class for word to be retained\n",
    "    \n",
    "    #Count total occurences of each word\n",
    "    total_freq = matrix.astype(bool).sum(axis=0).sort_values(ascending=False)\n",
    "    \n",
    "    #Count occurences of each word in positive and negative sentiment samples\n",
    "    matrix['sentiment'] = labels    #add label column to word_matrix\n",
    "    positive_freq = matrix[matrix.sentiment == 'positive'].iloc[:,:-1].astype(bool).sum(axis=0).sort_values(ascending=False)\n",
    "    negative_freq = matrix[matrix.sentiment == 'negative'].iloc[:,:-1].astype(bool).sum(axis=0).sort_values(ascending=False)\n",
    "    \n",
    "    #Concatenate frequency counts into a single dataframe\n",
    "    words_stats = pd.concat([total_freq, positive_freq.reindex(total_freq.index), negative_freq.reindex(total_freq.index)], axis=1)\n",
    "    words_stats = words_stats.rename(columns={0: 'total_count', 1: 'pos_count', 2: 'neg_count'})\n",
    "    \n",
    "    #Calculate percentage of phrases that contain each word that have pos or neg sentiment\n",
    "    words_stats['pos_pct'] = words_stats['pos_count']/words_stats['total_count']\n",
    "    words_stats['neg_pct'] = words_stats['neg_count']/words_stats['total_count']\n",
    "    \n",
    "    #Remove words that do not have a particular class (pos or neg) mainly associated with them\n",
    "    words_stats_reduced = words_stats[(words_stats.pos_pct>=thres_pct)|(words_stats.neg_pct>=thres_pct)]\n",
    "    \n",
    "    #Store words that appear frequently in positive or negative tweets\n",
    "    pos_words = words_stats_reduced[words_stats_reduced.pos_pct>words_stats_reduced.neg_pct].index.values\n",
    "    neg_words = words_stats_reduced[words_stats_reduced.pos_pct<words_stats_reduced.neg_pct].index.values\n",
    "    \n",
    "    return words_stats_reduced, pos_words, neg_words"
   ]
  },
  {
   "cell_type": "code",
   "execution_count": 31,
   "metadata": {},
   "outputs": [],
   "source": [
    "word_stats, pos_words, neg_words = get_word_stats(train_df_norm, train.sentiment, thres_pct=0.5)"
   ]
  },
  {
   "cell_type": "markdown",
   "metadata": {},
   "source": [
    "Let's see some of the most common words appearing in positive and negative sentiment tweets:"
   ]
  },
  {
   "cell_type": "code",
   "execution_count": 51,
   "metadata": {},
   "outputs": [
    {
     "data": {
      "text/html": [
       "<div>\n",
       "<style scoped>\n",
       "    .dataframe tbody tr th:only-of-type {\n",
       "        vertical-align: middle;\n",
       "    }\n",
       "\n",
       "    .dataframe tbody tr th {\n",
       "        vertical-align: top;\n",
       "    }\n",
       "\n",
       "    .dataframe thead th {\n",
       "        text-align: right;\n",
       "    }\n",
       "</style>\n",
       "<table border=\"1\" class=\"dataframe\">\n",
       "  <thead>\n",
       "    <tr style=\"text-align: right;\">\n",
       "      <th></th>\n",
       "      <th>total_count</th>\n",
       "      <th>pos_count</th>\n",
       "      <th>neg_count</th>\n",
       "      <th>pos_pct</th>\n",
       "      <th>neg_pct</th>\n",
       "    </tr>\n",
       "  </thead>\n",
       "  <tbody>\n",
       "    <tr>\n",
       "      <th>day</th>\n",
       "      <td>1924</td>\n",
       "      <td>1141.0</td>\n",
       "      <td>308.0</td>\n",
       "      <td>0.593035</td>\n",
       "      <td>0.160083</td>\n",
       "    </tr>\n",
       "    <tr>\n",
       "      <th>good</th>\n",
       "      <td>1507</td>\n",
       "      <td>1018.0</td>\n",
       "      <td>198.0</td>\n",
       "      <td>0.675514</td>\n",
       "      <td>0.131387</td>\n",
       "    </tr>\n",
       "    <tr>\n",
       "      <th>love</th>\n",
       "      <td>1106</td>\n",
       "      <td>861.0</td>\n",
       "      <td>47.0</td>\n",
       "      <td>0.778481</td>\n",
       "      <td>0.042495</td>\n",
       "    </tr>\n",
       "    <tr>\n",
       "      <th>happy</th>\n",
       "      <td>953</td>\n",
       "      <td>817.0</td>\n",
       "      <td>43.0</td>\n",
       "      <td>0.857293</td>\n",
       "      <td>0.045121</td>\n",
       "    </tr>\n",
       "    <tr>\n",
       "      <th>mothers</th>\n",
       "      <td>636</td>\n",
       "      <td>555.0</td>\n",
       "      <td>13.0</td>\n",
       "      <td>0.872642</td>\n",
       "      <td>0.020440</td>\n",
       "    </tr>\n",
       "    <tr>\n",
       "      <th>thanks</th>\n",
       "      <td>655</td>\n",
       "      <td>550.0</td>\n",
       "      <td>19.0</td>\n",
       "      <td>0.839695</td>\n",
       "      <td>0.029008</td>\n",
       "    </tr>\n",
       "    <tr>\n",
       "      <th>great</th>\n",
       "      <td>599</td>\n",
       "      <td>467.0</td>\n",
       "      <td>33.0</td>\n",
       "      <td>0.779633</td>\n",
       "      <td>0.055092</td>\n",
       "    </tr>\n",
       "    <tr>\n",
       "      <th>hope</th>\n",
       "      <td>580</td>\n",
       "      <td>389.0</td>\n",
       "      <td>52.0</td>\n",
       "      <td>0.670690</td>\n",
       "      <td>0.089655</td>\n",
       "    </tr>\n",
       "    <tr>\n",
       "      <th>fun</th>\n",
       "      <td>515</td>\n",
       "      <td>337.0</td>\n",
       "      <td>68.0</td>\n",
       "      <td>0.654369</td>\n",
       "      <td>0.132039</td>\n",
       "    </tr>\n",
       "    <tr>\n",
       "      <th>nice</th>\n",
       "      <td>424</td>\n",
       "      <td>329.0</td>\n",
       "      <td>29.0</td>\n",
       "      <td>0.775943</td>\n",
       "      <td>0.068396</td>\n",
       "    </tr>\n",
       "  </tbody>\n",
       "</table>\n",
       "</div>"
      ],
      "text/plain": [
       "         total_count  pos_count  neg_count   pos_pct   neg_pct\n",
       "day             1924     1141.0      308.0  0.593035  0.160083\n",
       "good            1507     1018.0      198.0  0.675514  0.131387\n",
       "love            1106      861.0       47.0  0.778481  0.042495\n",
       "happy            953      817.0       43.0  0.857293  0.045121\n",
       "mothers          636      555.0       13.0  0.872642  0.020440\n",
       "thanks           655      550.0       19.0  0.839695  0.029008\n",
       "great            599      467.0       33.0  0.779633  0.055092\n",
       "hope             580      389.0       52.0  0.670690  0.089655\n",
       "fun              515      337.0       68.0  0.654369  0.132039\n",
       "nice             424      329.0       29.0  0.775943  0.068396"
      ]
     },
     "execution_count": 51,
     "metadata": {},
     "output_type": "execute_result"
    }
   ],
   "source": [
    "word_stats[word_stats.pos_pct>word_stats.neg_pct].sort_values('pos_count',ascending=False).head(10)"
   ]
  },
  {
   "cell_type": "code",
   "execution_count": 52,
   "metadata": {},
   "outputs": [
    {
     "data": {
      "text/html": [
       "<div>\n",
       "<style scoped>\n",
       "    .dataframe tbody tr th:only-of-type {\n",
       "        vertical-align: middle;\n",
       "    }\n",
       "\n",
       "    .dataframe tbody tr th {\n",
       "        vertical-align: top;\n",
       "    }\n",
       "\n",
       "    .dataframe thead th {\n",
       "        text-align: right;\n",
       "    }\n",
       "</style>\n",
       "<table border=\"1\" class=\"dataframe\">\n",
       "  <thead>\n",
       "    <tr style=\"text-align: right;\">\n",
       "      <th></th>\n",
       "      <th>total_count</th>\n",
       "      <th>pos_count</th>\n",
       "      <th>neg_count</th>\n",
       "      <th>pos_pct</th>\n",
       "      <th>neg_pct</th>\n",
       "    </tr>\n",
       "  </thead>\n",
       "  <tbody>\n",
       "    <tr>\n",
       "      <th>miss</th>\n",
       "      <td>600</td>\n",
       "      <td>50.0</td>\n",
       "      <td>414.0</td>\n",
       "      <td>0.083333</td>\n",
       "      <td>0.690000</td>\n",
       "    </tr>\n",
       "    <tr>\n",
       "      <th>sad</th>\n",
       "      <td>469</td>\n",
       "      <td>6.0</td>\n",
       "      <td>384.0</td>\n",
       "      <td>0.012793</td>\n",
       "      <td>0.818763</td>\n",
       "    </tr>\n",
       "    <tr>\n",
       "      <th>sorry</th>\n",
       "      <td>470</td>\n",
       "      <td>21.0</td>\n",
       "      <td>336.0</td>\n",
       "      <td>0.044681</td>\n",
       "      <td>0.714894</td>\n",
       "    </tr>\n",
       "    <tr>\n",
       "      <th>bad</th>\n",
       "      <td>464</td>\n",
       "      <td>46.0</td>\n",
       "      <td>291.0</td>\n",
       "      <td>0.099138</td>\n",
       "      <td>0.627155</td>\n",
       "    </tr>\n",
       "    <tr>\n",
       "      <th>feel</th>\n",
       "      <td>515</td>\n",
       "      <td>109.0</td>\n",
       "      <td>283.0</td>\n",
       "      <td>0.211650</td>\n",
       "      <td>0.549515</td>\n",
       "    </tr>\n",
       "    <tr>\n",
       "      <th>hate</th>\n",
       "      <td>316</td>\n",
       "      <td>7.0</td>\n",
       "      <td>255.0</td>\n",
       "      <td>0.022152</td>\n",
       "      <td>0.806962</td>\n",
       "    </tr>\n",
       "    <tr>\n",
       "      <th>sick</th>\n",
       "      <td>252</td>\n",
       "      <td>11.0</td>\n",
       "      <td>196.0</td>\n",
       "      <td>0.043651</td>\n",
       "      <td>0.777778</td>\n",
       "    </tr>\n",
       "    <tr>\n",
       "      <th>sucks</th>\n",
       "      <td>207</td>\n",
       "      <td>2.0</td>\n",
       "      <td>177.0</td>\n",
       "      <td>0.009662</td>\n",
       "      <td>0.855072</td>\n",
       "    </tr>\n",
       "    <tr>\n",
       "      <th>tired</th>\n",
       "      <td>257</td>\n",
       "      <td>20.0</td>\n",
       "      <td>172.0</td>\n",
       "      <td>0.077821</td>\n",
       "      <td>0.669261</td>\n",
       "    </tr>\n",
       "    <tr>\n",
       "      <th>ugh</th>\n",
       "      <td>217</td>\n",
       "      <td>15.0</td>\n",
       "      <td>165.0</td>\n",
       "      <td>0.069124</td>\n",
       "      <td>0.760369</td>\n",
       "    </tr>\n",
       "  </tbody>\n",
       "</table>\n",
       "</div>"
      ],
      "text/plain": [
       "       total_count  pos_count  neg_count   pos_pct   neg_pct\n",
       "miss           600       50.0      414.0  0.083333  0.690000\n",
       "sad            469        6.0      384.0  0.012793  0.818763\n",
       "sorry          470       21.0      336.0  0.044681  0.714894\n",
       "bad            464       46.0      291.0  0.099138  0.627155\n",
       "feel           515      109.0      283.0  0.211650  0.549515\n",
       "hate           316        7.0      255.0  0.022152  0.806962\n",
       "sick           252       11.0      196.0  0.043651  0.777778\n",
       "sucks          207        2.0      177.0  0.009662  0.855072\n",
       "tired          257       20.0      172.0  0.077821  0.669261\n",
       "ugh            217       15.0      165.0  0.069124  0.760369"
      ]
     },
     "execution_count": 52,
     "metadata": {},
     "output_type": "execute_result"
    }
   ],
   "source": [
    "word_stats[word_stats.neg_pct>word_stats.pos_pct].sort_values('neg_count',ascending=False).head(10)"
   ]
  },
  {
   "cell_type": "markdown",
   "metadata": {},
   "source": [
    "We now create a function for the baseline model:"
   ]
  },
  {
   "cell_type": "code",
   "execution_count": 44,
   "metadata": {},
   "outputs": [],
   "source": [
    "def intersection(list1, list2): \n",
    "    return list(set(list1) & set(list2)) \n",
    "\n",
    "def baseline_classifier(matrix, correct_labels, pos_words, neg_words, limit=0, plot_confusion=True):\n",
    "    #Remove words that appear in pos_words or neg_word but not in the texts to be classified\n",
    "    pos_words = intersection(pos_words, matrix.columns.values)\n",
    "    neg_words = intersection(neg_words, matrix.columns.values)\n",
    "    #Calculate balance of 'positive' and 'negative' words in each text\n",
    "    words_balance = pd.DataFrame(matrix[pos_words].sum(axis=1)-matrix[neg_words].sum(axis=1)).rename(columns={0:'balance'})\n",
    "    #Classify text based on balance. If abs(balance)<limit then 'neutral'\n",
    "    pred = words_balance.balance.apply(lambda x: 'positive' if x>limit else ('negative' if x<-limit else 'neutral')).values\n",
    "    \n",
    "    from sklearn.metrics import accuracy_score, precision_score, recall_score, f1_score\n",
    "    print('Results')\n",
    "    print('Accuracy score: ', format(accuracy_score(correct_labels, pred)))\n",
    "    print('Precision score: ', format(precision_score(correct_labels, pred,average=None)))\n",
    "    print('Recall score: ', format(recall_score(correct_labels, pred,average=None)))\n",
    "    print('F1 score: ', format(f1_score(correct_labels, pred,average=None)))\n",
    "    \n",
    "    if plot_confusion:\n",
    "        from sklearn.metrics import confusion_matrix\n",
    "        import seaborn as sns\n",
    "\n",
    "        #Calculate confusion matrix\n",
    "        cm = confusion_matrix(correct_labels, pred, ['positive','neutral','negative'])\n",
    "        \n",
    "        #Plot confusion matrix heatmap\n",
    "        ax= plt.subplot()\n",
    "        sns.heatmap(cm, annot=True, ax = ax)\n",
    "        ax.set_xlabel('Predicted labels')\n",
    "        ax.set_ylabel('True labels')\n",
    "        ax.set_title('Confusion Matrix') \n",
    "        ax.xaxis.set_ticklabels(['positive','neutral','negative'])\n",
    "        ax.yaxis.set_ticklabels(['positive','neutral','negative'])\n",
    "        plt.show()\n",
    "        \n",
    "    \n",
    "    return pred"
   ]
  },
  {
   "cell_type": "markdown",
   "metadata": {},
   "source": [
    "**Baseline Model using full text**"
   ]
  },
  {
   "cell_type": "markdown",
   "metadata": {},
   "source": [
    "Run on training set with limit=0 (i.e. if n_pos>n_neg then 'positive'):"
   ]
  },
  {
   "cell_type": "code",
   "execution_count": 53,
   "metadata": {},
   "outputs": [
    {
     "name": "stdout",
     "output_type": "stream",
     "text": [
      "Results\n",
      "Accuracy score:  0.7433406113537118\n",
      "Precision score:  [0.75558167 0.79406769 0.69983211]\n",
      "Recall score:  [0.82637193 0.54664028 0.9228618 ]\n",
      "F1 score:  [0.78939292 0.64752264 0.7960199 ]\n"
     ]
    },
    {
     "data": {
      "image/png": "[encoded data removed]",
      "text/plain": [
       "<Figure size 432x288 with 2 Axes>"
      ]
     },
     "metadata": {
      "needs_background": "light"
     },
     "output_type": "display_data"
    }
   ],
   "source": [
    "train_pred = baseline_classifier(train_df_norm,train.sentiment.values,pos_words,neg_words,limit=0,plot_confusion=True)"
   ]
  },
  {
   "cell_type": "markdown",
   "metadata": {},
   "source": [
    "Run on training set with limit=1 (i.e. if n_pos-n_neg>1 then 'positive'):"
   ]
  },
  {
   "cell_type": "code",
   "execution_count": 54,
   "metadata": {},
   "outputs": [
    {
     "name": "stdout",
     "output_type": "stream",
     "text": [
      "Results\n",
      "Accuracy score:  0.7388282387190684\n",
      "Precision score:  [0.91105007 0.62765147 0.87244679]\n",
      "Recall score:  [0.55417042 0.88899883 0.71172221]\n",
      "F1 score:  [0.68914815 0.73580762 0.78393121]\n"
     ]
    },
    {
     "data": {
      "image/png": "[encoded data removed]",
      "text/plain": [
       "<Figure size 432x288 with 2 Axes>"
      ]
     },
     "metadata": {
      "needs_background": "light"
     },
     "output_type": "display_data"
    }
   ],
   "source": [
    "train_pred = baseline_classifier(train_df_norm,train.sentiment.values,pos_words,neg_words,limit=1,plot_confusion=True)"
   ]
  },
  {
   "cell_type": "markdown",
   "metadata": {},
   "source": [
    "While recall improves for 'neutral' when lim>0, it significantly drops for 'positive' and 'negative' tweets."
   ]
  },
  {
   "cell_type": "markdown",
   "metadata": {},
   "source": [
    "Run on test set with limit=0:"
   ]
  },
  {
   "cell_type": "code",
   "execution_count": 56,
   "metadata": {},
   "outputs": [
    {
     "name": "stdout",
     "output_type": "stream",
     "text": [
      "Results\n",
      "Accuracy score:  0.6120543293718166\n",
      "Precision score:  [0.62085308 0.61137441 0.60603933]\n",
      "Recall score:  [0.65434565 0.45104895 0.7824116 ]\n",
      "F1 score:  [0.63715953 0.51911469 0.68302335]\n"
     ]
    },
    {
     "data": {
      "image/png": "[encoded data removed]",
      "text/plain": [
       "<Figure size 432x288 with 2 Axes>"
      ]
     },
     "metadata": {
      "needs_background": "light"
     },
     "output_type": "display_data"
    }
   ],
   "source": [
    "test_pred = baseline_classifier(test_df_norm,test.sentiment.values,pos_words,neg_words,limit=0,plot_confusion=True)"
   ]
  },
  {
   "cell_type": "markdown",
   "metadata": {},
   "source": [
    "**Baseline Model using selected_text**"
   ]
  },
  {
   "cell_type": "markdown",
   "metadata": {},
   "source": [
    "We will now try training the baseline classifier with the selected_text from the training set instead of the full text of each document. This will help to only identify words that are truely associated with a given sentiment."
   ]
  },
  {
   "cell_type": "code",
   "execution_count": 57,
   "metadata": {},
   "outputs": [],
   "source": [
    "word_stats_selected, pos_words_selected, neg_words_selected = get_word_stats(selected_df_norm, train.sentiment, thres_pct=0.5)"
   ]
  },
  {
   "cell_type": "code",
   "execution_count": 58,
   "metadata": {},
   "outputs": [
    {
     "name": "stdout",
     "output_type": "stream",
     "text": [
      "Results\n",
      "Accuracy score:  0.6997736276174307\n",
      "Precision score:  [0.70238095 0.65743243 0.75309735]\n",
      "Recall score:  [0.64835165 0.68041958 0.77153218]\n",
      "F1 score:  [0.67428571 0.66872852 0.76220331]\n"
     ]
    },
    {
     "data": {
      "image/png": "[encoded data removed]",
      "text/plain": [
       "<Figure size 432x288 with 2 Axes>"
      ]
     },
     "metadata": {
      "needs_background": "light"
     },
     "output_type": "display_data"
    }
   ],
   "source": [
    "test_pred = baseline_classifier(test_df_norm,test.sentiment.values,pos_words_selected,neg_words_selected,limit=0,plot_confusion=True)"
   ]
  },
  {
   "cell_type": "markdown",
   "metadata": {},
   "source": [
    "The performance is indeed improved when we only focus on the words in the selected_text field."
   ]
  },
  {
   "cell_type": "markdown",
   "metadata": {},
   "source": [
    "### Machine Learning models ###"
   ]
  },
  {
   "cell_type": "markdown",
   "metadata": {},
   "source": [
    "**Model pipeline**"
   ]
  },
  {
   "cell_type": "markdown",
   "metadata": {},
   "source": [
    "Create pipeline to test the performance of different machine learning models:"
   ]
  },
  {
   "cell_type": "code",
   "execution_count": 49,
   "metadata": {},
   "outputs": [],
   "source": [
    "def run_model(model, model_name, train_data, train_labels, test_data, test_labels):\n",
    "    \n",
    "    #encode training labels to an integer format that is interpretable by all sklearn classification models\n",
    "    from sklearn.preprocessing import LabelEncoder\n",
    "    le = LabelEncoder()\n",
    "    le.fit(train_labels.astype(str))\n",
    "    train_labels_encoded = le.transform(train_labels.astype(str))\n",
    "    \n",
    "    #Fit model to training data\n",
    "    model.fit(train_matrix_norm, train_labels_encoded)\n",
    "    \n",
    "    #Test model's performance on training data\n",
    "    train_pred = model.predict(train_data)\n",
    "    train_pred = le.inverse_transform(train_pred)\n",
    "    \n",
    "    #Test model's performance on test data\n",
    "    test_pred = model.predict(test_data) \n",
    "    test_pred = le.inverse_transform(test_pred)\n",
    "    \n",
    "    from sklearn.metrics import accuracy_score, precision_score, recall_score, f1_score\n",
    "    #Prin performance metrics\n",
    "    print(model_name)\n",
    "    print()\n",
    "    print('Results on training set:')\n",
    "    print('Accuracy score: ', format(accuracy_score(train_labels, train_pred)))\n",
    "    print('Precision score: ', format(precision_score(train_labels, train_pred,average=None)))\n",
    "    print('Recall score: ', format(recall_score(train_labels, train_pred,average=None)))\n",
    "    print('F1 score: ', format(f1_score(train_labels, train_pred,average=None)))\n",
    "    print('---------------------------------------------------------------------')\n",
    "    print('Results on test set:')\n",
    "    print('Accuracy score: ', format(accuracy_score(test_labels, test_pred)))\n",
    "    print('Precision score: ', format(precision_score(test_labels, test_pred,average=None)))\n",
    "    print('Recall score: ', format(recall_score(test_labels, test_pred,average=None)))\n",
    "    print('F1 score: ', format(f1_score(test_labels, test_pred,average=None)))\n",
    "    print('---------------------------------------------------------------------')\n",
    "    \n",
    "    #Plot confusion matrix for test set\n",
    "    from sklearn.metrics import confusion_matrix\n",
    "    import seaborn as sns\n",
    "\n",
    "    cm = confusion_matrix(test.sentiment.values, test_pred, ['positive','neutral','negative'])\n",
    "\n",
    "    ax= plt.subplot()\n",
    "    sns.heatmap(cm, annot=True, ax = ax)\n",
    "    ax.set_xlabel('Predicted labels')\n",
    "    ax.set_ylabel('True labels')\n",
    "    ax.set_title('Confusion Matrix - Test Set') \n",
    "    ax.xaxis.set_ticklabels(le.inverse_transform([0,1,2]))\n",
    "    ax.yaxis.set_ticklabels(le.inverse_transform([0,1,2]))\n",
    "    plt.show()\n",
    "    \n",
    "    return train_pred, test_pred "
   ]
  },
  {
   "cell_type": "code",
   "execution_count": 50,
   "metadata": {},
   "outputs": [],
   "source": [
    "from sklearn.naive_bayes import MultinomialNB\n",
    "from sklearn.naive_bayes import BernoulliNB\n",
    "from sklearn.linear_model import LogisticRegression\n",
    "from sklearn.neighbors import KNeighborsClassifier\n",
    "\n",
    "models = {'Multinomial Naive Bayes': MultinomialNB(),\n",
    "          'Bernoulli Naive Bayes':BernoulliNB(),\n",
    "          'Logistic Regression': LogisticRegression(random_state=42),\n",
    "          'KNN': KNeighborsClassifier(n_neighbors=5)}"
   ]
  },
  {
   "cell_type": "code",
   "execution_count": 51,
   "metadata": {},
   "outputs": [
    {
     "name": "stdout",
     "output_type": "stream",
     "text": [
      "Multinomial Naive Bayes\n",
      "\n",
      "Results on training set:\n",
      "Accuracy score:  0.8448689956331877\n",
      "Precision score:  [0.87955025 0.81405415 0.85842461]\n",
      "Recall score:  [0.8042668  0.8628227  0.85842461]\n",
      "F1 score:  [0.84022556 0.83772926 0.85842461]\n",
      "---------------------------------------------------------------------\n",
      "Results on test set:\n",
      "Accuracy score:  0.6550650820599887\n",
      "Precision score:  [0.68287037 0.59900683 0.71765817]\n",
      "Recall score:  [0.58941059 0.67482517 0.68902992]\n",
      "F1 score:  [0.63270777 0.63465965 0.70305273]\n",
      "---------------------------------------------------------------------\n"
     ]
    },
    {
     "data": {
      "image/png": "[encoded data removed]",
      "text/plain": [
       "<Figure size 432x288 with 2 Axes>"
      ]
     },
     "metadata": {
      "needs_background": "light"
     },
     "output_type": "display_data"
    }
   ],
   "source": [
    "train_pred, test_pred = run_model(models['Multinomial Naive Bayes'],'Multinomial Naive Bayes',train_matrix_norm,train.sentiment.values,test_matrix_norm,test.sentiment.values)"
   ]
  },
  {
   "cell_type": "code",
   "execution_count": 52,
   "metadata": {},
   "outputs": [
    {
     "name": "stdout",
     "output_type": "stream",
     "text": [
      "Bernoulli Naive Bayes\n",
      "\n",
      "Results on training set:\n",
      "Accuracy score:  0.8109170305676856\n",
      "Precision score:  [0.91520417 0.71987153 0.90598406]\n",
      "Recall score:  [0.67690528 0.92740847 0.78151946]\n",
      "F1 score:  [0.77822104 0.81056645 0.83916171]\n",
      "---------------------------------------------------------------------\n",
      "Results on test set:\n",
      "Accuracy score:  0.6346915676287493\n",
      "Precision score:  [0.74300699 0.54709977 0.79182156]\n",
      "Recall score:  [0.42457542 0.82447552 0.5793291 ]\n",
      "F1 score:  [0.54036872 0.65774059 0.66910995]\n",
      "---------------------------------------------------------------------\n"
     ]
    },
    {
     "data": {
      "image/png": "[encoded data removed]",
      "text/plain": [
       "<Figure size 432x288 with 2 Axes>"
      ]
     },
     "metadata": {
      "needs_background": "light"
     },
     "output_type": "display_data"
    }
   ],
   "source": [
    "train_pred, test_pred = run_model(models['Bernoulli Naive Bayes'],'Bernoulli Naive Bayes',train_matrix_norm,train.sentiment.values,test_matrix_norm,test.sentiment.values)"
   ]
  },
  {
   "cell_type": "code",
   "execution_count": 53,
   "metadata": {},
   "outputs": [
    {
     "name": "stderr",
     "output_type": "stream",
     "text": [
      "C:\\Users\\Alex\\Anaconda3\\lib\\site-packages\\sklearn\\linear_model\\logistic.py:433: FutureWarning: Default solver will be changed to 'lbfgs' in 0.22. Specify a solver to silence this warning.\n",
      "  FutureWarning)\n",
      "C:\\Users\\Alex\\Anaconda3\\lib\\site-packages\\sklearn\\linear_model\\logistic.py:460: FutureWarning: Default multi_class will be changed to 'auto' in 0.22. Specify the multi_class option to silence this warning.\n",
      "  \"this warning.\", FutureWarning)\n"
     ]
    },
    {
     "name": "stdout",
     "output_type": "stream",
     "text": [
      "Logistic Regression\n",
      "\n",
      "Results on training set:\n",
      "Accuracy score:  0.867467248908297\n",
      "Precision score:  [0.89618172 0.83700366 0.8852862 ]\n",
      "Recall score:  [0.82650045 0.88549069 0.88126311]\n",
      "F1 score:  [0.8599318  0.86056473 0.88327007]\n",
      "---------------------------------------------------------------------\n",
      "Results on test set:\n",
      "Accuracy score:  0.6955291454442558\n",
      "Precision score:  [0.70866142 0.63368162 0.78290766]\n",
      "Recall score:  [0.62937063 0.72097902 0.7225748 ]\n",
      "F1 score:  [0.66666667 0.6745175  0.7515323 ]\n",
      "---------------------------------------------------------------------\n"
     ]
    },
    {
     "data": {
      "image/png": "[encoded data removed]",
      "text/plain": [
       "<Figure size 432x288 with 2 Axes>"
      ]
     },
     "metadata": {
      "needs_background": "light"
     },
     "output_type": "display_data"
    }
   ],
   "source": [
    "train_pred, test_pred = run_model(models['Logistic Regression'],'Logistic Regression',train_matrix_norm,train.sentiment.values,test_matrix_norm,test.sentiment.values)"
   ]
  },
  {
   "cell_type": "code",
   "execution_count": 54,
   "metadata": {},
   "outputs": [
    {
     "data": {
      "text/plain": [
       "CountVectorizer(analyzer='word', binary=True, decode_error='strict',\n",
       "        dtype=<class 'numpy.int64'>, encoding='utf-8', input='content',\n",
       "        lowercase=True, max_df=1.0, max_features=100, min_df=1,\n",
       "        ngram_range=(1, 1), preprocessor=None, stop_words='english',\n",
       "        strip_accents='ascii', token_pattern='(?u)\\\\b\\\\w\\\\w+\\\\b',\n",
       "        tokenizer=None, vocabulary=None)"
      ]
     },
     "execution_count": 54,
     "metadata": {},
     "output_type": "execute_result"
    }
   ],
   "source": [
    "#create smaller count_vector and fit it to the train data\n",
    "from sklearn.feature_extraction.text import CountVectorizer\n",
    "count_vector_small = CountVectorizer(max_features=100, lowercase=True, stop_words='english', strip_accents='ascii', binary=True)\n",
    "count_vector_small.fit(train_text_norm.get_values())"
   ]
  },
  {
   "cell_type": "code",
   "execution_count": 55,
   "metadata": {},
   "outputs": [],
   "source": [
    "#transform train to bag of words matrix\n",
    "train_matrix_norm_small = count_vector_small.transform(train_text_norm).toarray()\n",
    "train_df_norm_small =  pd.DataFrame(train_matrix_norm_small, columns = count_vector_small.get_feature_names())"
   ]
  },
  {
   "cell_type": "code",
   "execution_count": 56,
   "metadata": {},
   "outputs": [],
   "source": [
    "#transform test to bag of words matrix, using count vectorizer fitted to train data\n",
    "test_matrix_norm_small = count_vector_small.transform(test_text_norm).toarray()\n",
    "test_df_norm_small =  pd.DataFrame(test_matrix_norm_small, columns = count_vector_small.get_feature_names())"
   ]
  },
  {
   "cell_type": "code",
   "execution_count": null,
   "metadata": {
    "scrolled": true
   },
   "outputs": [],
   "source": [
    "train_pred, test_pred = run_model(models['KNN'],'KNN',train_matrix_norm,train.sentiment.values,test_matrix_norm,test.sentiment.values)"
   ]
  },
  {
   "cell_type": "code",
   "execution_count": null,
   "metadata": {},
   "outputs": [],
   "source": []
  },
  {
   "cell_type": "code",
   "execution_count": null,
   "metadata": {},
   "outputs": [],
   "source": []
  }
 ],
 "metadata": {
  "kernelspec": {
   "display_name": "Python 3",
   "language": "python",
   "name": "python3"
  },
  "language_info": {
   "codemirror_mode": {
    "name": "ipython",
    "version": 3
   },
   "file_extension": ".py",
   "mimetype": "text/x-python",
   "name": "python",
   "nbconvert_exporter": "python",
   "pygments_lexer": "ipython3",
   "version": "3.7.1"
  }
 },
 "nbformat": 4,
 "nbformat_minor": 2
}
