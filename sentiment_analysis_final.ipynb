{
 "cells": [
  {
   "cell_type": "markdown",
   "metadata": {},
   "source": [
    "# Tweet Sentiment Analysis"
   ]
  },
  {
   "cell_type": "markdown",
   "metadata": {},
   "source": [
    "The purpose of this notebook is to experiment with various basic natural language processing techniques and algorithms in order to try to classify the sentiment of tweets."
   ]
  },
  {
   "cell_type": "markdown",
   "metadata": {},
   "source": [
    "We will begin with importing a dataset of labelled tweets downloaded from Kaggle (https://www.kaggle.com/c/tweet-sentiment-extraction/data):"
   ]
  },
  {
   "cell_type": "code",
   "execution_count": 1,
   "metadata": {},
   "outputs": [],
   "source": [
    "#Import main libraries\n",
    "import pandas as pd\n",
    "import numpy as np"
   ]
  },
  {
   "cell_type": "code",
   "execution_count": 2,
   "metadata": {},
   "outputs": [],
   "source": [
    "#Import training and test datasets\n",
    "train = pd.read_csv('train.csv')\n",
    "test = pd.read_csv('test.csv')"
   ]
  },
  {
   "cell_type": "code",
   "execution_count": 3,
   "metadata": {},
   "outputs": [
    {
     "data": {
      "text/html": [
       "<div>\n",
       "<style scoped>\n",
       "    .dataframe tbody tr th:only-of-type {\n",
       "        vertical-align: middle;\n",
       "    }\n",
       "\n",
       "    .dataframe tbody tr th {\n",
       "        vertical-align: top;\n",
       "    }\n",
       "\n",
       "    .dataframe thead th {\n",
       "        text-align: right;\n",
       "    }\n",
       "</style>\n",
       "<table border=\"1\" class=\"dataframe\">\n",
       "  <thead>\n",
       "    <tr style=\"text-align: right;\">\n",
       "      <th></th>\n",
       "      <th>textID</th>\n",
       "      <th>text</th>\n",
       "      <th>selected_text</th>\n",
       "      <th>sentiment</th>\n",
       "    </tr>\n",
       "  </thead>\n",
       "  <tbody>\n",
       "    <tr>\n",
       "      <th>0</th>\n",
       "      <td>cb774db0d1</td>\n",
       "      <td>I`d have responded, if I were going</td>\n",
       "      <td>I`d have responded, if I were going</td>\n",
       "      <td>neutral</td>\n",
       "    </tr>\n",
       "    <tr>\n",
       "      <th>1</th>\n",
       "      <td>549e992a42</td>\n",
       "      <td>Sooo SAD I will miss you here in San Diego!!!</td>\n",
       "      <td>Sooo SAD</td>\n",
       "      <td>negative</td>\n",
       "    </tr>\n",
       "    <tr>\n",
       "      <th>2</th>\n",
       "      <td>088c60f138</td>\n",
       "      <td>my boss is bullying me...</td>\n",
       "      <td>bullying me</td>\n",
       "      <td>negative</td>\n",
       "    </tr>\n",
       "    <tr>\n",
       "      <th>3</th>\n",
       "      <td>9642c003ef</td>\n",
       "      <td>what interview! leave me alone</td>\n",
       "      <td>leave me alone</td>\n",
       "      <td>negative</td>\n",
       "    </tr>\n",
       "    <tr>\n",
       "      <th>4</th>\n",
       "      <td>358bd9e861</td>\n",
       "      <td>Sons of ****, why couldn`t they put them on t...</td>\n",
       "      <td>Sons of ****,</td>\n",
       "      <td>negative</td>\n",
       "    </tr>\n",
       "  </tbody>\n",
       "</table>\n",
       "</div>"
      ],
      "text/plain": [
       "       textID                                               text  \\\n",
       "0  cb774db0d1                I`d have responded, if I were going   \n",
       "1  549e992a42      Sooo SAD I will miss you here in San Diego!!!   \n",
       "2  088c60f138                          my boss is bullying me...   \n",
       "3  9642c003ef                     what interview! leave me alone   \n",
       "4  358bd9e861   Sons of ****, why couldn`t they put them on t...   \n",
       "\n",
       "                         selected_text sentiment  \n",
       "0  I`d have responded, if I were going   neutral  \n",
       "1                             Sooo SAD  negative  \n",
       "2                          bullying me  negative  \n",
       "3                       leave me alone  negative  \n",
       "4                        Sons of ****,  negative  "
      ]
     },
     "execution_count": 3,
     "metadata": {},
     "output_type": "execute_result"
    }
   ],
   "source": [
    "#View first 5 entries of training dataset\n",
    "train.head()"
   ]
  },
  {
   "cell_type": "code",
   "execution_count": 4,
   "metadata": {},
   "outputs": [
    {
     "data": {
      "text/plain": [
       "(27481, 4)"
      ]
     },
     "execution_count": 4,
     "metadata": {},
     "output_type": "execute_result"
    }
   ],
   "source": [
    "train.shape"
   ]
  },
  {
   "cell_type": "markdown",
   "metadata": {},
   "source": [
    "Let's remove any rows that contain NaNs:"
   ]
  },
  {
   "cell_type": "code",
   "execution_count": 5,
   "metadata": {},
   "outputs": [
    {
     "data": {
      "text/html": [
       "<div>\n",
       "<style scoped>\n",
       "    .dataframe tbody tr th:only-of-type {\n",
       "        vertical-align: middle;\n",
       "    }\n",
       "\n",
       "    .dataframe tbody tr th {\n",
       "        vertical-align: top;\n",
       "    }\n",
       "\n",
       "    .dataframe thead th {\n",
       "        text-align: right;\n",
       "    }\n",
       "</style>\n",
       "<table border=\"1\" class=\"dataframe\">\n",
       "  <thead>\n",
       "    <tr style=\"text-align: right;\">\n",
       "      <th></th>\n",
       "      <th>textID</th>\n",
       "      <th>text</th>\n",
       "      <th>selected_text</th>\n",
       "      <th>sentiment</th>\n",
       "    </tr>\n",
       "  </thead>\n",
       "  <tbody>\n",
       "    <tr>\n",
       "      <th>314</th>\n",
       "      <td>fdb77c3752</td>\n",
       "      <td>NaN</td>\n",
       "      <td>NaN</td>\n",
       "      <td>neutral</td>\n",
       "    </tr>\n",
       "  </tbody>\n",
       "</table>\n",
       "</div>"
      ],
      "text/plain": [
       "         textID text selected_text sentiment\n",
       "314  fdb77c3752  NaN           NaN   neutral"
      ]
     },
     "execution_count": 5,
     "metadata": {},
     "output_type": "execute_result"
    }
   ],
   "source": [
    "train[train.text.isnull()]"
   ]
  },
  {
   "cell_type": "code",
   "execution_count": 6,
   "metadata": {},
   "outputs": [],
   "source": [
    "#remove nan entries\n",
    "train = train[train.text.isnull()==False].reset_index()"
   ]
  },
  {
   "cell_type": "code",
   "execution_count": 7,
   "metadata": {
    "scrolled": true
   },
   "outputs": [
    {
     "data": {
      "text/plain": [
       "(27480, 5)"
      ]
     },
     "execution_count": 7,
     "metadata": {},
     "output_type": "execute_result"
    }
   ],
   "source": [
    "train.shape"
   ]
  },
  {
   "cell_type": "markdown",
   "metadata": {},
   "source": [
    "Each tweet in the training set has a 'sentiment' column, which classifies the tweet as positive, neutral or negative. Let's see what the distribution of these 3 classes looks like:"
   ]
  },
  {
   "cell_type": "code",
   "execution_count": 8,
   "metadata": {},
   "outputs": [],
   "source": [
    "#Import pyplot\n",
    "from matplotlib import pyplot as plt\n",
    "%matplotlib inline"
   ]
  },
  {
   "cell_type": "code",
   "execution_count": 10,
   "metadata": {},
   "outputs": [
    {
     "data": {
      "image/png": "[encoded data removed]",
      "text/plain": [
       "<Figure size 432x288 with 1 Axes>"
      ]
     },
     "metadata": {
      "needs_background": "light"
     },
     "output_type": "display_data"
    }
   ],
   "source": [
    "#Plot bar chart\n",
    "plt.bar(x=[0,1,2], height=[len(train[train.sentiment=='positive']),len(train[train.sentiment=='neutral']),len(train[train.sentiment=='negative'])],color=['g','orange','firebrick'])\n",
    "plt.xticks([0,1,2], ['positive','neutral','negative'])\n",
    "plt.xlabel('Sentiment')\n",
    "plt.ylabel('# of tweets')\n",
    "plt.title('Class Distribution - Training Set')\n",
    "plt.show()"
   ]
  },
  {
   "cell_type": "markdown",
   "metadata": {},
   "source": [
    "It can be seen that the majority of tweets are labelled as neutral. For the purposes of this classification exercise it will be preferable to train our classifiers with a balanced dataset. For this reason we will rebalance the training set by randomly sampling the same number of samples from each class:"
   ]
  },
  {
   "cell_type": "code",
   "execution_count": 11,
   "metadata": {},
   "outputs": [],
   "source": [
    "#randomly sample the same number of tweets from each of the three sentiment classes to obtain a balanced training set\n",
    "import random\n",
    "min_len = min([len(train[train.sentiment=='positive']),len(train[train.sentiment=='neutral']),len(train[train.sentiment=='negative'])])\n",
    "pos_sample = random.sample(list(train[train.sentiment=='positive']['textID'].values), k=min_len)\n",
    "neg_sample = random.sample(list(train[train.sentiment=='negative']['textID'].values), k=min_len)\n",
    "neutral_sample = random.sample(list(train[train.sentiment=='neutral']['textID'].values), k=min_len)\n",
    "sample_ids = pos_sample + neg_sample + neutral_sample\n",
    "train = train[train['textID'].isin(sample_ids)]"
   ]
  },
  {
   "cell_type": "markdown",
   "metadata": {},
   "source": [
    "Let's now also visualise the distribution of classes in the test set:"
   ]
  },
  {
   "cell_type": "code",
   "execution_count": 13,
   "metadata": {},
   "outputs": [
    {
     "data": {
      "image/png": "[encoded data removed]",
      "text/plain": [
       "<Figure size 432x288 with 1 Axes>"
      ]
     },
     "metadata": {
      "needs_background": "light"
     },
     "output_type": "display_data"
    }
   ],
   "source": [
    "#Plot bar chart\n",
    "plt.bar(x=[0,1,2], height=[len(test[test.sentiment=='positive']),len(test[test.sentiment=='neutral']),len(test[test.sentiment=='negative'])],color=['g','orange','firebrick'])\n",
    "plt.xticks([0,1,2], ['positive','neutral','negative'])\n",
    "plt.xlabel('Sentiment')\n",
    "plt.ylabel('# of tweets')\n",
    "plt.title('Class Distribution - Test Set')\n",
    "plt.show()"
   ]
  },
  {
   "cell_type": "markdown",
   "metadata": {},
   "source": [
    "### Text pre-processing ###"
   ]
  },
  {
   "cell_type": "markdown",
   "metadata": {},
   "source": [
    "We will create a bag of words - a matrix where there is a row corresonding to each tweet and a column for each word in all the tweets, with 1s and 0s indicating whether a given tween contains a given word or not.   "
   ]
  },
  {
   "cell_type": "markdown",
   "metadata": {},
   "source": [
    "But first let's consider a common issue with tweets. Twitter users tend to use repeated letters to emphasize words. For example one may write 'I looove this pizza' or 'This movie is sooo goood!'. We would ideally want our classifier to understand that 'looove' is the same as 'love' and 'sooo goood' is the same as 'so good'. Therefore, we need to pre-process the text of each tweet to remove duplicate letters. However, we must be careful because some English words actually have repeating letters - for example 'goood' must be interpreted as 'good' and not 'god'."
   ]
  },
  {
   "cell_type": "markdown",
   "metadata": {},
   "source": [
    "Note: some of the next cells are commented to avoid running computationally intensive calculations multiple times. In contrast, the following code has been ran once and the results were stored in a .pkl file so that they can be loaded every time the notebook is used."
   ]
  },
  {
   "cell_type": "code",
   "execution_count": 14,
   "metadata": {
    "scrolled": true
   },
   "outputs": [],
   "source": [
    "# #create count_vector and fit it to the train data\n",
    "# from sklearn.feature_extraction.text import CountVectorizer\n",
    "# count_vector = CountVectorizer(lowercase=True, stop_words='english') #  exclude common words in English\n",
    "# count_vector.fit(train['text'].get_values())"
   ]
  },
  {
   "cell_type": "code",
   "execution_count": 15,
   "metadata": {},
   "outputs": [],
   "source": [
    "# #transform train to bag of words matrix\n",
    "# train_matrix = count_vector.transform(train['text']).toarray()\n",
    "# words_matrix =  pd.DataFrame(train_matrix, columns = count_vector.get_feature_names())"
   ]
  },
  {
   "cell_type": "code",
   "execution_count": 16,
   "metadata": {},
   "outputs": [],
   "source": [
    "#functions to write and save object (so that we don't have to run computationally intensive algorithms every time the notebook is re-opened)\n",
    "import pickle\n",
    "def save_obj(obj, name):\n",
    "    with open('obj/'+ name + '.pkl', 'wb') as f:\n",
    "        pickle.dump(obj, f, pickle.HIGHEST_PROTOCOL)\n",
    "\n",
    "def load_obj(name):\n",
    "    with open('obj/' + name + '.pkl', 'rb') as f:\n",
    "        return pickle.load(f)"
   ]
  },
  {
   "cell_type": "code",
   "execution_count": 17,
   "metadata": {},
   "outputs": [],
   "source": [
    "# #Algorithm to obtain a dictionary of non-existent words with repeated letters to correct English words\n",
    "# import re\n",
    "# all_words = words_matrix.columns.values\n",
    "# word_dict = {}\n",
    "# for word in all_words:\n",
    "#     word_a = re.sub(r'(.)\\1+', r'\\1', word) #word with repeated characters reduced to 1 character\n",
    "#     word_b = re.sub(r'(.)\\1+', r'\\1\\1', word) #word with repeated characters reduced to 2 characters\n",
    "    \n",
    "#     #get count of each of the variations of the word in all sentences\n",
    "#     count_ = words_matrix.word.sum(axis=0)\n",
    "#     count_a = words_matrix[word_a].sum(axis=0) if word_a in all_words else 0\n",
    "#     count_b = words_matrix[word_b].sum(axis=0) if word_b in all_words else 0\n",
    "    \n",
    "#     #determine which is the most common variation of the word\n",
    "#     if count_ < count_a and count_a > count_b:\n",
    "#         word_dict[word] = word_a\n",
    "#     elif count_ < count_b and count_b > count_a:\n",
    "#         word_dict[word] =  word_b\n",
    "#     else:\n",
    "#         word_dict[word] = word\n",
    "\n",
    "# save_obj(word_dict, 'repeated_letters_dict')"
   ]
  },
  {
   "cell_type": "code",
   "execution_count": 18,
   "metadata": {},
   "outputs": [],
   "source": [
    "word_dict = load_obj('repeated_letters_dict') #load pre-calculated dictionary"
   ]
  },
  {
   "cell_type": "markdown",
   "metadata": {},
   "source": [
    "Let's test the dictionary for a few examples:"
   ]
  },
  {
   "cell_type": "code",
   "execution_count": 19,
   "metadata": {},
   "outputs": [
    {
     "data": {
      "text/plain": [
       "'good'"
      ]
     },
     "execution_count": 19,
     "metadata": {},
     "output_type": "execute_result"
    }
   ],
   "source": [
    "word_dict['goood']"
   ]
  },
  {
   "cell_type": "code",
   "execution_count": 20,
   "metadata": {},
   "outputs": [
    {
     "data": {
      "text/plain": [
       "'love'"
      ]
     },
     "execution_count": 20,
     "metadata": {},
     "output_type": "execute_result"
    }
   ],
   "source": [
    "word_dict['looove']"
   ]
  },
  {
   "cell_type": "code",
   "execution_count": 21,
   "metadata": {},
   "outputs": [],
   "source": [
    "def remove_repeated_chars(sentence, word_dict):\n",
    "    #function that translates all words in a text to their corresponding words according to a dictionary mapping\n",
    "    import string\n",
    "    sentence = sentence.translate(str.maketrans('', '', string.punctuation)) #remove punctuation from string \n",
    "    translated = []\n",
    "    #translate each word using word_dict - i.e. convert non-existent words with repeating letters to correct words\n",
    "    for x in list(sentence.split()):\n",
    "        t = word_dict.get(x.lower(), x)\n",
    "        translated.append(t)\n",
    "    newphrase = ' '.join(translated)\n",
    "    return newphrase"
   ]
  },
  {
   "cell_type": "code",
   "execution_count": 22,
   "metadata": {},
   "outputs": [],
   "source": [
    "#store copy of training and test sets' text field with no repeating characters\n",
    "train_text_norm = train.text.apply(lambda x: remove_repeated_chars(x, word_dict))\n",
    "test_text_norm = test.text.apply(lambda x: remove_repeated_chars(x, word_dict))"
   ]
  },
  {
   "cell_type": "markdown",
   "metadata": {},
   "source": [
    "Now that words with repeated characters have been fixed, we can create the training set's bag of words:"
   ]
  },
  {
   "cell_type": "code",
   "execution_count": 23,
   "metadata": {},
   "outputs": [
    {
     "data": {
      "text/plain": [
       "CountVectorizer(analyzer='word', binary=True, decode_error='strict',\n",
       "        dtype=<class 'numpy.int64'>, encoding='utf-8', input='content',\n",
       "        lowercase=True, max_df=1.0, max_features=None, min_df=1,\n",
       "        ngram_range=(1, 1), preprocessor=None, stop_words='english',\n",
       "        strip_accents='ascii', token_pattern='(?u)\\\\b\\\\w\\\\w+\\\\b',\n",
       "        tokenizer=None, vocabulary=None)"
      ]
     },
     "execution_count": 23,
     "metadata": {},
     "output_type": "execute_result"
    }
   ],
   "source": [
    "#create count_vector and fit it to the train data\n",
    "from sklearn.feature_extraction.text import CountVectorizer\n",
    "count_vector = CountVectorizer(lowercase=True, stop_words='english', strip_accents='ascii', binary=True)\n",
    "count_vector.fit(train_text_norm.get_values())"
   ]
  },
  {
   "cell_type": "code",
   "execution_count": 24,
   "metadata": {},
   "outputs": [],
   "source": [
    "#transform train to bag of words matrix\n",
    "train_matrix_norm = count_vector.transform(train_text_norm)\n",
    "train_df_norm =  pd.DataFrame(train_matrix_norm.toarray(), columns = count_vector.get_feature_names())"
   ]
  },
  {
   "cell_type": "code",
   "execution_count": 25,
   "metadata": {},
   "outputs": [],
   "source": [
    "#transform test to bag of words matrix, using count vectorizer fitted to train data\n",
    "test_matrix_norm = count_vector.transform(test_text_norm)\n",
    "test_df_norm =  pd.DataFrame(test_matrix_norm.toarray(), columns = count_vector.get_feature_names())"
   ]
  },
  {
   "cell_type": "code",
   "execution_count": 26,
   "metadata": {},
   "outputs": [],
   "source": [
    "# # erase pre-normalisation bags of words from memory\n",
    "# train_matrix= None\n",
    "# words_matrix = None"
   ]
  },
  {
   "cell_type": "markdown",
   "metadata": {},
   "source": [
    "We will do the same for the selected phrases in the training set (in case this is needed later):"
   ]
  },
  {
   "cell_type": "code",
   "execution_count": 27,
   "metadata": {},
   "outputs": [],
   "source": [
    "#store copy of training set's selected_text field with no repeating characters\n",
    "train_selected_norm = train.selected_text.apply(lambda x: remove_repeated_chars(x, word_dict))"
   ]
  },
  {
   "cell_type": "code",
   "execution_count": 28,
   "metadata": {},
   "outputs": [],
   "source": [
    "#create count_vector and fit it to the train data\n",
    "from sklearn.feature_extraction.text import CountVectorizer\n",
    "count_vector_selected = CountVectorizer(lowercase=True, stop_words='english', strip_accents='ascii', binary=True)\n",
    "count_vector_selected.fit(train_selected_norm.get_values())\n",
    "\n",
    "#transform train to bag of words matrix\n",
    "selected_matrix_norm = count_vector_selected.transform(train_selected_norm)\n",
    "selected_df_norm =  pd.DataFrame(selected_matrix_norm.toarray(), columns = count_vector_selected.get_feature_names())"
   ]
  },
  {
   "cell_type": "markdown",
   "metadata": {},
   "source": [
    "---"
   ]
  },
  {
   "cell_type": "markdown",
   "metadata": {},
   "source": [
    "### Baseline Model ###"
   ]
  },
  {
   "cell_type": "markdown",
   "metadata": {},
   "source": [
    "We will first test a simple model which is based on the balance between the count of words that are commonly encountered in positive sentiment tweets and words commonly used in negative sentiment tweets. If a given tweet contains more 'positive' words than 'negative' words it is classified as positive while if it contains more 'negative' words it is classified as negative. If there is the same number of 'positive' and 'negative' words (or the difference between the two counts is not greater than a pre-defined limit) then the tweet is classified as 'neutral'."
   ]
  },
  {
   "cell_type": "markdown",
   "metadata": {},
   "source": [
    "Let's first calculate some statistics about the frequency of occurrence of each word. We start by counting the number of samples that contain each word in the entire training dataset and in positive and negative samples seperately:"
   ]
  },
  {
   "cell_type": "code",
   "execution_count": 29,
   "metadata": {},
   "outputs": [],
   "source": [
    "def get_word_stats(matrix, labels, thres_pct=0.5):\n",
    "    #function that calculates the frequency of occcurence of words in positive and negative tweets\n",
    "    #thres_pct: minimum percentage of occurence in a particular class for word to be retained\n",
    "    \n",
    "    #Count total occurences of each word\n",
    "    total_freq = matrix.astype(bool).sum(axis=0).sort_values(ascending=False)\n",
    "    \n",
    "    #Count occurences of each word in positive and negative sentiment samples\n",
    "    matrix['sentiment'] = labels    #add label column to word_matrix\n",
    "    positive_freq = matrix[matrix.sentiment == 'positive'].iloc[:,:-1].astype(bool).sum(axis=0).sort_values(ascending=False)\n",
    "    negative_freq = matrix[matrix.sentiment == 'negative'].iloc[:,:-1].astype(bool).sum(axis=0).sort_values(ascending=False)\n",
    "    \n",
    "    #Concatenate frequency counts into a single dataframe\n",
    "    words_stats = pd.concat([total_freq, positive_freq.reindex(total_freq.index), negative_freq.reindex(total_freq.index)], axis=1)\n",
    "    words_stats = words_stats.rename(columns={0: 'total_count', 1: 'pos_count', 2: 'neg_count'})\n",
    "    \n",
    "    #Calculate percentage of phrases that contain each word that have pos or neg sentiment\n",
    "    words_stats['pos_pct'] = words_stats['pos_count']/words_stats['total_count']\n",
    "    words_stats['neg_pct'] = words_stats['neg_count']/words_stats['total_count']\n",
    "    \n",
    "    #Remove words that do not have a particular class (pos or neg) mainly associated with them\n",
    "    words_stats_reduced = words_stats[(words_stats.pos_pct>=thres_pct)|(words_stats.neg_pct>=thres_pct)]\n",
    "    \n",
    "    #Store words that appear frequently in positive or negative tweets\n",
    "    pos_words = words_stats_reduced[words_stats_reduced.pos_pct>words_stats_reduced.neg_pct].index.values\n",
    "    neg_words = words_stats_reduced[words_stats_reduced.pos_pct<words_stats_reduced.neg_pct].index.values\n",
    "    \n",
    "    return words_stats_reduced, pos_words, neg_words"
   ]
  },
  {
   "cell_type": "code",
   "execution_count": 31,
   "metadata": {},
   "outputs": [],
   "source": [
    "# calculate word statistics\n",
    "# word_stats, pos_words, neg_words = get_word_stats(train_df_norm, train.sentiment, thres_pct=0.5)\n",
    "\n",
    "# save calculated stats to .pkl files in order to avoid having to run the above calculation every time the notebook is restarted \n",
    "# save_obj(word_stats, 'word_stats')\n",
    "# save_obj(pos_words, 'pos_words')\n",
    "# save_obj(neg_words, 'neg_words')"
   ]
  },
  {
   "cell_type": "code",
   "execution_count": 32,
   "metadata": {},
   "outputs": [],
   "source": [
    "#load pre-calculated stats and pos & neg words\n",
    "word_stats = load_obj('word_stats')\n",
    "pos_words = load_obj('pos_words')\n",
    "neg_words = load_obj('neg_words')"
   ]
  },
  {
   "cell_type": "markdown",
   "metadata": {},
   "source": [
    "Let's see some of the most common words appearing in positive and negative sentiment tweets. We will start with the most positive words:"
   ]
  },
  {
   "cell_type": "code",
   "execution_count": 33,
   "metadata": {},
   "outputs": [
    {
     "data": {
      "text/html": [
       "<div>\n",
       "<style scoped>\n",
       "    .dataframe tbody tr th:only-of-type {\n",
       "        vertical-align: middle;\n",
       "    }\n",
       "\n",
       "    .dataframe tbody tr th {\n",
       "        vertical-align: top;\n",
       "    }\n",
       "\n",
       "    .dataframe thead th {\n",
       "        text-align: right;\n",
       "    }\n",
       "</style>\n",
       "<table border=\"1\" class=\"dataframe\">\n",
       "  <thead>\n",
       "    <tr style=\"text-align: right;\">\n",
       "      <th></th>\n",
       "      <th>total_count</th>\n",
       "      <th>pos_count</th>\n",
       "      <th>neg_count</th>\n",
       "      <th>pos_pct</th>\n",
       "      <th>neg_pct</th>\n",
       "    </tr>\n",
       "  </thead>\n",
       "  <tbody>\n",
       "    <tr>\n",
       "      <th>day</th>\n",
       "      <td>1924</td>\n",
       "      <td>1141</td>\n",
       "      <td>308</td>\n",
       "      <td>0.593035</td>\n",
       "      <td>0.160083</td>\n",
       "    </tr>\n",
       "    <tr>\n",
       "      <th>good</th>\n",
       "      <td>1507</td>\n",
       "      <td>1018</td>\n",
       "      <td>198</td>\n",
       "      <td>0.675514</td>\n",
       "      <td>0.131387</td>\n",
       "    </tr>\n",
       "    <tr>\n",
       "      <th>love</th>\n",
       "      <td>1106</td>\n",
       "      <td>861</td>\n",
       "      <td>47</td>\n",
       "      <td>0.778481</td>\n",
       "      <td>0.042495</td>\n",
       "    </tr>\n",
       "    <tr>\n",
       "      <th>happy</th>\n",
       "      <td>953</td>\n",
       "      <td>817</td>\n",
       "      <td>43</td>\n",
       "      <td>0.857293</td>\n",
       "      <td>0.045121</td>\n",
       "    </tr>\n",
       "    <tr>\n",
       "      <th>mothers</th>\n",
       "      <td>636</td>\n",
       "      <td>555</td>\n",
       "      <td>13</td>\n",
       "      <td>0.872642</td>\n",
       "      <td>0.020440</td>\n",
       "    </tr>\n",
       "    <tr>\n",
       "      <th>thanks</th>\n",
       "      <td>655</td>\n",
       "      <td>550</td>\n",
       "      <td>19</td>\n",
       "      <td>0.839695</td>\n",
       "      <td>0.029008</td>\n",
       "    </tr>\n",
       "    <tr>\n",
       "      <th>great</th>\n",
       "      <td>599</td>\n",
       "      <td>467</td>\n",
       "      <td>33</td>\n",
       "      <td>0.779633</td>\n",
       "      <td>0.055092</td>\n",
       "    </tr>\n",
       "    <tr>\n",
       "      <th>hope</th>\n",
       "      <td>580</td>\n",
       "      <td>389</td>\n",
       "      <td>52</td>\n",
       "      <td>0.670690</td>\n",
       "      <td>0.089655</td>\n",
       "    </tr>\n",
       "    <tr>\n",
       "      <th>fun</th>\n",
       "      <td>515</td>\n",
       "      <td>337</td>\n",
       "      <td>68</td>\n",
       "      <td>0.654369</td>\n",
       "      <td>0.132039</td>\n",
       "    </tr>\n",
       "    <tr>\n",
       "      <th>nice</th>\n",
       "      <td>424</td>\n",
       "      <td>329</td>\n",
       "      <td>29</td>\n",
       "      <td>0.775943</td>\n",
       "      <td>0.068396</td>\n",
       "    </tr>\n",
       "  </tbody>\n",
       "</table>\n",
       "</div>"
      ],
      "text/plain": [
       "         total_count  pos_count  neg_count   pos_pct   neg_pct\n",
       "day             1924       1141        308  0.593035  0.160083\n",
       "good            1507       1018        198  0.675514  0.131387\n",
       "love            1106        861         47  0.778481  0.042495\n",
       "happy            953        817         43  0.857293  0.045121\n",
       "mothers          636        555         13  0.872642  0.020440\n",
       "thanks           655        550         19  0.839695  0.029008\n",
       "great            599        467         33  0.779633  0.055092\n",
       "hope             580        389         52  0.670690  0.089655\n",
       "fun              515        337         68  0.654369  0.132039\n",
       "nice             424        329         29  0.775943  0.068396"
      ]
     },
     "execution_count": 33,
     "metadata": {},
     "output_type": "execute_result"
    }
   ],
   "source": [
    "word_stats[word_stats.pos_pct>word_stats.neg_pct].sort_values('pos_count',ascending=False).head(10)"
   ]
  },
  {
   "cell_type": "markdown",
   "metadata": {},
   "source": [
    "... and continue with the most negative words:"
   ]
  },
  {
   "cell_type": "code",
   "execution_count": 34,
   "metadata": {},
   "outputs": [
    {
     "data": {
      "text/html": [
       "<div>\n",
       "<style scoped>\n",
       "    .dataframe tbody tr th:only-of-type {\n",
       "        vertical-align: middle;\n",
       "    }\n",
       "\n",
       "    .dataframe tbody tr th {\n",
       "        vertical-align: top;\n",
       "    }\n",
       "\n",
       "    .dataframe thead th {\n",
       "        text-align: right;\n",
       "    }\n",
       "</style>\n",
       "<table border=\"1\" class=\"dataframe\">\n",
       "  <thead>\n",
       "    <tr style=\"text-align: right;\">\n",
       "      <th></th>\n",
       "      <th>total_count</th>\n",
       "      <th>pos_count</th>\n",
       "      <th>neg_count</th>\n",
       "      <th>pos_pct</th>\n",
       "      <th>neg_pct</th>\n",
       "    </tr>\n",
       "  </thead>\n",
       "  <tbody>\n",
       "    <tr>\n",
       "      <th>miss</th>\n",
       "      <td>600</td>\n",
       "      <td>50</td>\n",
       "      <td>414</td>\n",
       "      <td>0.083333</td>\n",
       "      <td>0.690000</td>\n",
       "    </tr>\n",
       "    <tr>\n",
       "      <th>sad</th>\n",
       "      <td>469</td>\n",
       "      <td>6</td>\n",
       "      <td>384</td>\n",
       "      <td>0.012793</td>\n",
       "      <td>0.818763</td>\n",
       "    </tr>\n",
       "    <tr>\n",
       "      <th>sorry</th>\n",
       "      <td>470</td>\n",
       "      <td>21</td>\n",
       "      <td>336</td>\n",
       "      <td>0.044681</td>\n",
       "      <td>0.714894</td>\n",
       "    </tr>\n",
       "    <tr>\n",
       "      <th>bad</th>\n",
       "      <td>464</td>\n",
       "      <td>46</td>\n",
       "      <td>291</td>\n",
       "      <td>0.099138</td>\n",
       "      <td>0.627155</td>\n",
       "    </tr>\n",
       "    <tr>\n",
       "      <th>feel</th>\n",
       "      <td>515</td>\n",
       "      <td>109</td>\n",
       "      <td>283</td>\n",
       "      <td>0.211650</td>\n",
       "      <td>0.549515</td>\n",
       "    </tr>\n",
       "    <tr>\n",
       "      <th>hate</th>\n",
       "      <td>316</td>\n",
       "      <td>7</td>\n",
       "      <td>255</td>\n",
       "      <td>0.022152</td>\n",
       "      <td>0.806962</td>\n",
       "    </tr>\n",
       "    <tr>\n",
       "      <th>sick</th>\n",
       "      <td>252</td>\n",
       "      <td>11</td>\n",
       "      <td>196</td>\n",
       "      <td>0.043651</td>\n",
       "      <td>0.777778</td>\n",
       "    </tr>\n",
       "    <tr>\n",
       "      <th>sucks</th>\n",
       "      <td>207</td>\n",
       "      <td>2</td>\n",
       "      <td>177</td>\n",
       "      <td>0.009662</td>\n",
       "      <td>0.855072</td>\n",
       "    </tr>\n",
       "    <tr>\n",
       "      <th>tired</th>\n",
       "      <td>257</td>\n",
       "      <td>20</td>\n",
       "      <td>172</td>\n",
       "      <td>0.077821</td>\n",
       "      <td>0.669261</td>\n",
       "    </tr>\n",
       "    <tr>\n",
       "      <th>ugh</th>\n",
       "      <td>217</td>\n",
       "      <td>15</td>\n",
       "      <td>165</td>\n",
       "      <td>0.069124</td>\n",
       "      <td>0.760369</td>\n",
       "    </tr>\n",
       "  </tbody>\n",
       "</table>\n",
       "</div>"
      ],
      "text/plain": [
       "       total_count  pos_count  neg_count   pos_pct   neg_pct\n",
       "miss           600         50        414  0.083333  0.690000\n",
       "sad            469          6        384  0.012793  0.818763\n",
       "sorry          470         21        336  0.044681  0.714894\n",
       "bad            464         46        291  0.099138  0.627155\n",
       "feel           515        109        283  0.211650  0.549515\n",
       "hate           316          7        255  0.022152  0.806962\n",
       "sick           252         11        196  0.043651  0.777778\n",
       "sucks          207          2        177  0.009662  0.855072\n",
       "tired          257         20        172  0.077821  0.669261\n",
       "ugh            217         15        165  0.069124  0.760369"
      ]
     },
     "execution_count": 34,
     "metadata": {},
     "output_type": "execute_result"
    }
   ],
   "source": [
    "word_stats[word_stats.neg_pct>word_stats.pos_pct].sort_values('neg_count',ascending=False).head(10)"
   ]
  },
  {
   "cell_type": "markdown",
   "metadata": {},
   "source": [
    "An additional useful statistic - the number of words in each text:"
   ]
  },
  {
   "cell_type": "code",
   "execution_count": 35,
   "metadata": {
    "scrolled": false
   },
   "outputs": [],
   "source": [
    "train_text_len = train.text.apply(lambda x: len(x.split()))\n",
    "test_text_len = test.text.apply(lambda x: len(x.split()))"
   ]
  },
  {
   "cell_type": "markdown",
   "metadata": {},
   "source": [
    "We now create a function for the baseline model described above:"
   ]
  },
  {
   "cell_type": "code",
   "execution_count": 36,
   "metadata": {},
   "outputs": [],
   "source": [
    "def intersection(list1, list2): \n",
    "    return list(set(list1) & set(list2)) \n",
    "\n",
    "def baseline_classifier(matrix, text_len, pos_words, neg_words, limit=0, show_metrics=False, plot_confusion=False, correct_labels=None):\n",
    "    #Remove words that appear in pos_words or neg_word but not in the texts to be classified\n",
    "    pos_words = intersection(pos_words, matrix.columns.values)\n",
    "    neg_words = intersection(neg_words, matrix.columns.values)\n",
    "    #Calculate balance of 'positive' and 'negative' words in each text\n",
    "    words_balance = pd.DataFrame(matrix[pos_words].sum(axis=1)-matrix[neg_words].sum(axis=1)).rename(columns={0:'balance'})\n",
    "    #Calculate balance of 'positive' and 'negative' words as a percentage of the total number of words in the text\n",
    "    words_balance['len'] = text_len #add total lenght of the text to words_balance\n",
    "    words_balance['balance_pct'] = words_balance['balance']/words_balance['len'] #calculate percentage\n",
    "    \n",
    "    #Classify text based on balance. If abs(balance_pct)<limit then 'neutral'\n",
    "    pred = words_balance.balance_pct.apply(lambda x: 'positive' if x>limit else ('negative' if x<-limit else 'neutral')).values\n",
    "    #Calculate probability that text is in predicted class\n",
    "    prob = words_balance.balance_pct.apply(lambda x: abs(x) if abs(x)>limit else 1-abs(x))\n",
    "    \n",
    "    if show_metrics and correct_labels is not None:\n",
    "        from sklearn.metrics import accuracy_score, precision_score, recall_score, f1_score\n",
    "        print('Results')\n",
    "        print('Accuracy score: ', format(accuracy_score(correct_labels, pred)))\n",
    "        print('Precision score: ', format(precision_score(correct_labels, pred,average=None)))\n",
    "        print('Recall score: ', format(recall_score(correct_labels, pred,average=None)))\n",
    "        print('F1 score: ', format(f1_score(correct_labels, pred,average=None)))\n",
    "    \n",
    "    if plot_confusion and correct_labels is not None:\n",
    "        from sklearn.metrics import confusion_matrix\n",
    "        import seaborn as sns\n",
    "\n",
    "        #Calculate confusion matrix\n",
    "        cm = confusion_matrix(correct_labels, pred, ['positive','neutral','negative'])\n",
    "        \n",
    "        #Plot confusion matrix heatmap\n",
    "        ax= plt.subplot()\n",
    "        sns.heatmap(cm, annot=True, ax = ax)\n",
    "        ax.set_xlabel('Predicted labels')\n",
    "        ax.set_ylabel('True labels')\n",
    "        ax.set_title('Confusion Matrix') \n",
    "        ax.xaxis.set_ticklabels(['positive','neutral','negative'])\n",
    "        ax.yaxis.set_ticklabels(['positive','neutral','negative'])\n",
    "        plt.show()\n",
    "        \n",
    "    \n",
    "    return pred, prob"
   ]
  },
  {
   "cell_type": "markdown",
   "metadata": {},
   "source": [
    "**Baseline Model using full text**"
   ]
  },
  {
   "cell_type": "markdown",
   "metadata": {},
   "source": [
    "Run on training set with limit=0 (i.e. if n_pos>n_neg then 'positive'):"
   ]
  },
  {
   "cell_type": "code",
   "execution_count": 60,
   "metadata": {},
   "outputs": [
    {
     "name": "stdout",
     "output_type": "stream",
     "text": [
      "Results\n",
      "Accuracy score:  0.7433406113537118\n",
      "Precision score:  [0.75558167 0.79406769 0.69983211]\n",
      "Recall score:  [0.82637193 0.54664028 0.9228618 ]\n",
      "F1 score:  [0.78939292 0.64752264 0.7960199 ]\n"
     ]
    },
    {
     "data": {
      "image/png": "[encoded data removed]",
      "text/plain": [
       "<Figure size 432x288 with 2 Axes>"
      ]
     },
     "metadata": {
      "needs_background": "light"
     },
     "output_type": "display_data"
    }
   ],
   "source": [
    "train_pred, prob = baseline_classifier(train_df_norm,train_text_len,pos_words,neg_words,limit=0,show_metrics=True,plot_confusion=True,correct_labels=train.sentiment.values)"
   ]
  },
  {
   "cell_type": "markdown",
   "metadata": {},
   "source": [
    "Run on training set with limit=0.1 (i.e. if (n_pos-n_neg)/len > 0.1 then 'positive'):"
   ]
  },
  {
   "cell_type": "code",
   "execution_count": 66,
   "metadata": {},
   "outputs": [
    {
     "name": "stdout",
     "output_type": "stream",
     "text": [
      "Results\n",
      "Accuracy score:  0.7599344978165938\n",
      "Precision score:  [0.869272   0.67603839 0.81816007]\n",
      "Recall score:  [0.64606092 0.81110012 0.79690049]\n",
      "F1 score:  [0.74122678 0.73743611 0.80739035]\n"
     ]
    },
    {
     "data": {
      "image/png": "[encoded data removed]",
      "text/plain": [
       "<Figure size 432x288 with 2 Axes>"
      ]
     },
     "metadata": {
      "needs_background": "light"
     },
     "output_type": "display_data"
    }
   ],
   "source": [
    "train_pred, prob = baseline_classifier(train_df_norm,train_text_len,pos_words,neg_words,limit=0.1,show_metrics=True,plot_confusion=True,correct_labels=train.sentiment.values)"
   ]
  },
  {
   "cell_type": "markdown",
   "metadata": {},
   "source": [
    "While recall improves for 'neutral' when lim>0, it drops for 'positive' and 'negative' tweets."
   ]
  },
  {
   "cell_type": "markdown",
   "metadata": {},
   "source": [
    "Run on test set with limit=0:"
   ]
  },
  {
   "cell_type": "code",
   "execution_count": 67,
   "metadata": {},
   "outputs": [
    {
     "name": "stdout",
     "output_type": "stream",
     "text": [
      "Results\n",
      "Accuracy score:  0.6120543293718166\n",
      "Precision score:  [0.62085308 0.61137441 0.60603933]\n",
      "Recall score:  [0.65434565 0.45104895 0.7824116 ]\n",
      "F1 score:  [0.63715953 0.51911469 0.68302335]\n"
     ]
    },
    {
     "data": {
      "image/png": "[encoded data removed]",
      "text/plain": [
       "<Figure size 432x288 with 2 Axes>"
      ]
     },
     "metadata": {
      "needs_background": "light"
     },
     "output_type": "display_data"
    }
   ],
   "source": [
    "test_pred, prob = baseline_classifier(test_df_norm,test_text_len,pos_words,neg_words,limit=0,show_metrics=True,plot_confusion=True,correct_labels=test.sentiment.values)"
   ]
  },
  {
   "cell_type": "markdown",
   "metadata": {},
   "source": [
    "**Baseline Model using selected_text**"
   ]
  },
  {
   "cell_type": "markdown",
   "metadata": {},
   "source": [
    "We will now try training the baseline classifier with the selected_text from the training set instead of the full text of each document. This will help to only identify words that are truely associated with a given sentiment."
   ]
  },
  {
   "cell_type": "code",
   "execution_count": 43,
   "metadata": {},
   "outputs": [],
   "source": [
    "# run word stats calculator on selected text only:\n",
    "# word_stats_selected, pos_words_selected, neg_words_selected = get_word_stats(selected_df_norm, train.sentiment, thres_pct=0.5)\n",
    "# save_obj(word_stats_selected, 'word_stats_selected')\n",
    "# save_obj(pos_words_selected, 'pos_words_selected')\n",
    "# save_obj(neg_words_selected, 'neg_words_selected')"
   ]
  },
  {
   "cell_type": "code",
   "execution_count": 34,
   "metadata": {},
   "outputs": [],
   "source": [
    "#load pre-calculated stats and pos & neg words\n",
    "word_stats_selected = load_obj('word_stats_selected')\n",
    "pos_words_selected = load_obj('pos_words_selected')\n",
    "neg_words_selected = load_obj('neg_words_selected')"
   ]
  },
  {
   "cell_type": "code",
   "execution_count": 35,
   "metadata": {},
   "outputs": [
    {
     "name": "stdout",
     "output_type": "stream",
     "text": [
      "Results\n",
      "Accuracy score:  0.6997736276174307\n",
      "Precision score:  [0.70238095 0.65743243 0.75309735]\n",
      "Recall score:  [0.64835165 0.68041958 0.77153218]\n",
      "F1 score:  [0.67428571 0.66872852 0.76220331]\n"
     ]
    },
    {
     "data": {
      "image/png": "[encoded data removed]",
      "text/plain": [
       "<Figure size 432x288 with 2 Axes>"
      ]
     },
     "metadata": {
      "needs_background": "light"
     },
     "output_type": "display_data"
    }
   ],
   "source": [
    "test_pred,prob = baseline_classifier(test_df_norm,test_text_len,pos_words_selected,neg_words_selected,limit=0,show_metrics=True,plot_confusion=True,correct_labels=test.sentiment.values)"
   ]
  },
  {
   "cell_type": "markdown",
   "metadata": {},
   "source": [
    "As expected, the performance is indeed improved when we only focus on the words in the selected_text field. However, the selected_text field will not be available for new unlabeled tweets, therefore this model is not really useful."
   ]
  },
  {
   "cell_type": "markdown",
   "metadata": {},
   "source": [
    "---"
   ]
  },
  {
   "cell_type": "markdown",
   "metadata": {},
   "source": [
    "### Training and evaluation of different Machine Learning models ###"
   ]
  },
  {
   "cell_type": "markdown",
   "metadata": {},
   "source": [
    "Now that a basic, simple approach has been tested, we will try to use some more advanced classification algorithms and see how they compare to the results obtained above."
   ]
  },
  {
   "cell_type": "markdown",
   "metadata": {},
   "source": [
    "We will be using the pre-processed text that was obtained above:"
   ]
  },
  {
   "cell_type": "code",
   "execution_count": 29,
   "metadata": {},
   "outputs": [],
   "source": [
    "# Store training and test datasets and the corresponding labels seperately\n",
    "x_train = train_text_norm\n",
    "x_test = test_text_norm\n",
    "\n",
    "y_train = train.sentiment.values\n",
    "y_test = test.sentiment.values"
   ]
  },
  {
   "cell_type": "code",
   "execution_count": 30,
   "metadata": {},
   "outputs": [],
   "source": [
    "#Split training data into a training and a validation set (for calculating ensemble model's weights)\n",
    "from sklearn.model_selection import train_test_split\n",
    "x_train, x_valid, y_train, y_valid = train_test_split(x_train,y_train,test_size=0.1)"
   ]
  },
  {
   "cell_type": "code",
   "execution_count": 31,
   "metadata": {},
   "outputs": [
    {
     "name": "stdout",
     "output_type": "stream",
     "text": [
      "Train Set: 24732 samples\n",
      "Test Set: 3534 samples\n",
      "Validation Set: 2748 samples\n"
     ]
    }
   ],
   "source": [
    "print('Train Set: {} samples'.format(x_train.shape[0]))\n",
    "print('Test Set: {} samples'.format(x_test.shape[0]))\n",
    "print('Validation Set: {} samples'.format(x_valid.shape[0]))"
   ]
  },
  {
   "cell_type": "code",
   "execution_count": 32,
   "metadata": {},
   "outputs": [],
   "source": [
    "# Transform into bags of words\n",
    "x_train_bow = count_vector.transform(x_train)\n",
    "x_test_bow = count_vector.transform(x_test)\n",
    "x_valid_bow = count_vector.transform(x_valid)"
   ]
  },
  {
   "cell_type": "markdown",
   "metadata": {},
   "source": [
    "**Model pipeline**"
   ]
  },
  {
   "cell_type": "markdown",
   "metadata": {},
   "source": [
    "Let's create pipeline to test the performance of different machine learning models:"
   ]
  },
  {
   "cell_type": "code",
   "execution_count": 46,
   "metadata": {},
   "outputs": [],
   "source": [
    "#encode training labels to an integer format that is interpretable by all sklearn classification models\n",
    "from sklearn.preprocessing import LabelEncoder\n",
    "le = LabelEncoder()\n",
    "le = le.fit(train.sentiment.values.astype(str))"
   ]
  },
  {
   "cell_type": "code",
   "execution_count": 87,
   "metadata": {},
   "outputs": [],
   "source": [
    "def run_model(model, model_name, train_data, train_labels, test_data, test_labels, label_encoder, tf_idf=False):\n",
    "    #model pipeline function\n",
    "    \n",
    "    if tf_idf:\n",
    "        from sklearn.feature_extraction.text import TfidfTransformer\n",
    "        tfidf_transformer = TfidfTransformer()\n",
    "        tfidf_transformer = tfidf_transformer.fit(train_data)\n",
    "        train_data = tfidf_transformer.transform(train_data)\n",
    "        test_data = tfidf_transformer.transform(test_data)\n",
    "    \n",
    "    train_labels_encoded = label_encoder.transform(train_labels.astype(str))\n",
    "              \n",
    "    #Fit model to training data\n",
    "    model.fit(train_data, train_labels_encoded)\n",
    "    \n",
    "    #Test model's performance on training data\n",
    "    train_pred = model.predict(train_data)\n",
    "    train_pred = le.inverse_transform(train_pred)\n",
    "    \n",
    "    #Test model's performance on test data\n",
    "    test_pred = model.predict(test_data) \n",
    "    test_pred = le.inverse_transform(test_pred)\n",
    "    \n",
    "    from sklearn.metrics import accuracy_score, precision_score, recall_score, f1_score\n",
    "    #Prin performance metrics\n",
    "    print(model_name)\n",
    "    print()\n",
    "    print('Results on training set:')\n",
    "    print('Accuracy score: ', format(accuracy_score(train_labels, train_pred)))\n",
    "    print('Precision score: ', format(precision_score(train_labels, train_pred,average=None)))\n",
    "    print('Recall score: ', format(recall_score(train_labels, train_pred,average=None)))\n",
    "    print('F1 score: ', format(f1_score(train_labels, train_pred,average=None)))\n",
    "    print('---------------------------------------------------------------------')\n",
    "    print('Results on test set:')\n",
    "    print('Accuracy score: ', format(accuracy_score(test_labels, test_pred)))\n",
    "    print('Precision score: ', format(precision_score(test_labels, test_pred,average=None)))\n",
    "    print('Recall score: ', format(recall_score(test_labels, test_pred,average=None)))\n",
    "    print('F1 score: ', format(f1_score(test_labels, test_pred,average=None)))\n",
    "    print('---------------------------------------------------------------------')\n",
    "    \n",
    "    #Plot confusion matrix for test set\n",
    "    from sklearn.metrics import confusion_matrix\n",
    "    import seaborn as sns\n",
    "\n",
    "    cm = confusion_matrix(test_labels, test_pred, ['positive','neutral','negative'])\n",
    "\n",
    "    ax= plt.subplot()\n",
    "    sns.heatmap(cm, annot=True, ax = ax)\n",
    "    ax.set_xlabel('Predicted labels')\n",
    "    ax.set_ylabel('True labels')\n",
    "    ax.set_title('Confusion Matrix - Test Set') \n",
    "    ax.xaxis.set_ticklabels(le.inverse_transform([0,1,2]))\n",
    "    ax.yaxis.set_ticklabels(le.inverse_transform([0,1,2]))\n",
    "    plt.show()\n",
    "    \n",
    "    return train_pred, test_pred, model, accuracy_score(test_labels,test_pred)"
   ]
  },
  {
   "cell_type": "markdown",
   "metadata": {},
   "source": [
    "Import and specify the models to be tested:"
   ]
  },
  {
   "cell_type": "code",
   "execution_count": 88,
   "metadata": {},
   "outputs": [],
   "source": [
    "from sklearn.naive_bayes import MultinomialNB, BernoulliNB, GaussianNB\n",
    "from sklearn.naive_bayes import BernoulliNB\n",
    "from sklearn.linear_model import LogisticRegression\n",
    "from sklearn.neighbors import KNeighborsClassifier\n",
    "from sklearn.tree import DecisionTreeClassifier\n",
    "from sklearn.ensemble import AdaBoostClassifier, GradientBoostingClassifier, BaggingClassifier, RandomForestClassifier\n",
    "\n",
    "models = dict()\n",
    "\n",
    "models['Multinomial Naive Bayes'] = MultinomialNB()\n",
    "models['Bernoulli Naive Bayes'] = BernoulliNB()\n",
    "models['Gaussian Naive Bayes'] = GaussianNB()\n",
    "models['Logistic Regression'] = LogisticRegression(random_state=42, multi_class='auto')\n",
    "models['KNN'] = KNeighborsClassifier(n_neighbors=5)\n",
    "models['Decision Tree'] = DecisionTreeClassifier(random_state=42)\n",
    "models['Bagging'] = BaggingClassifier(n_estimators=50 ,random_state=42)\n"
   ]
  },
  {
   "cell_type": "markdown",
   "metadata": {},
   "source": [
    "This pipeline function will now be used in order to evaluate the performance of a set of algorithms on the training and test sets:"
   ]
  },
  {
   "cell_type": "markdown",
   "metadata": {},
   "source": [
    "**Naive Bayes**"
   ]
  },
  {
   "cell_type": "code",
   "execution_count": 99,
   "metadata": {
    "scrolled": false
   },
   "outputs": [
    {
     "name": "stdout",
     "output_type": "stream",
     "text": [
      "Multinomial Naive Bayes\n",
      "\n",
      "Results on training set:\n",
      "Accuracy score:  0.8488193433608281\n",
      "Precision score:  [0.88264437 0.81941416 0.86069394]\n",
      "Recall score:  [0.8092264  0.86595873 0.86281635]\n",
      "F1 score:  [0.84434242 0.84204374 0.86175384]\n",
      "---------------------------------------------------------------------\n",
      "Results on test set:\n",
      "Accuracy score:  0.6598754951895869\n",
      "Precision score:  [0.68082664 0.60172096 0.73359073]\n",
      "Recall score:  [0.59240759 0.68461538 0.68902992]\n",
      "F1 score:  [0.63354701 0.64049722 0.71061244]\n",
      "---------------------------------------------------------------------\n"
     ]
    },
    {
     "data": {
      "image/png": "[encoded data removed]",
      "text/plain": [
       "<Figure size 432x288 with 2 Axes>"
      ]
     },
     "metadata": {
      "needs_background": "light"
     },
     "output_type": "display_data"
    }
   ],
   "source": [
    "train_pred, test_pred, m_nb_model, m_nb_test_accuracy = run_model(models['Multinomial Naive Bayes'],'Multinomial Naive Bayes',x_train_bow,y_train,x_test_bow,y_test,le,tf_idf=False)\n",
    "save_obj(m_nb_model, 'm_nb_model')"
   ]
  },
  {
   "cell_type": "code",
   "execution_count": 105,
   "metadata": {
    "scrolled": false
   },
   "outputs": [
    {
     "name": "stdout",
     "output_type": "stream",
     "text": [
      "Bernoulli Naive Bayes\n",
      "\n",
      "Results on training set:\n",
      "Accuracy score:  0.8089923985120492\n",
      "Precision score:  [0.92209325 0.71434034 0.90979617]\n",
      "Recall score:  [0.66529454 0.93568423 0.77624919]\n",
      "F1 score:  [0.77292216 0.81016611 0.83773373]\n",
      "---------------------------------------------------------------------\n",
      "Results on test set:\n",
      "Accuracy score:  0.6230899830220713\n",
      "Precision score:  [0.73260073 0.53697024 0.79350649]\n",
      "Recall score:  [0.3996004  0.83286713 0.55394379]\n",
      "F1 score:  [0.51712993 0.65296053 0.65242926]\n",
      "---------------------------------------------------------------------\n"
     ]
    },
    {
     "data": {
      "image/png": "[encoded data removed]",
      "text/plain": [
       "<Figure size 432x288 with 2 Axes>"
      ]
     },
     "metadata": {
      "needs_background": "light"
     },
     "output_type": "display_data"
    }
   ],
   "source": [
    "train_pred, test_pred, b_nb_model, b_nb_test_accuracy = run_model(models['Bernoulli Naive Bayes'],'Bernoulli Naive Bayes',x_train_bow,y_train,x_test_bow,y_test,le,tf_idf=False)\n",
    "save_obj(b_nb_model, 'b_nb_model')"
   ]
  },
  {
   "cell_type": "markdown",
   "metadata": {},
   "source": [
    "**Logistic Regression**"
   ]
  },
  {
   "cell_type": "code",
   "execution_count": 91,
   "metadata": {
    "scrolled": false
   },
   "outputs": [
    {
     "name": "stderr",
     "output_type": "stream",
     "text": [
      "C:\\Users\\Alex\\Anaconda3\\lib\\site-packages\\sklearn\\linear_model\\logistic.py:433: FutureWarning: Default solver will be changed to 'lbfgs' in 0.22. Specify a solver to silence this warning.\n",
      "  FutureWarning)\n"
     ]
    },
    {
     "name": "stdout",
     "output_type": "stream",
     "text": [
      "Logistic Regression\n",
      "\n",
      "Results on training set:\n",
      "Accuracy score:  0.8702895034772764\n",
      "Precision score:  [0.89878667 0.84121557 0.88597062]\n",
      "Recall score:  [0.83066004 0.88739732 0.8843608 ]\n",
      "F1 score:  [0.86338153 0.86368955 0.88516498]\n",
      "---------------------------------------------------------------------\n",
      "Results on test set:\n",
      "Accuracy score:  0.6992076966610073\n",
      "Precision score:  [0.71347678 0.63515152 0.79220779]\n",
      "Recall score:  [0.62937063 0.73286713 0.71894832]\n",
      "F1 score:  [0.66878981 0.68051948 0.75380228]\n",
      "---------------------------------------------------------------------\n"
     ]
    },
    {
     "data": {
      "image/png": "[encoded data removed]",
      "text/plain": [
       "<Figure size 432x288 with 2 Axes>"
      ]
     },
     "metadata": {
      "needs_background": "light"
     },
     "output_type": "display_data"
    }
   ],
   "source": [
    "train_pred, test_pred, log_model, log_test_accuracy = run_model(models['Logistic Regression'],'Logistic Regression',x_train_bow,y_train,x_test_bow,y_test,le,tf_idf=False)\n",
    "save_obj(log_model, 'log_model')"
   ]
  },
  {
   "cell_type": "markdown",
   "metadata": {},
   "source": [
    "**K-Nearest Neighbors**"
   ]
  },
  {
   "cell_type": "code",
   "execution_count": 77,
   "metadata": {
    "scrolled": false
   },
   "outputs": [
    {
     "name": "stdout",
     "output_type": "stream",
     "text": [
      "KNN\n",
      "\n",
      "Results on training set:\n",
      "Accuracy score:  0.6556040756914119\n",
      "Precision score:  [0.77242789 0.56445202 0.85513078]\n",
      "Recall score:  [0.43709035 0.89412611 0.54474481]\n",
      "F1 score:  [0.55827315 0.69203189 0.6655278 ]\n",
      "---------------------------------------------------------------------\n",
      "Results on test set:\n",
      "Accuracy score:  0.5735710243350312\n",
      "Precision score:  [0.64236902 0.49897246 0.8021148 ]\n",
      "Recall score:  [0.28171828 0.84895105 0.48141432]\n",
      "F1 score:  [0.39166667 0.62852705 0.60169972]\n",
      "---------------------------------------------------------------------\n"
     ]
    },
    {
     "data": {
      "image/png": "[encoded data removed]",
      "text/plain": [
       "<Figure size 432x288 with 2 Axes>"
      ]
     },
     "metadata": {
      "needs_background": "light"
     },
     "output_type": "display_data"
    }
   ],
   "source": [
    "train_pred, test_pred, knn_model, knn_test_accuracy = run_model(models['KNN'],'KNN',x_train_bow,y_train,x_test_bow,y_test,le,tf_idf=False)\n",
    "save_obj(knn_model, 'knn_model')"
   ]
  },
  {
   "cell_type": "markdown",
   "metadata": {},
   "source": [
    "**Decision Tree & Bagging**"
   ]
  },
  {
   "cell_type": "code",
   "execution_count": 104,
   "metadata": {},
   "outputs": [
    {
     "name": "stdout",
     "output_type": "stream",
     "text": [
      "Decision Tree\n",
      "\n",
      "Results on training set:\n",
      "Accuracy score:  0.9961183891314895\n",
      "Precision score:  [0.99560284 0.99440392 0.99882736]\n",
      "Recall score:  [0.99630944 0.99689441 0.99493835]\n",
      "F1 score:  [0.99595601 0.99564761 0.99687906]\n",
      "---------------------------------------------------------------------\n",
      "Results on test set:\n",
      "Accuracy score:  0.656479909451047\n",
      "Precision score:  [0.63223938 0.6257586  0.72610837]\n",
      "Recall score:  [0.65434565 0.64895105 0.6681777 ]\n",
      "F1 score:  [0.6431026  0.63714384 0.69593957]\n",
      "---------------------------------------------------------------------\n"
     ]
    },
    {
     "data": {
      "image/png": "[encoded data removed]",
      "text/plain": [
       "<Figure size 432x288 with 2 Axes>"
      ]
     },
     "metadata": {
      "needs_background": "light"
     },
     "output_type": "display_data"
    }
   ],
   "source": [
    "train_pred, test_pred, tree_model, tree_test_accuracy = run_model(models['Decision Tree'],'Decision Tree',x_train_bow,y_train,x_test_bow,y_test,le,tf_idf=False)\n",
    "save_obj(tree_model, 'tree_model')"
   ]
  },
  {
   "cell_type": "code",
   "execution_count": 163,
   "metadata": {},
   "outputs": [
    {
     "name": "stdout",
     "output_type": "stream",
     "text": [
      "Bagging\n",
      "\n",
      "Results on training set:\n",
      "Accuracy score:  0.9939754164644994\n",
      "Precision score:  [0.99544808 0.99237254 0.99470147]\n",
      "Recall score:  [0.99135855 0.99496881 0.99508727]\n",
      "F1 score:  [0.99339911 0.99366898 0.99489433]\n",
      "---------------------------------------------------------------------\n",
      "Results on test set:\n",
      "Accuracy score:  0.6921335597057159\n",
      "Precision score:  [0.68796592 0.65643763 0.74452555]\n",
      "Recall score:  [0.64535465 0.68811189 0.73980054]\n",
      "F1 score:  [0.66597938 0.67190167 0.74215553]\n",
      "---------------------------------------------------------------------\n"
     ]
    },
    {
     "data": {
      "image/png": "[encoded data removed]",
      "text/plain": [
       "<Figure size 432x288 with 2 Axes>"
      ]
     },
     "metadata": {
      "needs_background": "light"
     },
     "output_type": "display_data"
    }
   ],
   "source": [
    "train_pred, test_pred, bagging_model, bagging_test_accuracy = run_model(models['Bagging'],'Bagging',x_train_bow,y_train,x_test_bow,y_test,le,tf_idf=False)\n",
    "save_obj(bagging_model, 'bagging_model')"
   ]
  },
  {
   "cell_type": "markdown",
   "metadata": {},
   "source": [
    "Most of the models seem to perform better than the baseline model created above, but they still have relatively low accuracies and recalls on the test set. The best performing algorithms are the logistic regression, multinomial Navier Bayes, decision tree and bagging models. They all achieve similar scores."
   ]
  },
  {
   "cell_type": "markdown",
   "metadata": {},
   "source": [
    "---"
   ]
  },
  {
   "cell_type": "markdown",
   "metadata": {},
   "source": [
    "### Ensemble Model ###"
   ]
  },
  {
   "cell_type": "markdown",
   "metadata": {},
   "source": [
    "A potential way of obtaining better classification performance could be to combine the results of a selection of the models trained so far in order to obtain a stronger classifier. We will try to do this by developing an ensemble of the logistic regression, multionomial Naive Bayes, decission tree and bagging models, as well as the baseline model created above."
   ]
  },
  {
   "cell_type": "code",
   "execution_count": 39,
   "metadata": {},
   "outputs": [],
   "source": [
    "#Load pre-trained models\n",
    "log_model = load_obj('log_model')\n",
    "m_nb_model = load_obj('m_nb_model')\n",
    "tree_model = load_obj('tree_model')\n",
    "bagging_model = load_obj('bagging_model')"
   ]
  },
  {
   "cell_type": "code",
   "execution_count": 40,
   "metadata": {},
   "outputs": [],
   "source": [
    "#Load baseline model parameters\n",
    "pos_words_selected = load_obj('pos_words_selected')\n",
    "neg_words_selected = load_obj('neg_words_selected')\n",
    "test_text_len = test.text.apply(lambda x: len(x.split()))\n",
    "\n",
    "#Baseline model results and parameters passed to ensemble model\n",
    "baseline_model = {'text_len':test_text_len, 'pos_words':pos_words_selected, \n",
    "                  'neg_words':neg_words_selected, 'limit':0,'weight':0.75} "
   ]
  },
  {
   "cell_type": "code",
   "execution_count": 58,
   "metadata": {},
   "outputs": [],
   "source": [
    "def calc_train_accuracies(models, train_data, train_labels, label_encoder,):\n",
    "    #Function that calculates the accuracy of a list of models\n",
    "    from sklearn.metrics import accuracy_score\n",
    "    accuracies = []\n",
    "    for model in models:\n",
    "        accuracies.append(accuracy_score(train_labels, label_encoder.inverse_transform(model.predict(train_data))))\n",
    "    return accuracies    "
   ]
  },
  {
   "cell_type": "code",
   "execution_count": 42,
   "metadata": {},
   "outputs": [],
   "source": [
    "def ensemble_model(data, models, model_accuracies, label_encoder, baseline=None):\n",
    "    #Combine results of multiple models based on their accuracy scores\n",
    "    #data: bag of words dataframe, label_encoder: pretrained on training dataset (used to train ML models) \n",
    "    \n",
    "    #Convert bag of words dataframe to sparse matrix \n",
    "    from scipy.sparse import csr_matrix\n",
    "    data_sparse = csr_matrix(data.values)\n",
    "    \n",
    "    #Initialize array to hold ensembe probabilities\n",
    "    ensemble_probs = np.zeros((data_sparse.shape[0],len(le.classes_)))\n",
    "    \n",
    "    #Compute ensemble classification probabilities: weighted sum of probabilities of each model (weighted by model's accuracy) \n",
    "    i = 0\n",
    "    for model in models:         \n",
    "        prob = model.predict_proba(data_sparse)\n",
    "        accuracy = model_accuracies[i]\n",
    "        ensemble_probs += (np.log(accuracy)/np.log(1-accuracy))*prob\n",
    "        i += 1\n",
    "        \n",
    "    if baseline is not None:        \n",
    "        #Run baseline model\n",
    "        baseline_pred,baseline_prob = baseline_classifier(data, baseline['text_len'],baseline['pos_words'],\n",
    "                                                          baseline['neg_words'],baseline['limit'],\n",
    "                                                          show_metrics=False,plot_confusion=False,correct_labels=None)    \n",
    "        \n",
    "        #Convert prediction probability for each text from a single float to an array of 2 zeros and 1 float \n",
    "        #(at the correct position for computing ensemble with other models)\n",
    "        baseline_pred = label_encoder.transform(baseline_pred)\n",
    "        baseline_probs = np.zeros((len(baseline_prob),3))\n",
    "        for i in range(len(baseline_prob)):\n",
    "            j = baseline_pred[i]\n",
    "            baseline_probs[i,j] = baseline_prob[i]\n",
    "        \n",
    "        #Add baseline model probabilities to ensemble probabilities\n",
    "        ensemble_probs += baseline['weight']*baseline_probs\n",
    "    \n",
    "    #Normalize probs\n",
    "    ensemble_probs = ensemble_probs/np.sum(ensemble_probs,axis=1)[:,None]\n",
    "    \n",
    "    pred = label_encoder.classes_[np.argmax(ensemble_probs,axis=1)]\n",
    "    prob = np.max(ensemble_probs,axis=1)\n",
    "    \n",
    "    return pred, prob, ensemble_probs"
   ]
  },
  {
   "cell_type": "code",
   "execution_count": 43,
   "metadata": {},
   "outputs": [],
   "source": [
    "#Select models\n",
    "selected_models = [log_model,m_nb_model,bagging_model]\n",
    "\n",
    "#Calculate model accuracies on training set (to obtain weights for ensemble model)\n",
    "model_accuracies = calc_train_accuracies(selected_models, train_matrix_norm,train.sentiment.values, le)"
   ]
  },
  {
   "cell_type": "code",
   "execution_count": 44,
   "metadata": {},
   "outputs": [],
   "source": [
    "#run ensemble model on test dataset\n",
    "pred, prob, probs_all = ensemble_model(test_df_norm, selected_models, model_accuracies, le, baseline=baseline_model)"
   ]
  },
  {
   "cell_type": "code",
   "execution_count": 45,
   "metadata": {},
   "outputs": [
    {
     "name": "stdout",
     "output_type": "stream",
     "text": [
      "Results on test set:\n",
      "Accuracy score: 0.70996\n",
      "Precision score:  [0.7459926  0.63673469 0.80555556]\n",
      "Recall score:  [0.6043956  0.76363636 0.73617407]\n",
      "F1 score:  [0.66777042 0.69443561 0.76930365]\n",
      "---------------------------------------------------------------------\n"
     ]
    },
    {
     "data": {
      "image/png": "[encoded data removed]",
      "text/plain": [
       "<Figure size 432x288 with 2 Axes>"
      ]
     },
     "metadata": {
      "needs_background": "light"
     },
     "output_type": "display_data"
    }
   ],
   "source": [
    "from sklearn.metrics import accuracy_score, precision_score, recall_score, f1_score\n",
    "print('Results on test set:')\n",
    "print('Accuracy score: {:.5f}'.format(accuracy_score(test.sentiment.values, pred)))\n",
    "print('Precision score: ', format(precision_score(test.sentiment.values, pred, average=None)))\n",
    "print('Recall score: ', format(recall_score(test.sentiment.values, pred, average=None)))\n",
    "print('F1 score: ', format(f1_score(test.sentiment.values, pred, average=None)))\n",
    "print('---------------------------------------------------------------------')\n",
    "\n",
    "#Plot confusion matrix\n",
    "from sklearn.metrics import confusion_matrix\n",
    "import seaborn as sns\n",
    "\n",
    "cm = confusion_matrix(test.sentiment.values, pred, ['positive','neutral','negative'])\n",
    "\n",
    "ax= plt.subplot()\n",
    "sns.heatmap(cm, annot=True, ax = ax)\n",
    "ax.set_xlabel('Predicted labels')\n",
    "ax.set_ylabel('True labels')\n",
    "ax.set_title('Confusion Matrix - Test Set') \n",
    "ax.xaxis.set_ticklabels(le.inverse_transform([0,1,2]))\n",
    "ax.yaxis.set_ticklabels(le.inverse_transform([0,1,2]))\n",
    "plt.show()"
   ]
  },
  {
   "cell_type": "markdown",
   "metadata": {},
   "source": [
    "The ensemble model has a slightly better performance compared to the individual classifiers. However, the improvement does not seem to be material to justify using the much more complex ensemble model."
   ]
  },
  {
   "cell_type": "markdown",
   "metadata": {},
   "source": [
    "---"
   ]
  },
  {
   "cell_type": "markdown",
   "metadata": {},
   "source": [
    "### Deep Learning ###"
   ]
  },
  {
   "cell_type": "markdown",
   "metadata": {},
   "source": [
    "Finally, we will switch to deep learning and try to train a long short-term memory (LSTM) network in order to classify the tweets more accurately.\n",
    "\n",
    "A very helpful guide to LSTMs can be found here: https://towardsdatascience.com/illustrated-guide-to-lstms-and-gru-s-a-step-by-step-explanation-44e9eb85bf21"
   ]
  },
  {
   "cell_type": "code",
   "execution_count": 1,
   "metadata": {},
   "outputs": [
    {
     "name": "stderr",
     "output_type": "stream",
     "text": [
      "Using TensorFlow backend.\n"
     ]
    }
   ],
   "source": [
    "# Import Keras text processing functions\n",
    "from keras.preprocessing.text import Tokenizer\n",
    "from keras.preprocessing.sequence import pad_sequences"
   ]
  },
  {
   "cell_type": "markdown",
   "metadata": {},
   "source": [
    "The text will first need to be converted into a sequence of integers before being passed into the LSTM. To do this we will use the Keras' Tokenizer function:"
   ]
  },
  {
   "cell_type": "code",
   "execution_count": 34,
   "metadata": {},
   "outputs": [],
   "source": [
    "#combine (pre-processed) train and test datasets\n",
    "all_text = list(train_text_norm.values) + list(test_text_norm.values)"
   ]
  },
  {
   "cell_type": "code",
   "execution_count": 35,
   "metadata": {},
   "outputs": [],
   "source": [
    "#set maximum number of words to be kept by the tokenizer\n",
    "max_words = 30913"
   ]
  },
  {
   "cell_type": "code",
   "execution_count": 36,
   "metadata": {},
   "outputs": [],
   "source": [
    "#set up tokenizer\n",
    "tokenizer = Tokenizer(num_words=max_words,lower=True)"
   ]
  },
  {
   "cell_type": "code",
   "execution_count": 37,
   "metadata": {},
   "outputs": [],
   "source": [
    "#fit tokenizer to training texts\n",
    "tokenizer.fit_on_texts(all_text)"
   ]
  },
  {
   "cell_type": "code",
   "execution_count": 38,
   "metadata": {},
   "outputs": [],
   "source": [
    "#store an index of all the words that have been vectorized by the tokenizer\n",
    "word_index = tokenizer.word_index"
   ]
  },
  {
   "cell_type": "code",
   "execution_count": 39,
   "metadata": {},
   "outputs": [
    {
     "data": {
      "text/plain": [
       "30913"
      ]
     },
     "execution_count": 39,
     "metadata": {},
     "output_type": "execute_result"
    }
   ],
   "source": [
    "len(word_index)"
   ]
  },
  {
   "cell_type": "code",
   "execution_count": 40,
   "metadata": {},
   "outputs": [],
   "source": [
    "#convert training, test and validation texts to sequences of tokens\n",
    "x_train_vec = tokenizer.texts_to_sequences(x_train.values)\n",
    "x_test_vec = tokenizer.texts_to_sequences(x_test.values)\n",
    "x_valid_vec = tokenizer.texts_to_sequences(x_valid.values)"
   ]
  },
  {
   "cell_type": "markdown",
   "metadata": {},
   "source": [
    "Make the length of all sequences the same (by padding the start of each sequence):"
   ]
  },
  {
   "cell_type": "code",
   "execution_count": 41,
   "metadata": {},
   "outputs": [
    {
     "name": "stdout",
     "output_type": "stream",
     "text": [
      "Max tweet length: 33 words\n"
     ]
    }
   ],
   "source": [
    "max_length = max(x_train.apply(lambda x: len(x.split())).max(),x_test.apply(lambda x: len(x.split())).max(),x_valid.apply(lambda x: len(x.split())).max())\n",
    "print('Max tweet length: {} words'.format(max_length))"
   ]
  },
  {
   "cell_type": "code",
   "execution_count": 42,
   "metadata": {},
   "outputs": [],
   "source": [
    "x_train_vec = pad_sequences(x_train_vec,max_length)\n",
    "x_test_vec = pad_sequences(x_test_vec,max_length)\n",
    "x_valid_vec = pad_sequences(x_valid_vec,max_length)"
   ]
  },
  {
   "cell_type": "code",
   "execution_count": 43,
   "metadata": {},
   "outputs": [
    {
     "data": {
      "text/plain": [
       "(24732, 33)"
      ]
     },
     "execution_count": 43,
     "metadata": {},
     "output_type": "execute_result"
    }
   ],
   "source": [
    "x_train_vec.shape"
   ]
  },
  {
   "cell_type": "code",
   "execution_count": 44,
   "metadata": {},
   "outputs": [
    {
     "data": {
      "text/plain": [
       "(3534, 33)"
      ]
     },
     "execution_count": 44,
     "metadata": {},
     "output_type": "execute_result"
    }
   ],
   "source": [
    "x_test_vec.shape"
   ]
  },
  {
   "cell_type": "markdown",
   "metadata": {},
   "source": [
    "Finally, the sentiment labels will need to be one-hot encoded in order to be used by the neural net: "
   ]
  },
  {
   "cell_type": "code",
   "execution_count": 45,
   "metadata": {},
   "outputs": [],
   "source": [
    "#one-hot encode labels\n",
    "y_train_cat = pd.get_dummies(y_train)\n",
    "y_valid_cat = pd.get_dummies(y_valid)\n",
    "y_test_cat = pd.get_dummies(y_test)"
   ]
  },
  {
   "cell_type": "markdown",
   "metadata": {},
   "source": [
    "Word embeddings are vector representations of words, which provide an effective method for measuring the similarity of words and representing it computationally. Embeddings can be learned by a neural network, but this is a difficult and time-consuming process. Luckily there are various pre-trained word embeddings available online, which can be directly imported into our LSTM. In this case, we will use the GloVe embeddings developed by Stanford, which have been pre-trained on twitter data (https://nlp.stanford.edu/projects/glove/ ). "
   ]
  },
  {
   "cell_type": "markdown",
   "metadata": {},
   "source": [
    "We will load the GloVe embeddings and obtain the embedding weights for each word in the word_index obtained above. \n",
    "\n",
    "Note that as this is computationally intensive, the following code has been ran once and the results were stored in a .pkl file so that they can be loaded every time the notebook is used. This is why the code in the cells below is commented out."
   ]
  },
  {
   "cell_type": "code",
   "execution_count": 55,
   "metadata": {},
   "outputs": [],
   "source": [
    "#Load GloVe embeddings\n",
    "# f = open('glove.twitter.27B.100d.txt',\"r\", encoding=\"utf-8\")\n",
    "# count = 0\n",
    "# for line in f:\n",
    "#     count+=1\n",
    "# f.close()\n",
    "# print('Number of words in embedding:', count)"
   ]
  },
  {
   "cell_type": "code",
   "execution_count": null,
   "metadata": {
    "scrolled": true
   },
   "outputs": [],
   "source": [
    "#Store pre-trained embeddings in a dictionary\n",
    "# i=0\n",
    "# embeddings_index = dict()\n",
    "# f = open('glove.twitter.27B.100d.txt',\"r\", encoding=\"utf-8\")\n",
    "# for line in f:\n",
    "#     values = line.split()\n",
    "#     word = values[0]\n",
    "#     if word in list(word_index.keys()): \n",
    "#         coefs = np.asarray(values[1:], dtype='float32')\n",
    "#         embeddings_index[word] = coefs\n",
    "#     print('{}/{}'.format(i,count))\n",
    "#     i+=1\n",
    "# f.close()\n",
    "# print('Loaded %s word vectors.' % len(embeddings_index))"
   ]
  },
  {
   "cell_type": "code",
   "execution_count": 186,
   "metadata": {},
   "outputs": [],
   "source": [
    "#Save dictionary to a .pkl file\n",
    "#save_obj(embeddings_index,'pre_embeddings_100_all')"
   ]
  },
  {
   "cell_type": "code",
   "execution_count": 50,
   "metadata": {},
   "outputs": [],
   "source": [
    "#Load embeddings dict\n",
    "embeddings_index = load_obj('pre_embeddings_100_all')"
   ]
  },
  {
   "cell_type": "code",
   "execution_count": 51,
   "metadata": {},
   "outputs": [],
   "source": [
    "#Create a weight matrix for words in training and test docs\n",
    "embedding_matrix = np.zeros((len(word_index), 100))\n",
    "for word, i in word_index.items():\n",
    "    embedding_vector = embeddings_index.get(word)\n",
    "    if embedding_vector is not None:\n",
    "        embedding_matrix[i] = embedding_vector"
   ]
  },
  {
   "cell_type": "code",
   "execution_count": 52,
   "metadata": {},
   "outputs": [
    {
     "data": {
      "text/plain": [
       "(30913, 100)"
      ]
     },
     "execution_count": 52,
     "metadata": {},
     "output_type": "execute_result"
    }
   ],
   "source": [
    "embedding_matrix.shape"
   ]
  },
  {
   "cell_type": "code",
   "execution_count": 53,
   "metadata": {},
   "outputs": [],
   "source": [
    "#Save embeddings matrix to a .pkl file\n",
    "# save_obj(embedding_matrix,'pre_embeddings_100')"
   ]
  },
  {
   "cell_type": "code",
   "execution_count": 54,
   "metadata": {},
   "outputs": [],
   "source": [
    "#Load embeddings matrix \n",
    "#embedding_matrix = load_obj('pre_embeddings_100')"
   ]
  },
  {
   "cell_type": "markdown",
   "metadata": {},
   "source": [
    "We will now define the LSTM's architecture:\n",
    "\n",
    "(Note that the following network structure has been chosen after testing a range of alternative options.)"
   ]
  },
  {
   "cell_type": "code",
   "execution_count": 55,
   "metadata": {},
   "outputs": [
    {
     "name": "stdout",
     "output_type": "stream",
     "text": [
      "WARNING:tensorflow:From C:\\Users\\Alex\\Anaconda3\\lib\\site-packages\\tensorflow\\python\\framework\\op_def_library.py:263: colocate_with (from tensorflow.python.framework.ops) is deprecated and will be removed in a future version.\n",
      "Instructions for updating:\n",
      "Colocations handled automatically by placer.\n",
      "WARNING:tensorflow:From C:\\Users\\Alex\\Anaconda3\\lib\\site-packages\\keras\\backend\\tensorflow_backend.py:3445: calling dropout (from tensorflow.python.ops.nn_ops) with keep_prob is deprecated and will be removed in a future version.\n",
      "Instructions for updating:\n",
      "Please use `rate` instead of `keep_prob`. Rate should be set to `rate = 1 - keep_prob`.\n",
      "_________________________________________________________________\n",
      "Layer (type)                 Output Shape              Param #   \n",
      "=================================================================\n",
      "embedding_1 (Embedding)      (None, 33, 100)           3091300   \n",
      "_________________________________________________________________\n",
      "spatial_dropout1d_1 (Spatial (None, 33, 100)           0         \n",
      "_________________________________________________________________\n",
      "lstm_1 (LSTM)                (None, 33, 150)           150600    \n",
      "_________________________________________________________________\n",
      "spatial_dropout1d_2 (Spatial (None, 33, 150)           0         \n",
      "_________________________________________________________________\n",
      "lstm_2 (LSTM)                (None, 33, 150)           180600    \n",
      "_________________________________________________________________\n",
      "spatial_dropout1d_3 (Spatial (None, 33, 150)           0         \n",
      "_________________________________________________________________\n",
      "lstm_3 (LSTM)                (None, 150)               180600    \n",
      "_________________________________________________________________\n",
      "dense_1 (Dense)              (None, 3)                 453       \n",
      "=================================================================\n",
      "Total params: 3,603,553\n",
      "Trainable params: 512,253\n",
      "Non-trainable params: 3,091,300\n",
      "_________________________________________________________________\n"
     ]
    }
   ],
   "source": [
    "from keras.models import Sequential\n",
    "from keras.layers import Embedding, LSTM, Dense\n",
    "from keras.layers import SpatialDropout1D, Dropout\n",
    "\n",
    "model = Sequential()\n",
    "#model.add(Embedding(max_words, 25, input_length=x_train.shape[1])) #Embedding layer if embeddings were to be learned by the LSTM\n",
    "model.add(Embedding(max_words, 100, weights=[embedding_matrix], input_length=x_train_vec.shape[1],trainable=False)) #input pre-trained embeddings\n",
    "model.add(SpatialDropout1D(0.25))\n",
    "model.add(LSTM(150,return_sequences=True,dropout=0.25, recurrent_dropout=0.25))\n",
    "model.add(SpatialDropout1D(0.25))\n",
    "model.add(LSTM(150,return_sequences=True,dropout=0.25, recurrent_dropout=0.25))\n",
    "model.add(SpatialDropout1D(0.25))\n",
    "model.add(LSTM(150,return_sequences=False,dropout=0.25, recurrent_dropout=0.25))\n",
    "\n",
    "model.add(Dense(y_train_cat.shape[1], activation='softmax'))\n",
    "\n",
    "model.summary()"
   ]
  },
  {
   "cell_type": "markdown",
   "metadata": {},
   "source": [
    "Let's now train the LSTM. We will use the Adam optimizer with a learning rate of 0.01 and train the neural network for a maximum of 25 epochs. Early stopping will be used to stop the training if performance degrades after a certain number of epochs, in order to avoid overfitting. "
   ]
  },
  {
   "cell_type": "code",
   "execution_count": 56,
   "metadata": {},
   "outputs": [],
   "source": [
    "#Callback to plot loss while training\n",
    "from plot_learning import PlotLearning\n",
    "plot_learning = PlotLearning()"
   ]
  },
  {
   "cell_type": "code",
   "execution_count": 57,
   "metadata": {},
   "outputs": [],
   "source": [
    "from keras.optimizers import Adam\n",
    "opt = Adam(lr=0.01)\n",
    "model.compile(loss='categorical_crossentropy', optimizer='adam', metrics=['accuracy'])"
   ]
  },
  {
   "cell_type": "code",
   "execution_count": 58,
   "metadata": {},
   "outputs": [
    {
     "data": {
      "image/png": "[encoded data removed]",
      "text/plain": [
       "<Figure size 432x288 with 1 Axes>"
      ]
     },
     "metadata": {
      "needs_background": "light"
     },
     "output_type": "display_data"
    }
   ],
   "source": [
    "from keras.callbacks import EarlyStopping\n",
    "\n",
    "epochs = 25\n",
    "batch_size = 64\n",
    "\n",
    "hist = model.fit(x_train_vec, y_train_cat, epochs=epochs, batch_size=batch_size, validation_data=[x_valid_vec,y_valid_cat], callbacks=[plot_learning,EarlyStopping(monitor='val_loss', patience=3, min_delta=0.0001)], verbose=0)\n",
    "#validation_data=[x_valid_vec,y_valid_cat]\n",
    "#callbacks=[EarlyStopping(monitor='val_loss', patience=3, min_delta=0.0001)]\n"
   ]
  },
  {
   "cell_type": "code",
   "execution_count": 59,
   "metadata": {},
   "outputs": [
    {
     "data": {
      "image/png": "[encoded data removed]",
      "text/plain": [
       "<Figure size 432x288 with 1 Axes>"
      ]
     },
     "metadata": {
      "needs_background": "light"
     },
     "output_type": "display_data"
    }
   ],
   "source": [
    "plt.title('Loss')\n",
    "plt.plot(hist.history['loss'], label='train')\n",
    "plt.plot(hist.history['val_loss'], label='validation')\n",
    "plt.xlabel('Epoch')\n",
    "plt.ylabel('Loss')\n",
    "plt.legend()\n",
    "plt.show()"
   ]
  },
  {
   "cell_type": "code",
   "execution_count": 60,
   "metadata": {},
   "outputs": [
    {
     "data": {
      "image/png": "[encoded data removed]",
      "text/plain": [
       "<Figure size 432x288 with 1 Axes>"
      ]
     },
     "metadata": {
      "needs_background": "light"
     },
     "output_type": "display_data"
    }
   ],
   "source": [
    "plt.title('Accuracy')\n",
    "plt.plot(hist.history['acc'], label='train')\n",
    "plt.plot(hist.history['val_acc'], label='validation')\n",
    "plt.xlabel('Epoch')\n",
    "plt.ylabel('Accuracy')\n",
    "plt.legend()\n",
    "plt.show()"
   ]
  },
  {
   "cell_type": "code",
   "execution_count": 66,
   "metadata": {},
   "outputs": [],
   "source": [
    "#Save the trained LSTM to a .pkl file\n",
    "save_obj(model,'lstm_model')"
   ]
  },
  {
   "cell_type": "code",
   "execution_count": 38,
   "metadata": {},
   "outputs": [],
   "source": [
    "#Load trained LSTM\n",
    "model = load_obj('lstm_model')"
   ]
  },
  {
   "cell_type": "markdown",
   "metadata": {},
   "source": [
    "Now that the LSTM is trained on the training data, let's evaluate it's performance on the test dataset:"
   ]
  },
  {
   "cell_type": "code",
   "execution_count": 54,
   "metadata": {},
   "outputs": [],
   "source": [
    "#Test on test set\n",
    "pred = model.predict(x_test_vec)"
   ]
  },
  {
   "cell_type": "code",
   "execution_count": 55,
   "metadata": {},
   "outputs": [],
   "source": [
    "#Convert predictions from numerical to the classes' names\n",
    "label_dict = {0: 'negative', 1: 'neutral', 2: 'positive'}\n",
    "pred = [label_dict[pred_i] for pred_i in np.argmax(pred,axis=1)]"
   ]
  },
  {
   "cell_type": "code",
   "execution_count": 57,
   "metadata": {},
   "outputs": [
    {
     "name": "stdout",
     "output_type": "stream",
     "text": [
      "Results on test set:\n",
      "Accuracy score: 0.76542\n",
      "Precision score:  [0.72876712 0.73516949 0.84652981]\n",
      "Recall score:  [0.7972028  0.72797203 0.78513146]\n",
      "F1 score:  [0.76145038 0.73155306 0.81467545]\n",
      "---------------------------------------------------------------------\n"
     ]
    },
    {
     "data": {
      "image/png": "[encoded data removed]",
      "text/plain": [
       "<Figure size 432x288 with 2 Axes>"
      ]
     },
     "metadata": {
      "needs_background": "light"
     },
     "output_type": "display_data"
    }
   ],
   "source": [
    "from sklearn.metrics import accuracy_score, precision_score, recall_score, f1_score\n",
    "print('Results on test set:')\n",
    "print('Accuracy score: {:.5f}'.format(accuracy_score(y_test, pred)))\n",
    "print('Precision score: ', format(precision_score(y_test, pred, average=None)))\n",
    "print('Recall score: ', format(recall_score(y_test, pred, average=None)))\n",
    "print('F1 score: ', format(f1_score(y_test, pred, average=None)))\n",
    "print('---------------------------------------------------------------------')\n",
    "\n",
    "#Plot confusion matrix\n",
    "from sklearn.metrics import confusion_matrix\n",
    "import seaborn as sns\n",
    "\n",
    "cm = confusion_matrix(y_test, pred, ['negative','neutral','positive'])\n",
    "\n",
    "ax= plt.subplot()\n",
    "sns.heatmap(cm, annot=True, ax = ax)\n",
    "ax.set_xlabel('Predicted labels')\n",
    "ax.set_ylabel('True labels')\n",
    "ax.set_title('Confusion Matrix - Test Set') \n",
    "ax.xaxis.set_ticklabels(['negative','neutral','positive'])\n",
    "ax.yaxis.set_ticklabels(['negative','neutral','positive'])\n",
    "plt.show()"
   ]
  },
  {
   "cell_type": "markdown",
   "metadata": {},
   "source": [
    "The LSTM performs better than all the previously tested models on this classification task. It has an accuracy of 76% on the test set, with recall, precission and F1 scores of more than 70% for all three sentiment classes. "
   ]
  },
  {
   "cell_type": "markdown",
   "metadata": {},
   "source": [
    "The main confusion in the model's predictions seems to be between negative and neutral tweets. Arround 260 tweets with neutral sentiment have been predicted as having a negative sentiment while 180 tweets with negative sentiments have been classified as neutral. Let's see some examples of misclassified tweets:"
   ]
  },
  {
   "cell_type": "code",
   "execution_count": 58,
   "metadata": {},
   "outputs": [],
   "source": [
    "predictions = pd.DataFrame(test.text)\n",
    "predictions['true_class'] = test.sentiment\n",
    "predictions['pred_class'] = pred"
   ]
  },
  {
   "cell_type": "markdown",
   "metadata": {},
   "source": [
    "Neutral tweets incorrectly classified as negative:"
   ]
  },
  {
   "cell_type": "code",
   "execution_count": 77,
   "metadata": {},
   "outputs": [
    {
     "data": {
      "text/plain": [
       "'missin the #ia2009 guys really'"
      ]
     },
     "execution_count": 77,
     "metadata": {},
     "output_type": "execute_result"
    }
   ],
   "source": [
    "predictions[(predictions.true_class=='neutral')&(predictions.pred_class=='negative')].sample().text.values[0]"
   ]
  },
  {
   "cell_type": "markdown",
   "metadata": {},
   "source": [
    "Negative tweets incorrectly classified as neutral:"
   ]
  },
  {
   "cell_type": "code",
   "execution_count": 80,
   "metadata": {},
   "outputs": [
    {
     "data": {
      "text/plain": [
       "'i wear a lot of white  http://tinyurl.com/dlbltg'"
      ]
     },
     "execution_count": 80,
     "metadata": {},
     "output_type": "execute_result"
    }
   ],
   "source": [
    "predictions[(predictions.true_class=='negative')&(predictions.pred_class=='neutral')].sample().text.values[0]"
   ]
  },
  {
   "cell_type": "markdown",
   "metadata": {},
   "source": [
    "Neutral tweets incorrectly classified as positive:"
   ]
  },
  {
   "cell_type": "code",
   "execution_count": 84,
   "metadata": {},
   "outputs": [
    {
     "data": {
      "text/plain": [
       "'Yay got the Internet on my itouch working'"
      ]
     },
     "execution_count": 84,
     "metadata": {},
     "output_type": "execute_result"
    }
   ],
   "source": [
    "predictions[(predictions.true_class=='neutral')&(predictions.pred_class=='positive')].sample().text.values[0]"
   ]
  },
  {
   "cell_type": "markdown",
   "metadata": {},
   "source": [
    "Positive tweets incorrectly classified as neutral:"
   ]
  },
  {
   "cell_type": "code",
   "execution_count": 86,
   "metadata": {},
   "outputs": [
    {
     "data": {
      "text/plain": [
       "' - ummmm. no comment. LOL. I actually have not watched GH in about a week.'"
      ]
     },
     "execution_count": 86,
     "metadata": {},
     "output_type": "execute_result"
    }
   ],
   "source": [
    "predictions[(predictions.true_class=='positive')&(predictions.pred_class=='neutral')].sample().text.values[0]"
   ]
  },
  {
   "cell_type": "code",
   "execution_count": 71,
   "metadata": {},
   "outputs": [],
   "source": [
    "predictions[(predictions.true_class!=predictions.pred_class)].to_csv('test_check.csv')"
   ]
  },
  {
   "cell_type": "markdown",
   "metadata": {},
   "source": [
    "It can be seen from the above examples that in some cases the sentiment predicted by the LSTM seems more reasonable than that assigned by humans when creating the test set. For example, 'missin the #ia2009...' could have easily been a negative tweet, while 'Yay got the Internet on my itouch working' seems to be more positive than neutral. Therefore, the labelling of the test dataset may have errors. If that's the case the sentiment classification performance of our LSTM may be even better than what was found above."
   ]
  },
  {
   "cell_type": "markdown",
   "metadata": {},
   "source": [
    "---"
   ]
  },
  {
   "cell_type": "markdown",
   "metadata": {},
   "source": [
    "In conclusion, a number of different approaches ranging from simple to more complex models have been tested on this text classification task. The LSTM network trained using pre-trained word embeddings had the best performance on the test dataset. Further optimization of the LSTM and additional pre-processing of the text could result in even better results."
   ]
  }
 ],
 "metadata": {
  "kernelspec": {
   "display_name": "Python 3",
   "language": "python",
   "name": "python3"
  },
  "language_info": {
   "codemirror_mode": {
    "name": "ipython",
    "version": 3
   },
   "file_extension": ".py",
   "mimetype": "text/x-python",
   "name": "python",
   "nbconvert_exporter": "python",
   "pygments_lexer": "ipython3",
   "version": "3.7.1"
  }
 },
 "nbformat": 4,
 "nbformat_minor": 2
}
